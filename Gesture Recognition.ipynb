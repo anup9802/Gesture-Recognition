{
 "cells": [
  {
   "cell_type": "markdown",
   "metadata": {},
   "source": [
    "# Gesture Recognition\n",
    "\n",
    "In this project we are going to build a CNN based model, for smart TV, that will be able to predict 5 gestures correctly:\n",
    "\n",
    "* Thumbs up:  Increase the volume\n",
    "* Thumbs down: Decrease the volume\n",
    "* Left swipe: 'Jump' backwards 10 seconds\n",
    "* Right swipe: 'Jump' forward 10 seconds  \n",
    "* Stop: Pause the movie"
   ]
  },
  {
   "cell_type": "markdown",
   "metadata": {},
   "source": [
    "#### Importing necessary libraries"
   ]
  },
  {
   "cell_type": "code",
   "execution_count": 1,
   "metadata": {},
   "outputs": [
    {
     "name": "stderr",
     "output_type": "stream",
     "text": [
      "Using TensorFlow backend.\n"
     ]
    }
   ],
   "source": [
    "import numpy as np\n",
    "import os\n",
    "from scipy.misc import imread, imresize\n",
    "import datetime\n",
    "import os\n",
    "from keras.models import Sequential, Model\n",
    "from keras.layers import Dense, GRU, Flatten, TimeDistributed, Flatten, BatchNormalization, Activation, Dropout\n",
    "from keras.layers.convolutional import Conv3D, MaxPooling3D\n",
    "from keras.callbacks import ModelCheckpoint, ReduceLROnPlateau\n",
    "from keras import optimizers\n",
    "import keras\n",
    "import cv2\n",
    "import matplotlib.pyplot as plt\n",
    "import imageio"
   ]
  },
  {
   "cell_type": "code",
   "execution_count": 2,
   "metadata": {},
   "outputs": [],
   "source": [
    "np.random.seed(30)\n",
    "import random as rn\n",
    "rn.seed(30)\n",
    "from keras import backend as K\n",
    "import tensorflow as tf\n",
    "tf.set_random_seed(30)"
   ]
  },
  {
   "cell_type": "code",
   "execution_count": 3,
   "metadata": {},
   "outputs": [],
   "source": [
    "from keras.models import Sequential, Model\n",
    "from keras.layers import Dense, GRU, Flatten, TimeDistributed, Flatten, BatchNormalization, Activation, Dropout, LSTM\n",
    "from keras.layers.convolutional import Conv3D, MaxPooling3D, MaxPooling2D, Conv2D\n",
    "from keras.callbacks import ModelCheckpoint, ReduceLROnPlateau\n",
    "from keras import optimizers\n",
    "import keras\n",
    "\n",
    "from keras.applications import mobilenet"
   ]
  },
  {
   "cell_type": "markdown",
   "metadata": {},
   "source": [
    "#### Defining plotting function"
   ]
  },
  {
   "cell_type": "code",
   "execution_count": 4,
   "metadata": {},
   "outputs": [],
   "source": [
    "def plot(history):\n",
    "    fig, axes = plt.subplots(nrows=1, ncols=2, figsize=(15,4))\n",
    "    axes[0].plot(history.history['loss'])   \n",
    "    axes[0].plot(history.history['val_loss'])\n",
    "    axes[0].legend(['loss','val_loss'])\n",
    "\n",
    "    axes[1].plot(history.history['categorical_accuracy'])   \n",
    "    axes[1].plot(history.history['val_categorical_accuracy'])\n",
    "    axes[1].legend(['categorical_accuracy','val_categorical_accuracy'])"
   ]
  },
  {
   "cell_type": "markdown",
   "metadata": {},
   "source": [
    "#### Paths to the csv files (traing and validation). Each row of the CSV file represents one video and contains three main pieces of information - the name of the subfolder containing the 30 images of the video, the name of the gesture and the numeric label (between 0-4) of the video."
   ]
  },
  {
   "cell_type": "code",
   "execution_count": 5,
   "metadata": {},
   "outputs": [],
   "source": [
    "train_doc = np.random.permutation(open('/mnt/disks/user/project/PROJECT/Project_data/train.csv').readlines())\n",
    "val_doc = np.random.permutation(open('/mnt/disks/user/project/PROJECT/Project_data/val.csv').readlines())\n",
    "batch_size = 20"
   ]
  },
  {
   "cell_type": "markdown",
   "metadata": {},
   "source": [
    "### Defining generator function\n",
    "This is one of the most important part of the code. In the generator, we are going to preprocess the images as we have images of 2 different dimensions as well as create a batch of video frames. Here, we need to experiment with img_idx, y,z and normalization such that we get high accuracy."
   ]
  },
  {
   "cell_type": "code",
   "execution_count": 59,
   "metadata": {},
   "outputs": [],
   "source": [
    "x = 30 # number of frames\n",
    "y = 120 # image width\n",
    "z = 120 # image height\n",
    "\n",
    "def generator(source_path, folder_list, batch_size):\n",
    "    print( 'Source path = ', source_path, '; batch size =', batch_size)\n",
    "    img_idx = [num for num in range(0,x)] #create a list of image numbers you want to use for a particular video\n",
    "    while True:\n",
    "        t = np.random.permutation(folder_list)\n",
    "        num_batches = len(folder_list)//batch_size # calculate the number of batches\n",
    "        for batch in range(num_batches): # we iterate over the number of batches\n",
    "            batch_data = np.zeros((batch_size,len(img_idx),y,z,3)) # x is the number of images you use for each video, (y,z) is the final size of the input images and 3 is the number of channels RGB\n",
    "            batch_labels = np.zeros((batch_size,5)) # batch_labels is the one hot representation of the output\n",
    "            for folder in range(batch_size): # iterate over the batch_size\n",
    "                imgs = os.listdir(source_path+'/'+ t[folder + (batch*batch_size)].split(';')[0]) # read all the images in the folder\n",
    "                for idx,item in enumerate(img_idx): #  Iterate iver the frames/images of a folder to read them in\n",
    "                    image = imread(source_path+'/'+ t[folder + (batch*batch_size)].strip().split(';')[0]+'/'+imgs[item]).astype(np.float32)\n",
    "                    \n",
    "                    #crop the images and resize them. Note that the images are of 2 different shape \n",
    "                    #and the conv3D will throw error if the inputs in a batch have different shapes\n",
    "                    \n",
    "                    imgage_re = imresize(image,(120,120))\n",
    "                    image_nor = imgage_re/255-1 #Normalize data\n",
    "                    \n",
    "                    batch_data[folder,idx,:,:,0] = (imgage_re[:,:,0]) #normalise and feed in the image\n",
    "                    batch_data[folder,idx,:,:,1] = (imgage_re[:,:,1]) #normalise and feed in the image\n",
    "                    batch_data[folder,idx,:,:,2] = (imgage_re[:,:,2]) #normalise and feed in the image\n",
    "                    \n",
    "                batch_labels[folder, int(t[folder + (batch*batch_size)].strip().split(';')[2])] = 1\n",
    "            yield batch_data, batch_labels #you yield the batch_data and the batch_labels, remember what does yield do\n",
    "\n",
    "        \n",
    "        # write the code for the remaining data points which are left after full batches\n",
    "        if (len(folder_list) != batch_size*num_batches):\n",
    "            print(\"Batch: \",num_batches+1,\"Index:\", batch_size)\n",
    "            batch_size = len(folder_list) - (batch_size*num_batches)\n",
    "            batch_data = np.zeros((batch_size,len(img_idx),y,z,3)) # x is the number of images you use for each video, (y,z) is the final size of the input images and 3 is the number of channels RGB\n",
    "            batch_labels = np.zeros((batch_size,5)) # batch_labels is the one hot representation of the output\n",
    "            for folder in range(batch_size): # iterate over the batch_size\n",
    "                imgs = os.listdir(source_path+'/'+ t[folder + (batch*batch_size)].split(';')[0]) # read all the images in the folder\n",
    "                for idx,item in enumerate(img_idx): #  Iterate iver the frames/images of a folder to read them in\n",
    "                    image = imread(source_path+'/'+ t[folder + (batch*batch_size)].strip().split(';')[0]+'/'+imgs[item]).astype(np.float32)\n",
    "                    \n",
    "                    #crop the images and resize them. Note that the images are of 2 different shape \n",
    "                    #and the conv3D will throw error if the inputs in a batch have different shapes\n",
    "                    imgage_re = imresize(image,(120,120))\n",
    "                    image_nor = imgage_re/255-1 #Normalize data\n",
    "                    \n",
    "                    batch_data[folder,idx,:,:,0] = (imgage_re[:,:,0]) #normalise and feed in the image\n",
    "                    batch_data[folder,idx,:,:,1] = (imgage_re[:,:,1]) #normalise and feed in the image\n",
    "                    batch_data[folder,idx,:,:,2] = (imgage_re[:,:,2]) #normalise and feed in the image\n",
    "                   \n",
    "                batch_labels[folder, int(t[folder + (batch*batch_size)].strip().split(';')[2])] = 1\n",
    "            yield batch_data, batch_labels"
   ]
  },
  {
   "cell_type": "code",
   "execution_count": 60,
   "metadata": {},
   "outputs": [],
   "source": [
    "curr_dt_time = datetime.datetime.now()\n",
    "train_path = '/notebooks/storage/Final_data/Collated_training/train'\n",
    "val_path = '/notebooks/storage/Final_data/Collated_training/val'\n",
    "num_train_sequences = len(train_doc)\n",
    "num_val_sequences = len(val_doc)"
   ]
  },
  {
   "cell_type": "code",
   "execution_count": 61,
   "metadata": {
    "scrolled": true
   },
   "outputs": [],
   "source": [
    "train_generator = generator(train_path, train_doc, batch_size)"
   ]
  },
  {
   "cell_type": "markdown",
   "metadata": {},
   "source": [
    "## Model Building"
   ]
  },
  {
   "cell_type": "markdown",
   "metadata": {},
   "source": [
    "### Base Model: Model-1_Conv_3D"
   ]
  },
  {
   "cell_type": "code",
   "execution_count": 9,
   "metadata": {
    "scrolled": false
   },
   "outputs": [],
   "source": [
    "#write your model here\n",
    "#model a\n",
    "model_a = Sequential()\n",
    "\n",
    "model_a.add(Conv3D(8, #number of filters \n",
    "                 kernel_size=(3,3,3), \n",
    "                 input_shape=(30, 120, 120, 3),\n",
    "                 padding='same'))\n",
    "model_a.add(BatchNormalization())\n",
    "model_a.add(Activation('relu'))\n",
    "\n",
    "model_a.add(MaxPooling3D(pool_size=(2,2,2)))\n",
    "\n",
    "model_a.add(Conv3D(16, #Number of filters, \n",
    "                 kernel_size=(3,3,3), \n",
    "                 padding='same'))\n",
    "model_a.add(BatchNormalization())\n",
    "model_a.add(Activation('relu'))\n",
    "\n",
    "model_a.add(MaxPooling3D(pool_size=(2,2,2)))\n",
    "\n",
    "model_a.add(Conv3D(32, #Number of filters \n",
    "                 kernel_size=(1,3,3), \n",
    "                 padding='same'))\n",
    "model_a.add(BatchNormalization())\n",
    "model_a.add(Activation('relu'))\n",
    "\n",
    "model_a.add(MaxPooling3D(pool_size=(2,2,2)))\n",
    "\n",
    "model_a.add(Conv3D(64, #Number pf filters \n",
    "                 kernel_size=(1,3,3), \n",
    "                 padding='same'))\n",
    "model_a.add(BatchNormalization())\n",
    "model_a.add(Activation('relu'))\n",
    "\n",
    "model_a.add(MaxPooling3D(pool_size=(2,2,2)))\n",
    "\n",
    "model_a.add(Conv3D(128, #Number pf filters \n",
    "                 kernel_size=(1,3,3), \n",
    "                 padding='same'))\n",
    "model_a.add(BatchNormalization())\n",
    "model_a.add(Activation('relu'))\n",
    "\n",
    "model_a.add(MaxPooling3D(pool_size=(1,2,2)))\n",
    "\n",
    "#Flatten Layers\n",
    "model_a.add(Flatten())\n",
    "\n",
    "model_a.add(Dense(1000, activation='relu'))\n",
    "model_a.add(Dropout(0.5))\n",
    "\n",
    "model_a.add(Dense(500, activation='relu'))\n",
    "model_a.add(Dropout(0.5))\n",
    "\n",
    "#softmax layer\n",
    "model_a.add(Dense(5, activation='softmax'))"
   ]
  },
  {
   "cell_type": "code",
   "execution_count": 10,
   "metadata": {},
   "outputs": [
    {
     "name": "stdout",
     "output_type": "stream",
     "text": [
      "_________________________________________________________________\n",
      "Layer (type)                 Output Shape              Param #   \n",
      "=================================================================\n",
      "conv3d_1 (Conv3D)            (None, 30, 120, 120, 8)   656       \n",
      "_________________________________________________________________\n",
      "batch_normalization_1 (Batch (None, 30, 120, 120, 8)   32        \n",
      "_________________________________________________________________\n",
      "activation_1 (Activation)    (None, 30, 120, 120, 8)   0         \n",
      "_________________________________________________________________\n",
      "max_pooling3d_1 (MaxPooling3 (None, 15, 60, 60, 8)     0         \n",
      "_________________________________________________________________\n",
      "conv3d_2 (Conv3D)            (None, 15, 60, 60, 16)    3472      \n",
      "_________________________________________________________________\n",
      "batch_normalization_2 (Batch (None, 15, 60, 60, 16)    64        \n",
      "_________________________________________________________________\n",
      "activation_2 (Activation)    (None, 15, 60, 60, 16)    0         \n",
      "_________________________________________________________________\n",
      "max_pooling3d_2 (MaxPooling3 (None, 7, 30, 30, 16)     0         \n",
      "_________________________________________________________________\n",
      "conv3d_3 (Conv3D)            (None, 7, 30, 30, 32)     4640      \n",
      "_________________________________________________________________\n",
      "batch_normalization_3 (Batch (None, 7, 30, 30, 32)     128       \n",
      "_________________________________________________________________\n",
      "activation_3 (Activation)    (None, 7, 30, 30, 32)     0         \n",
      "_________________________________________________________________\n",
      "max_pooling3d_3 (MaxPooling3 (None, 3, 15, 15, 32)     0         \n",
      "_________________________________________________________________\n",
      "conv3d_4 (Conv3D)            (None, 3, 15, 15, 64)     18496     \n",
      "_________________________________________________________________\n",
      "batch_normalization_4 (Batch (None, 3, 15, 15, 64)     256       \n",
      "_________________________________________________________________\n",
      "activation_4 (Activation)    (None, 3, 15, 15, 64)     0         \n",
      "_________________________________________________________________\n",
      "max_pooling3d_4 (MaxPooling3 (None, 1, 7, 7, 64)       0         \n",
      "_________________________________________________________________\n",
      "conv3d_5 (Conv3D)            (None, 1, 7, 7, 128)      73856     \n",
      "_________________________________________________________________\n",
      "batch_normalization_5 (Batch (None, 1, 7, 7, 128)      512       \n",
      "_________________________________________________________________\n",
      "activation_5 (Activation)    (None, 1, 7, 7, 128)      0         \n",
      "_________________________________________________________________\n",
      "max_pooling3d_5 (MaxPooling3 (None, 1, 3, 3, 128)      0         \n",
      "_________________________________________________________________\n",
      "flatten_1 (Flatten)          (None, 1152)              0         \n",
      "_________________________________________________________________\n",
      "dense_1 (Dense)              (None, 1000)              1153000   \n",
      "_________________________________________________________________\n",
      "dropout_1 (Dropout)          (None, 1000)              0         \n",
      "_________________________________________________________________\n",
      "dense_2 (Dense)              (None, 500)               500500    \n",
      "_________________________________________________________________\n",
      "dropout_2 (Dropout)          (None, 500)               0         \n",
      "_________________________________________________________________\n",
      "dense_3 (Dense)              (None, 5)                 2505      \n",
      "=================================================================\n",
      "Total params: 1,758,117\n",
      "Trainable params: 1,757,621\n",
      "Non-trainable params: 496\n",
      "_________________________________________________________________\n",
      "None\n"
     ]
    }
   ],
   "source": [
    "optimiser = optimizers.Adam(lr=0.001) #write your optimizer\n",
    "model_a.compile(optimizer=optimiser, loss='categorical_crossentropy', metrics=['categorical_accuracy'])\n",
    "print (model_a.summary())"
   ]
  },
  {
   "cell_type": "code",
   "execution_count": 11,
   "metadata": {},
   "outputs": [
    {
     "name": "stdout",
     "output_type": "stream",
     "text": [
      "# training sequences = 663\n",
      "# validation sequences = 100\n",
      "# epochs = 10\n",
      "2020-03-01 17:11:19.105844\n"
     ]
    }
   ],
   "source": [
    "curr_dt_time = datetime.datetime.now()\n",
    "train_path = '/mnt/disks/user/project/PROJECT/Project_data/train'\n",
    "val_path = '/mnt/disks/user/project/PROJECT/Project_data/val'\n",
    "num_train_sequences = len(train_doc)\n",
    "print('# training sequences =', num_train_sequences)\n",
    "num_val_sequences = len(val_doc)\n",
    "print('# validation sequences =', num_val_sequences)\n",
    "num_epochs = 10 # choose the number of epochs\n",
    "print ('# epochs =', num_epochs)\n",
    "print(curr_dt_time)"
   ]
  },
  {
   "cell_type": "code",
   "execution_count": 12,
   "metadata": {},
   "outputs": [],
   "source": [
    "model_name = 'model_init' + '_' + str(curr_dt_time).replace(' ','').replace(':','_') + '/'\n",
    "\n",
    "if not os.path.exists(model_name):\n",
    "    os.mkdir(model_name)\n",
    "\n",
    "filepath = model_name + 'model-{epoch:05d}-{loss:.5f}-{categorical_accuracy:.5f}-{val_loss:.5f}-{val_categorical_accuracy:.5f}.h5'\n",
    "\n",
    "checkpoint = ModelCheckpoint(filepath, monitor='val_loss', verbose=1, save_best_only=False, save_weights_only=False, mode='auto', period=1)\n",
    "\n",
    "LR = ReduceLROnPlateau(monitor='val_loss', factor=0.5, patience=2, cooldown=1, verbose=1) # write the REducelronplateau code here\n",
    "callbacks_list = [checkpoint, LR]"
   ]
  },
  {
   "cell_type": "code",
   "execution_count": 13,
   "metadata": {},
   "outputs": [],
   "source": [
    "if (num_train_sequences%batch_size) == 0:\n",
    "    steps_per_epoch = int(num_train_sequences/batch_size)\n",
    "else:\n",
    "    steps_per_epoch = (num_train_sequences//batch_size) + 1\n",
    "\n",
    "if (num_val_sequences%batch_size) == 0:\n",
    "    validation_steps = int(num_val_sequences/batch_size)\n",
    "else:\n",
    "    validation_steps = (num_val_sequences//batch_size) + 1"
   ]
  },
  {
   "cell_type": "code",
   "execution_count": 16,
   "metadata": {},
   "outputs": [],
   "source": [
    "batch_size = 50\n",
    "num_epochs = 10\n",
    "\n",
    "train_generator = generator(train_path, train_doc, batch_size)\n",
    "val_generator = generator(val_path, val_doc, batch_size)"
   ]
  },
  {
   "cell_type": "code",
   "execution_count": 17,
   "metadata": {},
   "outputs": [
    {
     "name": "stdout",
     "output_type": "stream",
     "text": [
      "Source path =  /mnt/disks/user/project/PROJECT/Project_data/val ; batch size = 50\n",
      "Source path =  /mnt/disks/user/project/PROJECT/Project_data/train ; batch size = 50\n",
      "Epoch 1/10\n"
     ]
    },
    {
     "name": "stderr",
     "output_type": "stream",
     "text": [
      "/mnt/disks/user/anaconda3/lib/python3.6/site-packages/ipykernel_launcher.py:17: DeprecationWarning: `imread` is deprecated!\n",
      "`imread` is deprecated in SciPy 1.0.0, and will be removed in 1.2.0.\n",
      "Use ``imageio.imread`` instead.\n",
      "/mnt/disks/user/anaconda3/lib/python3.6/site-packages/ipykernel_launcher.py:22: DeprecationWarning: `imresize` is deprecated!\n",
      "`imresize` is deprecated in SciPy 1.0.0, and will be removed in 1.2.0.\n",
      "Use ``skimage.transform.resize`` instead.\n"
     ]
    },
    {
     "name": "stdout",
     "output_type": "stream",
     "text": [
      "12/34 [=========>....................] - ETA: 6:07 - loss: 1.7502 - categorical_accuracy: 0.3533Batch:  14 Index: 50\n"
     ]
    },
    {
     "name": "stderr",
     "output_type": "stream",
     "text": [
      "/mnt/disks/user/anaconda3/lib/python3.6/site-packages/ipykernel_launcher.py:42: DeprecationWarning: `imread` is deprecated!\n",
      "`imread` is deprecated in SciPy 1.0.0, and will be removed in 1.2.0.\n",
      "Use ``imageio.imread`` instead.\n",
      "/mnt/disks/user/anaconda3/lib/python3.6/site-packages/ipykernel_launcher.py:46: DeprecationWarning: `imresize` is deprecated!\n",
      "`imresize` is deprecated in SciPy 1.0.0, and will be removed in 1.2.0.\n",
      "Use ``skimage.transform.resize`` instead.\n"
     ]
    },
    {
     "name": "stdout",
     "output_type": "stream",
     "text": [
      "34/34 [==============================] - 254s 7s/step - loss: 1.6201 - categorical_accuracy: 0.4094 - val_loss: 1.1956 - val_categorical_accuracy: 0.5120\n",
      "\n",
      "Epoch 00001: saving model to model_init_2020-03-0117_11_19.105844/model-00001-1.67186-0.38245-1.19558-0.51200.h5\n",
      "Epoch 2/10\n",
      "34/34 [==============================] - 59s 2s/step - loss: 1.2915 - categorical_accuracy: 0.4774 - val_loss: 1.4707 - val_categorical_accuracy: 0.4280\n",
      "\n",
      "Epoch 00002: saving model to model_init_2020-03-0117_11_19.105844/model-00002-1.29152-0.47738-1.47069-0.42800.h5\n",
      "Epoch 3/10\n",
      "34/34 [==============================] - 58s 2s/step - loss: 1.2637 - categorical_accuracy: 0.5023 - val_loss: 1.0014 - val_categorical_accuracy: 0.5760\n",
      "\n",
      "Epoch 00003: saving model to model_init_2020-03-0117_11_19.105844/model-00003-1.26375-0.50226-1.00136-0.57600.h5\n",
      "Epoch 4/10\n",
      "34/34 [==============================] - 59s 2s/step - loss: 0.9927 - categorical_accuracy: 0.5792 - val_loss: 1.6463 - val_categorical_accuracy: 0.3600\n",
      "\n",
      "Epoch 00004: saving model to model_init_2020-03-0117_11_19.105844/model-00004-0.99272-0.57919-1.64627-0.36000.h5\n",
      "Epoch 5/10\n",
      "34/34 [==============================] - 59s 2s/step - loss: 0.8755 - categorical_accuracy: 0.6516 - val_loss: 0.9607 - val_categorical_accuracy: 0.5840\n",
      "\n",
      "Epoch 00005: saving model to model_init_2020-03-0117_11_19.105844/model-00005-0.87549-0.65158-0.96070-0.58400.h5\n",
      "Epoch 6/10\n",
      "34/34 [==============================] - 59s 2s/step - loss: 0.9129 - categorical_accuracy: 0.6448 - val_loss: 1.3348 - val_categorical_accuracy: 0.4440\n",
      "\n",
      "Epoch 00006: saving model to model_init_2020-03-0117_11_19.105844/model-00006-0.91285-0.64480-1.33478-0.44400.h5\n",
      "Epoch 7/10\n",
      "34/34 [==============================] - 58s 2s/step - loss: 0.6896 - categorical_accuracy: 0.7330 - val_loss: 0.5628 - val_categorical_accuracy: 0.8120\n",
      "\n",
      "Epoch 00007: saving model to model_init_2020-03-0117_11_19.105844/model-00007-0.68958-0.73303-0.56279-0.81200.h5\n",
      "Epoch 8/10\n",
      "34/34 [==============================] - 58s 2s/step - loss: 0.7515 - categorical_accuracy: 0.7149 - val_loss: 1.5898 - val_categorical_accuracy: 0.5440\n",
      "\n",
      "Epoch 00008: saving model to model_init_2020-03-0117_11_19.105844/model-00008-0.75150-0.71493-1.58983-0.54400.h5\n",
      "Epoch 9/10\n",
      "34/34 [==============================] - 58s 2s/step - loss: 0.6158 - categorical_accuracy: 0.7557 - val_loss: 0.8342 - val_categorical_accuracy: 0.6640\n",
      "\n",
      "Epoch 00009: saving model to model_init_2020-03-0117_11_19.105844/model-00009-0.61580-0.75566-0.83419-0.66400.h5\n",
      "\n",
      "Epoch 00009: ReduceLROnPlateau reducing learning rate to 0.0005000000237487257.\n",
      "Epoch 10/10\n",
      "34/34 [==============================] - 59s 2s/step - loss: 0.4922 - categorical_accuracy: 0.8167 - val_loss: 1.1010 - val_categorical_accuracy: 0.5560\n",
      "\n",
      "Epoch 00010: saving model to model_init_2020-03-0117_11_19.105844/model-00010-0.49223-0.81674-1.10097-0.55600.h5\n"
     ]
    },
    {
     "data": {
      "text/plain": [
       "<keras.callbacks.History at 0x7f44b295dbe0>"
      ]
     },
     "execution_count": 17,
     "metadata": {},
     "output_type": "execute_result"
    }
   ],
   "source": [
    "model_a_history = model_a.fit_generator(train_generator, steps_per_epoch=steps_per_epoch, epochs=num_epochs, verbose=1, \n",
    "                    callbacks=callbacks_list, validation_data=val_generator, \n",
    "                    validation_steps=validation_steps, class_weight=None, workers=1, initial_epoch=0)\n",
    "model_a_history"
   ]
  },
  {
   "cell_type": "code",
   "execution_count": 18,
   "metadata": {},
   "outputs": [
    {
     "data": {
      "image/png": "[encoded data removed]",
      "text/plain": [
       "<Figure size 1080x288 with 2 Axes>"
      ]
     },
     "metadata": {},
     "output_type": "display_data"
    }
   ],
   "source": [
    "plot(model_a_history)"
   ]
  },
  {
   "cell_type": "markdown",
   "metadata": {},
   "source": [
    "##### Conclusion:\n",
    "* The current model with 1.8M parameters is doing great in training data but failed with validation data.\n",
    "* Looks like the model is overfitting\n",
    "* Let's tweak the neurons in the dense layer in the next model"
   ]
  },
  {
   "cell_type": "markdown",
   "metadata": {},
   "source": [
    "### Model-2_Conv_3D"
   ]
  },
  {
   "cell_type": "code",
   "execution_count": 19,
   "metadata": {},
   "outputs": [],
   "source": [
    "nb_filters = [8,16,32,64,128]\n",
    "nb_dense = [256, 128, 5]\n",
    "\n",
    "# Input\n",
    "input_shape=(30,120,120,3)\n",
    "\n",
    "# Define model\n",
    "model_b = Sequential()\n",
    "\n",
    "model_b.add(Conv3D(nb_filters[0], \n",
    "                 kernel_size=(3,3,3), \n",
    "                 input_shape=input_shape,\n",
    "                 padding='same'))\n",
    "model_b.add(BatchNormalization())\n",
    "model_b.add(Activation('relu'))\n",
    "\n",
    "model_b.add(Conv3D(nb_filters[1], \n",
    "                 kernel_size=(3,3,3), \n",
    "                 input_shape=input_shape,\n",
    "                 padding='same'))\n",
    "model_b.add(BatchNormalization())\n",
    "model_b.add(Activation('relu'))\n",
    "\n",
    "model_b.add(MaxPooling3D(pool_size=(2,2,2)))\n",
    "\n",
    "model_b.add(Conv3D(nb_filters[2], \n",
    "                 kernel_size=(3,3,3), \n",
    "                 padding='same'))\n",
    "model_b.add(BatchNormalization())\n",
    "model_b.add(Activation('relu'))\n",
    "\n",
    "\n",
    "model_b.add(MaxPooling3D(pool_size=(2,2,2)))\n",
    "\n",
    "model_b.add(Conv3D(nb_filters[3], \n",
    "                 kernel_size=(1,3,3), \n",
    "                 padding='same'))\n",
    "model_b.add(BatchNormalization())\n",
    "model_b.add(Activation('relu'))\n",
    "\n",
    "\n",
    "model_b.add(MaxPooling3D(pool_size=(2,2,2)))\n",
    "\n",
    "model_b.add(Conv3D(nb_filters[4], \n",
    "                 kernel_size=(1,3,3), \n",
    "                 padding='same'))\n",
    "model_b.add(Activation('relu'))\n",
    "model_b.add(Dropout(0.25))\n",
    "\n",
    "model_b.add(MaxPooling3D(pool_size=(2,2,2)))\n",
    "\n",
    "\n",
    "#Flatten Layers\n",
    "model_b.add(Flatten())\n",
    "\n",
    "model_b.add(Dense(nb_dense[0], activation='relu'))\n",
    "model_b.add(Dropout(0.5))\n",
    "\n",
    "model_b.add(Dense(nb_dense[1], activation='relu'))\n",
    "model_b.add(Dropout(0.5))\n",
    "\n",
    "#softmax layer\n",
    "model_b.add(Dense(nb_dense[2], activation='softmax'))"
   ]
  },
  {
   "cell_type": "code",
   "execution_count": 20,
   "metadata": {},
   "outputs": [
    {
     "name": "stdout",
     "output_type": "stream",
     "text": [
      "_________________________________________________________________\n",
      "Layer (type)                 Output Shape              Param #   \n",
      "=================================================================\n",
      "conv3d_6 (Conv3D)            (None, 30, 120, 120, 8)   656       \n",
      "_________________________________________________________________\n",
      "batch_normalization_6 (Batch (None, 30, 120, 120, 8)   32        \n",
      "_________________________________________________________________\n",
      "activation_6 (Activation)    (None, 30, 120, 120, 8)   0         \n",
      "_________________________________________________________________\n",
      "conv3d_7 (Conv3D)            (None, 30, 120, 120, 16)  3472      \n",
      "_________________________________________________________________\n",
      "batch_normalization_7 (Batch (None, 30, 120, 120, 16)  64        \n",
      "_________________________________________________________________\n",
      "activation_7 (Activation)    (None, 30, 120, 120, 16)  0         \n",
      "_________________________________________________________________\n",
      "max_pooling3d_6 (MaxPooling3 (None, 15, 60, 60, 16)    0         \n",
      "_________________________________________________________________\n",
      "conv3d_8 (Conv3D)            (None, 15, 60, 60, 32)    13856     \n",
      "_________________________________________________________________\n",
      "batch_normalization_8 (Batch (None, 15, 60, 60, 32)    128       \n",
      "_________________________________________________________________\n",
      "activation_8 (Activation)    (None, 15, 60, 60, 32)    0         \n",
      "_________________________________________________________________\n",
      "max_pooling3d_7 (MaxPooling3 (None, 7, 30, 30, 32)     0         \n",
      "_________________________________________________________________\n",
      "conv3d_9 (Conv3D)            (None, 7, 30, 30, 64)     18496     \n",
      "_________________________________________________________________\n",
      "batch_normalization_9 (Batch (None, 7, 30, 30, 64)     256       \n",
      "_________________________________________________________________\n",
      "activation_9 (Activation)    (None, 7, 30, 30, 64)     0         \n",
      "_________________________________________________________________\n",
      "max_pooling3d_8 (MaxPooling3 (None, 3, 15, 15, 64)     0         \n",
      "_________________________________________________________________\n",
      "conv3d_10 (Conv3D)           (None, 3, 15, 15, 128)    73856     \n",
      "_________________________________________________________________\n",
      "activation_10 (Activation)   (None, 3, 15, 15, 128)    0         \n",
      "_________________________________________________________________\n",
      "dropout_3 (Dropout)          (None, 3, 15, 15, 128)    0         \n",
      "_________________________________________________________________\n",
      "max_pooling3d_9 (MaxPooling3 (None, 1, 7, 7, 128)      0         \n",
      "_________________________________________________________________\n",
      "flatten_2 (Flatten)          (None, 6272)              0         \n",
      "_________________________________________________________________\n",
      "dense_4 (Dense)              (None, 256)               1605888   \n",
      "_________________________________________________________________\n",
      "dropout_4 (Dropout)          (None, 256)               0         \n",
      "_________________________________________________________________\n",
      "dense_5 (Dense)              (None, 128)               32896     \n",
      "_________________________________________________________________\n",
      "dropout_5 (Dropout)          (None, 128)               0         \n",
      "_________________________________________________________________\n",
      "dense_6 (Dense)              (None, 5)                 645       \n",
      "=================================================================\n",
      "Total params: 1,750,245\n",
      "Trainable params: 1,750,005\n",
      "Non-trainable params: 240\n",
      "_________________________________________________________________\n",
      "None\n"
     ]
    }
   ],
   "source": [
    "optimiser = keras.optimizers.Adam() #write your optimizer\n",
    "model_b.compile(optimizer=optimiser, loss='categorical_crossentropy', metrics=['categorical_accuracy'])\n",
    "print (model_b.summary())"
   ]
  },
  {
   "cell_type": "code",
   "execution_count": 21,
   "metadata": {},
   "outputs": [
    {
     "name": "stdout",
     "output_type": "stream",
     "text": [
      "# training sequences = 663\n",
      "# validation sequences = 100\n",
      "# epochs = 10\n",
      "2020-03-01 17:28:28.858160\n"
     ]
    }
   ],
   "source": [
    "curr_dt_time = datetime.datetime.now()\n",
    "train_path = '/mnt/disks/user/project/PROJECT/Project_data/train'\n",
    "val_path = '/mnt/disks/user/project/PROJECT/Project_data/val'\n",
    "num_train_sequences = len(train_doc)\n",
    "print('# training sequences =', num_train_sequences)\n",
    "num_val_sequences = len(val_doc)\n",
    "print('# validation sequences =', num_val_sequences)\n",
    "num_epochs = num_epochs # choose the number of epochs\n",
    "print ('# epochs =', num_epochs)\n",
    "print(curr_dt_time)"
   ]
  },
  {
   "cell_type": "code",
   "execution_count": 22,
   "metadata": {},
   "outputs": [],
   "source": [
    "model_name = 'model_init' + '_' + str(curr_dt_time).replace(' ','').replace(':','_') + '/'\n",
    "\n",
    "if not os.path.exists(model_name):\n",
    "    os.mkdir(model_name)\n",
    "\n",
    "filepath = model_name + 'model-{epoch:05d}-{loss:.5f}-{categorical_accuracy:.5f}-{val_loss:.5f}-{val_categorical_accuracy:.5f}.h5'\n",
    "\n",
    "checkpoint = ModelCheckpoint(filepath, monitor='val_loss', verbose=1, save_best_only=False, save_weights_only=False, mode='auto', period=1)\n",
    "\n",
    "LR = ReduceLROnPlateau(monitor='val_loss', factor=0.5, patience=2, cooldown=1, verbose=1) # write the REducelronplateau code here\n",
    "callbacks_list = [checkpoint, LR]"
   ]
  },
  {
   "cell_type": "code",
   "execution_count": 23,
   "metadata": {},
   "outputs": [],
   "source": [
    "if (num_train_sequences%batch_size) == 0:\n",
    "    steps_per_epoch = int(num_train_sequences/batch_size)\n",
    "else:\n",
    "    steps_per_epoch = (num_train_sequences//batch_size) + 1\n",
    "\n",
    "if (num_val_sequences%batch_size) == 0:\n",
    "    validation_steps = int(num_val_sequences/batch_size)\n",
    "else:\n",
    "    validation_steps = (num_val_sequences//batch_size) + 1"
   ]
  },
  {
   "cell_type": "code",
   "execution_count": 24,
   "metadata": {},
   "outputs": [
    {
     "name": "stdout",
     "output_type": "stream",
     "text": [
      "Source path =  /mnt/disks/user/project/PROJECT/Project_data/valSource path =  /mnt/disks/user/project/PROJECT/Project_data/train Epoch 1/30\n",
      " ; batch size = 40\n",
      "; batch size = 40\n"
     ]
    },
    {
     "name": "stderr",
     "output_type": "stream",
     "text": [
      "/mnt/disks/user/anaconda3/lib/python3.6/site-packages/ipykernel_launcher.py:17: DeprecationWarning: `imread` is deprecated!\n",
      "`imread` is deprecated in SciPy 1.0.0, and will be removed in 1.2.0.\n",
      "Use ``imageio.imread`` instead.\n",
      "/mnt/disks/user/anaconda3/lib/python3.6/site-packages/ipykernel_launcher.py:22: DeprecationWarning: `imresize` is deprecated!\n",
      "`imresize` is deprecated in SciPy 1.0.0, and will be removed in 1.2.0.\n",
      "Use ``skimage.transform.resize`` instead.\n"
     ]
    },
    {
     "name": "stdout",
     "output_type": "stream",
     "text": [
      "Batch:  3 Index: 40\n"
     ]
    },
    {
     "name": "stderr",
     "output_type": "stream",
     "text": [
      "/mnt/disks/user/anaconda3/lib/python3.6/site-packages/ipykernel_launcher.py:42: DeprecationWarning: `imread` is deprecated!\n",
      "`imread` is deprecated in SciPy 1.0.0, and will be removed in 1.2.0.\n",
      "Use ``imageio.imread`` instead.\n",
      "/mnt/disks/user/anaconda3/lib/python3.6/site-packages/ipykernel_launcher.py:46: DeprecationWarning: `imresize` is deprecated!\n",
      "`imresize` is deprecated in SciPy 1.0.0, and will be removed in 1.2.0.\n",
      "Use ``skimage.transform.resize`` instead.\n"
     ]
    },
    {
     "name": "stdout",
     "output_type": "stream",
     "text": [
      "14/14 [==============================] - 79s 6s/step - loss: 2.5070 - categorical_accuracy: 0.2196 - val_loss: 1.5447 - val_categorical_accuracy: 0.2500\n",
      "\n",
      "Epoch 00001: saving model to model_init_2020-03-0117_28_28.858160/model-00001-2.50699-0.21964-1.54472-0.25000.h5\n",
      "Epoch 2/30\n",
      " 1/14 [=>............................] - ETA: 43s - loss: 1.5640 - categorical_accuracy: 0.2500Batch:  17 Index: 40\n",
      "14/14 [==============================] - 41s 3s/step - loss: 1.5541 - categorical_accuracy: 0.2432 - val_loss: 1.4388 - val_categorical_accuracy: 0.2500\n",
      "\n",
      "Epoch 00002: saving model to model_init_2020-03-0117_28_28.858160/model-00002-1.55619-0.24157-1.43881-0.25000.h5\n",
      "Epoch 3/30\n",
      "14/14 [==============================] - 36s 3s/step - loss: 1.4055 - categorical_accuracy: 0.3882 - val_loss: 1.9973 - val_categorical_accuracy: 0.2000\n",
      "\n",
      "Epoch 00003: saving model to model_init_2020-03-0117_28_28.858160/model-00003-1.40554-0.38820-1.99729-0.20000.h5\n",
      "Epoch 4/30\n",
      " 2/14 [===>..........................] - ETA: 30s - loss: 1.5246 - categorical_accuracy: 0.3913Batch:  29 Index: 23\n",
      "14/14 [==============================] - 33s 2s/step - loss: 1.3524 - categorical_accuracy: 0.4034 - val_loss: 1.3525 - val_categorical_accuracy: 0.3750\n",
      "\n",
      "Epoch 00004: saving model to model_init_2020-03-0117_28_28.858160/model-00004-1.35773-0.40288-1.35251-0.37500.h5\n",
      "Epoch 5/30\n",
      "14/14 [==============================] - 32s 2s/step - loss: 1.3675 - categorical_accuracy: 0.3872 - val_loss: 1.5935 - val_categorical_accuracy: 0.2500\n",
      "\n",
      "Epoch 00005: saving model to model_init_2020-03-0117_28_28.858160/model-00005-1.36751-0.38722-1.59345-0.25000.h5\n",
      "Epoch 6/30\n",
      " 9/14 [==================>...........] - ETA: 11s - loss: 1.2821 - categorical_accuracy: 0.3626Batch:  35 Index: 19\n",
      "14/14 [==============================] - 34s 2s/step - loss: 1.3041 - categorical_accuracy: 0.3720 - val_loss: 2.5914 - val_categorical_accuracy: 0.2000\n",
      "\n",
      "Epoch 00006: saving model to model_init_2020-03-0117_28_28.858160/model-00006-1.30218-0.37209-2.59144-0.20000.h5\n",
      "\n",
      "Epoch 00006: ReduceLROnPlateau reducing learning rate to 0.0005000000237487257.\n",
      "Epoch 7/30\n",
      "14/14 [==============================] - 26s 2s/step - loss: 1.2913 - categorical_accuracy: 0.4370 - val_loss: 1.2059 - val_categorical_accuracy: 0.3000\n",
      "\n",
      "Epoch 00007: saving model to model_init_2020-03-0117_28_28.858160/model-00007-1.29128-0.43697-1.20594-0.30000.h5\n",
      "Epoch 8/30\n",
      "14/14 [==============================] - 28s 2s/step - loss: 1.2118 - categorical_accuracy: 0.4790 - val_loss: 1.8360 - val_categorical_accuracy: 0.2250\n",
      "\n",
      "Epoch 00008: saving model to model_init_2020-03-0117_28_28.858160/model-00008-1.21178-0.47899-1.83601-0.22500.h5\n",
      "Epoch 9/30\n",
      "14/14 [==============================] - 29s 2s/step - loss: 1.2237 - categorical_accuracy: 0.4370 - val_loss: 1.3531 - val_categorical_accuracy: 0.3500\n",
      "\n",
      "Epoch 00009: saving model to model_init_2020-03-0117_28_28.858160/model-00009-1.22369-0.43697-1.35309-0.35000.h5\n",
      "\n",
      "Epoch 00009: ReduceLROnPlateau reducing learning rate to 0.0002500000118743628.\n",
      "Epoch 10/30\n",
      "14/14 [==============================] - 30s 2s/step - loss: 1.1742 - categorical_accuracy: 0.4790 - val_loss: 1.1498 - val_categorical_accuracy: 0.4500\n",
      "\n",
      "Epoch 00010: saving model to model_init_2020-03-0117_28_28.858160/model-00010-1.17418-0.47899-1.14983-0.45000.h5\n",
      "Epoch 11/30\n",
      "14/14 [==============================] - 30s 2s/step - loss: 1.1845 - categorical_accuracy: 0.4622 - val_loss: 1.2200 - val_categorical_accuracy: 0.4250\n",
      "\n",
      "Epoch 00011: saving model to model_init_2020-03-0117_28_28.858160/model-00011-1.18447-0.46218-1.21995-0.42500.h5\n",
      "Epoch 12/30\n",
      "14/14 [==============================] - 28s 2s/step - loss: 1.1339 - categorical_accuracy: 0.5168 - val_loss: 0.9109 - val_categorical_accuracy: 0.7000\n",
      "\n",
      "Epoch 00012: saving model to model_init_2020-03-0117_28_28.858160/model-00012-1.13388-0.51681-0.91091-0.70000.h5\n",
      "Epoch 13/30\n",
      "14/14 [==============================] - 28s 2s/step - loss: 1.1330 - categorical_accuracy: 0.4748 - val_loss: 1.1930 - val_categorical_accuracy: 0.4000\n",
      "\n",
      "Epoch 00013: saving model to model_init_2020-03-0117_28_28.858160/model-00013-1.13296-0.47479-1.19303-0.40000.h5\n",
      "Epoch 14/30\n",
      "14/14 [==============================] - 30s 2s/step - loss: 1.2003 - categorical_accuracy: 0.5084 - val_loss: 1.0220 - val_categorical_accuracy: 0.5750\n",
      "\n",
      "Epoch 00014: saving model to model_init_2020-03-0117_28_28.858160/model-00014-1.20029-0.50840-1.02195-0.57500.h5\n",
      "\n",
      "Epoch 00014: ReduceLROnPlateau reducing learning rate to 0.0001250000059371814.\n",
      "Epoch 15/30\n",
      "14/14 [==============================] - 29s 2s/step - loss: 1.1091 - categorical_accuracy: 0.4832 - val_loss: 1.0278 - val_categorical_accuracy: 0.5750\n",
      "\n",
      "Epoch 00015: saving model to model_init_2020-03-0117_28_28.858160/model-00015-1.10910-0.48319-1.02779-0.57500.h5\n",
      "Epoch 16/30\n",
      "14/14 [==============================] - 28s 2s/step - loss: 1.1606 - categorical_accuracy: 0.5042 - val_loss: 1.0425 - val_categorical_accuracy: 0.6000\n",
      "\n",
      "Epoch 00016: saving model to model_init_2020-03-0117_28_28.858160/model-00016-1.16061-0.50420-1.04249-0.60000.h5\n",
      "\n",
      "Epoch 00016: ReduceLROnPlateau reducing learning rate to 6.25000029685907e-05.\n",
      "Epoch 17/30\n",
      "14/14 [==============================] - 30s 2s/step - loss: 1.0359 - categorical_accuracy: 0.5252 - val_loss: 1.1740 - val_categorical_accuracy: 0.4500\n",
      "\n",
      "Epoch 00017: saving model to model_init_2020-03-0117_28_28.858160/model-00017-1.03592-0.52521-1.17404-0.45000.h5\n",
      "Epoch 18/30\n",
      "14/14 [==============================] - 28s 2s/step - loss: 0.9807 - categorical_accuracy: 0.5840 - val_loss: 1.0238 - val_categorical_accuracy: 0.7250\n",
      "\n",
      "Epoch 00018: saving model to model_init_2020-03-0117_28_28.858160/model-00018-0.98067-0.58403-1.02380-0.72500.h5\n",
      "\n",
      "Epoch 00018: ReduceLROnPlateau reducing learning rate to 3.125000148429535e-05.\n",
      "Epoch 19/30\n",
      "14/14 [==============================] - 29s 2s/step - loss: 1.0546 - categorical_accuracy: 0.5882 - val_loss: 0.9392 - val_categorical_accuracy: 0.5250\n",
      "\n",
      "Epoch 00019: saving model to model_init_2020-03-0117_28_28.858160/model-00019-1.05458-0.58824-0.93915-0.52500.h5\n",
      "Epoch 20/30\n",
      "14/14 [==============================] - 30s 2s/step - loss: 1.0038 - categorical_accuracy: 0.5714 - val_loss: 0.9440 - val_categorical_accuracy: 0.6000\n",
      "\n",
      "Epoch 00020: saving model to model_init_2020-03-0117_28_28.858160/model-00020-1.00381-0.57143-0.94398-0.60000.h5\n",
      "\n",
      "Epoch 00020: ReduceLROnPlateau reducing learning rate to 1.5625000742147677e-05.\n",
      "Epoch 21/30\n",
      "14/14 [==============================] - 27s 2s/step - loss: 1.0329 - categorical_accuracy: 0.5672 - val_loss: 1.1069 - val_categorical_accuracy: 0.6000\n",
      "\n",
      "Epoch 00021: saving model to model_init_2020-03-0117_28_28.858160/model-00021-1.03286-0.56723-1.10691-0.60000.h5\n",
      "Epoch 22/30\n",
      "14/14 [==============================] - 29s 2s/step - loss: 1.0395 - categorical_accuracy: 0.5546 - val_loss: 1.0446 - val_categorical_accuracy: 0.4750\n",
      "\n",
      "Epoch 00022: saving model to model_init_2020-03-0117_28_28.858160/model-00022-1.03947-0.55462-1.04464-0.47500.h5\n",
      "\n",
      "Epoch 00022: ReduceLROnPlateau reducing learning rate to 7.812500371073838e-06.\n",
      "Epoch 23/30\n",
      "14/14 [==============================] - 30s 2s/step - loss: 1.0186 - categorical_accuracy: 0.5798 - val_loss: 0.9641 - val_categorical_accuracy: 0.6000\n",
      "\n",
      "Epoch 00023: saving model to model_init_2020-03-0117_28_28.858160/model-00023-1.01859-0.57983-0.96413-0.60000.h5\n",
      "Epoch 24/30\n",
      "14/14 [==============================] - 30s 2s/step - loss: 0.9394 - categorical_accuracy: 0.6176 - val_loss: 0.9519 - val_categorical_accuracy: 0.7000\n",
      "\n",
      "Epoch 00024: saving model to model_init_2020-03-0117_28_28.858160/model-00024-0.93941-0.61765-0.95188-0.70000.h5\n",
      "\n",
      "Epoch 00024: ReduceLROnPlateau reducing learning rate to 3.906250185536919e-06.\n",
      "Epoch 25/30\n",
      "14/14 [==============================] - 28s 2s/step - loss: 1.0275 - categorical_accuracy: 0.5210 - val_loss: 1.0496 - val_categorical_accuracy: 0.6000\n",
      "\n",
      "Epoch 00025: saving model to model_init_2020-03-0117_28_28.858160/model-00025-1.02748-0.52101-1.04959-0.60000.h5\n",
      "Epoch 26/30\n",
      "14/14 [==============================] - 28s 2s/step - loss: 0.9973 - categorical_accuracy: 0.6008 - val_loss: 0.9795 - val_categorical_accuracy: 0.6500\n",
      "\n",
      "Epoch 00026: saving model to model_init_2020-03-0117_28_28.858160/model-00026-0.99726-0.60084-0.97946-0.65000.h5\n",
      "\n",
      "Epoch 00026: ReduceLROnPlateau reducing learning rate to 1.9531250927684596e-06.\n",
      "Epoch 27/30\n"
     ]
    },
    {
     "name": "stdout",
     "output_type": "stream",
     "text": [
      "14/14 [==============================] - 29s 2s/step - loss: 0.9820 - categorical_accuracy: 0.5798 - val_loss: 0.9993 - val_categorical_accuracy: 0.6000\n",
      "\n",
      "Epoch 00027: saving model to model_init_2020-03-0117_28_28.858160/model-00027-0.98198-0.57983-0.99925-0.60000.h5\n",
      "Epoch 28/30\n",
      "14/14 [==============================] - 29s 2s/step - loss: 1.0554 - categorical_accuracy: 0.5168 - val_loss: 0.9275 - val_categorical_accuracy: 0.6250\n",
      "\n",
      "Epoch 00028: saving model to model_init_2020-03-0117_28_28.858160/model-00028-1.05541-0.51681-0.92754-0.62500.h5\n",
      "\n",
      "Epoch 00028: ReduceLROnPlateau reducing learning rate to 9.765625463842298e-07.\n",
      "Epoch 29/30\n",
      "14/14 [==============================] - 30s 2s/step - loss: 1.0039 - categorical_accuracy: 0.5462 - val_loss: 0.9975 - val_categorical_accuracy: 0.6000\n",
      "\n",
      "Epoch 00029: saving model to model_init_2020-03-0117_28_28.858160/model-00029-1.00386-0.54622-0.99745-0.60000.h5\n",
      "Epoch 30/30\n",
      "14/14 [==============================] - 30s 2s/step - loss: 1.0258 - categorical_accuracy: 0.5714 - val_loss: 1.0592 - val_categorical_accuracy: 0.6000\n",
      "\n",
      "Epoch 00030: saving model to model_init_2020-03-0117_28_28.858160/model-00030-1.02584-0.57143-1.05922-0.60000.h5\n",
      "\n",
      "Epoch 00030: ReduceLROnPlateau reducing learning rate to 4.882812731921149e-07.\n"
     ]
    },
    {
     "data": {
      "text/plain": [
       "<keras.callbacks.History at 0x7f44b291ad68>"
      ]
     },
     "execution_count": 24,
     "metadata": {},
     "output_type": "execute_result"
    }
   ],
   "source": [
    "batch_size = 40\n",
    "num_epochs = 30\n",
    "\n",
    "train_generator = generator(train_path, train_doc, batch_size)\n",
    "val_generator = generator(val_path, val_doc, batch_size)\n",
    "\n",
    "model_b_history = model_b.fit_generator(train_generator, steps_per_epoch=steps_per_epoch, epochs=num_epochs, verbose=1, \n",
    "                    callbacks=callbacks_list, validation_data=val_generator, \n",
    "                    validation_steps=validation_steps, class_weight=None, workers=1, initial_epoch=0)\n",
    "model_b_history"
   ]
  },
  {
   "cell_type": "code",
   "execution_count": 25,
   "metadata": {},
   "outputs": [
    {
     "data": {
      "image/png": "[encoded data removed]",
      "text/plain": [
       "<Figure size 1080x288 with 2 Axes>"
      ]
     },
     "metadata": {},
     "output_type": "display_data"
    }
   ],
   "source": [
    "plot(model_b_history)"
   ]
  },
  {
   "cell_type": "markdown",
   "metadata": {},
   "source": [
    "#### Conclusion:\n",
    "* Network train and test accuracies are 57 and 60 respectively. The network is not learning much. let's try another network with some adjustmets.\n",
    "* now in the next network increase the number of fileters"
   ]
  },
  {
   "cell_type": "markdown",
   "metadata": {},
   "source": [
    "### Model-3_Conv_3D"
   ]
  },
  {
   "cell_type": "code",
   "execution_count": 10,
   "metadata": {},
   "outputs": [],
   "source": [
    "nb_filters = [8,16,32,64]\n",
    "nb_dense = [256, 128, 5]\n",
    "\n",
    "# Input\n",
    "input_shape=(30,120,120,3)\n",
    "\n",
    "# Define model\n",
    "model_c = Sequential()\n",
    "\n",
    "model_c.add(Conv3D(nb_filters[0], \n",
    "                 kernel_size=(3,3,3), \n",
    "                 input_shape=input_shape,\n",
    "                 padding='same'))\n",
    "model_c.add(BatchNormalization())\n",
    "model_c.add(Activation('relu'))\n",
    "\n",
    "model_c.add(Conv3D(nb_filters[1], \n",
    "                 kernel_size=(3,3,3), \n",
    "                 input_shape=input_shape,\n",
    "                 padding='same'))\n",
    "model_c.add(BatchNormalization())\n",
    "model_c.add(Activation('relu'))\n",
    "\n",
    "model_c.add(MaxPooling3D(pool_size=(2,2,2)))\n",
    "\n",
    "model_c.add(Conv3D(nb_filters[2], \n",
    "                 kernel_size=(3,3,3), \n",
    "                 padding='same'))\n",
    "model_c.add(BatchNormalization())\n",
    "model_c.add(Activation('relu'))\n",
    "\n",
    "\n",
    "model_c.add(MaxPooling3D(pool_size=(3,3,3)))\n",
    "\n",
    "model_c.add(Conv3D(nb_filters[3], \n",
    "                 kernel_size=(1,3,3), \n",
    "                 padding='same'))\n",
    "model_c.add(BatchNormalization())\n",
    "model_c.add(Activation('relu'))\n",
    "model_c.add(Dropout(0.25))\n",
    "\n",
    "model_c.add(MaxPooling3D(pool_size=(1,3,3)))\n",
    "\n",
    "\n",
    "\n",
    "#Flatten Layers\n",
    "model_c.add(Flatten())\n",
    "\n",
    "model_c.add(Dense(nb_dense[0], activation='relu'))\n",
    "model_c.add(Dropout(0.5))\n",
    "\n",
    "model_c.add(Dense(nb_dense[1], activation='relu'))\n",
    "model_c.add(Dropout(0.5))\n",
    "\n",
    "#softmax layer\n",
    "model_c.add(Dense(nb_dense[2], activation='softmax'))"
   ]
  },
  {
   "cell_type": "code",
   "execution_count": 11,
   "metadata": {},
   "outputs": [
    {
     "name": "stdout",
     "output_type": "stream",
     "text": [
      "_________________________________________________________________\n",
      "Layer (type)                 Output Shape              Param #   \n",
      "=================================================================\n",
      "conv3d_1 (Conv3D)            (None, 30, 120, 120, 8)   656       \n",
      "_________________________________________________________________\n",
      "batch_normalization_1 (Batch (None, 30, 120, 120, 8)   32        \n",
      "_________________________________________________________________\n",
      "activation_1 (Activation)    (None, 30, 120, 120, 8)   0         \n",
      "_________________________________________________________________\n",
      "conv3d_2 (Conv3D)            (None, 30, 120, 120, 16)  3472      \n",
      "_________________________________________________________________\n",
      "batch_normalization_2 (Batch (None, 30, 120, 120, 16)  64        \n",
      "_________________________________________________________________\n",
      "activation_2 (Activation)    (None, 30, 120, 120, 16)  0         \n",
      "_________________________________________________________________\n",
      "max_pooling3d_1 (MaxPooling3 (None, 15, 60, 60, 16)    0         \n",
      "_________________________________________________________________\n",
      "conv3d_3 (Conv3D)            (None, 15, 60, 60, 32)    13856     \n",
      "_________________________________________________________________\n",
      "batch_normalization_3 (Batch (None, 15, 60, 60, 32)    128       \n",
      "_________________________________________________________________\n",
      "activation_3 (Activation)    (None, 15, 60, 60, 32)    0         \n",
      "_________________________________________________________________\n",
      "max_pooling3d_2 (MaxPooling3 (None, 5, 20, 20, 32)     0         \n",
      "_________________________________________________________________\n",
      "conv3d_4 (Conv3D)            (None, 5, 20, 20, 64)     18496     \n",
      "_________________________________________________________________\n",
      "batch_normalization_4 (Batch (None, 5, 20, 20, 64)     256       \n",
      "_________________________________________________________________\n",
      "activation_4 (Activation)    (None, 5, 20, 20, 64)     0         \n",
      "_________________________________________________________________\n",
      "dropout_1 (Dropout)          (None, 5, 20, 20, 64)     0         \n",
      "_________________________________________________________________\n",
      "max_pooling3d_3 (MaxPooling3 (None, 5, 6, 6, 64)       0         \n",
      "_________________________________________________________________\n",
      "flatten_1 (Flatten)          (None, 11520)             0         \n",
      "_________________________________________________________________\n",
      "dense_1 (Dense)              (None, 256)               2949376   \n",
      "_________________________________________________________________\n",
      "dropout_2 (Dropout)          (None, 256)               0         \n",
      "_________________________________________________________________\n",
      "dense_2 (Dense)              (None, 128)               32896     \n",
      "_________________________________________________________________\n",
      "dropout_3 (Dropout)          (None, 128)               0         \n",
      "_________________________________________________________________\n",
      "dense_3 (Dense)              (None, 5)                 645       \n",
      "=================================================================\n",
      "Total params: 3,019,877\n",
      "Trainable params: 3,019,637\n",
      "Non-trainable params: 240\n",
      "_________________________________________________________________\n",
      "None\n"
     ]
    }
   ],
   "source": [
    "optimiser = keras.optimizers.Adam() #write your optimizer\n",
    "model_c.compile(optimizer=optimiser, loss='categorical_crossentropy', metrics=['categorical_accuracy'])\n",
    "print (model_c.summary())"
   ]
  },
  {
   "cell_type": "code",
   "execution_count": 18,
   "metadata": {},
   "outputs": [
    {
     "name": "stdout",
     "output_type": "stream",
     "text": [
      "# training sequences = 663\n",
      "# validation sequences = 100\n",
      "# epochs = 20\n",
      "2020-03-01 19:19:53.191428\n"
     ]
    }
   ],
   "source": [
    "curr_dt_time = datetime.datetime.now()\n",
    "train_path = '/mnt/disks/user/project/PROJECT/Project_data/train'\n",
    "val_path = '/mnt/disks/user/project/PROJECT/Project_data/val'\n",
    "num_train_sequences = len(train_doc)\n",
    "print('# training sequences =', num_train_sequences)\n",
    "num_val_sequences = len(val_doc)\n",
    "print('# validation sequences =', num_val_sequences)\n",
    "num_epochs = 20 # choose the number of epochs\n",
    "print ('# epochs =', num_epochs)\n",
    "print(curr_dt_time)"
   ]
  },
  {
   "cell_type": "code",
   "execution_count": 19,
   "metadata": {},
   "outputs": [],
   "source": [
    "model_name = 'model_init' + '_' + str(curr_dt_time).replace(' ','').replace(':','_') + '/'\n",
    "\n",
    "if not os.path.exists(model_name):\n",
    "    os.mkdir(model_name)\n",
    "\n",
    "filepath = model_name + 'model-{epoch:05d}-{loss:.5f}-{categorical_accuracy:.5f}-{val_loss:.5f}-{val_categorical_accuracy:.5f}.h5'\n",
    "\n",
    "checkpoint = ModelCheckpoint(filepath, monitor='val_loss', verbose=1, save_best_only=False, save_weights_only=False, mode='auto', period=1)\n",
    "\n",
    "LR = ReduceLROnPlateau(monitor='val_loss', factor=0.5, patience=2, cooldown=1, verbose=1) # write the REducelronplateau code here\n",
    "callbacks_list = [checkpoint, LR]"
   ]
  },
  {
   "cell_type": "code",
   "execution_count": 20,
   "metadata": {},
   "outputs": [],
   "source": [
    "if (num_train_sequences%batch_size) == 0:\n",
    "    steps_per_epoch = int(num_train_sequences/batch_size)\n",
    "else:\n",
    "    steps_per_epoch = (num_train_sequences//batch_size) + 1\n",
    "\n",
    "if (num_val_sequences%batch_size) == 0:\n",
    "    validation_steps = int(num_val_sequences/batch_size)\n",
    "else:\n",
    "    validation_steps = (num_val_sequences//batch_size) + 1"
   ]
  },
  {
   "cell_type": "code",
   "execution_count": 21,
   "metadata": {},
   "outputs": [],
   "source": [
    "train_generator = generator(train_path, train_doc, batch_size)\n",
    "val_generator = generator(val_path, val_doc, batch_size)"
   ]
  },
  {
   "cell_type": "code",
   "execution_count": 16,
   "metadata": {},
   "outputs": [
    {
     "name": "stdout",
     "output_type": "stream",
     "text": [
      "Source path =  /mnt/disks/user/project/PROJECT/Project_data/val ; batch size = 20\n",
      "Source path =  /mnt/disks/user/project/PROJECT/Project_data/train ; batch size = 20\n",
      "Epoch 1/20\n"
     ]
    },
    {
     "name": "stderr",
     "output_type": "stream",
     "text": [
      "/mnt/disks/user/anaconda3/lib/python3.6/site-packages/ipykernel_launcher.py:17: DeprecationWarning: `imread` is deprecated!\n",
      "`imread` is deprecated in SciPy 1.0.0, and will be removed in 1.2.0.\n",
      "Use ``imageio.imread`` instead.\n",
      "/mnt/disks/user/anaconda3/lib/python3.6/site-packages/ipykernel_launcher.py:22: DeprecationWarning: `imresize` is deprecated!\n",
      "`imresize` is deprecated in SciPy 1.0.0, and will be removed in 1.2.0.\n",
      "Use ``skimage.transform.resize`` instead.\n"
     ]
    },
    {
     "name": "stdout",
     "output_type": "stream",
     "text": [
      "32/34 [===========================>..] - ETA: 5s - loss: 10.7227 - categorical_accuracy: 0.2313Batch:  34 Index: 20\n"
     ]
    },
    {
     "name": "stderr",
     "output_type": "stream",
     "text": [
      "/mnt/disks/user/anaconda3/lib/python3.6/site-packages/ipykernel_launcher.py:42: DeprecationWarning: `imread` is deprecated!\n",
      "`imread` is deprecated in SciPy 1.0.0, and will be removed in 1.2.0.\n",
      "Use ``imageio.imread`` instead.\n",
      "/mnt/disks/user/anaconda3/lib/python3.6/site-packages/ipykernel_launcher.py:46: DeprecationWarning: `imresize` is deprecated!\n",
      "`imresize` is deprecated in SciPy 1.0.0, and will be removed in 1.2.0.\n",
      "Use ``skimage.transform.resize`` instead.\n"
     ]
    },
    {
     "name": "stdout",
     "output_type": "stream",
     "text": [
      "34/34 [==============================] - 95s 3s/step - loss: 10.6031 - categorical_accuracy: 0.2421 - val_loss: 8.0869 - val_categorical_accuracy: 0.3400\n",
      "\n",
      "Epoch 00001: saving model to model_init_2020-03-0119_08_38.010258/model-00001-10.59954-0.23982-8.08685-0.34000.h5\n",
      "Epoch 2/20\n",
      "34/34 [==============================] - 15s 448ms/step - loss: 10.4303 - categorical_accuracy: 0.2745 - val_loss: 13.5392 - val_categorical_accuracy: 0.1600\n",
      "\n",
      "Epoch 00002: saving model to model_init_2020-03-0119_08_38.010258/model-00002-10.43030-0.27451-13.53920-0.16000.h5\n",
      "Epoch 3/20\n",
      "34/34 [==============================] - 15s 447ms/step - loss: 12.8015 - categorical_accuracy: 0.1863 - val_loss: 13.5392 - val_categorical_accuracy: 0.1600\n",
      "\n",
      "Epoch 00003: saving model to model_init_2020-03-0119_08_38.010258/model-00003-12.80148-0.18627-13.53920-0.16000.h5\n",
      "\n",
      "Epoch 00003: ReduceLROnPlateau reducing learning rate to 0.0005000000237487257.\n",
      "Epoch 4/20\n",
      "34/34 [==============================] - 17s 490ms/step - loss: 12.6690 - categorical_accuracy: 0.2059 - val_loss: 13.5392 - val_categorical_accuracy: 0.1600\n",
      "\n",
      "Epoch 00004: saving model to model_init_2020-03-0119_08_38.010258/model-00004-12.66904-0.20588-13.53920-0.16000.h5\n",
      "Epoch 5/20\n",
      "34/34 [==============================] - 16s 459ms/step - loss: 11.5457 - categorical_accuracy: 0.2647 - val_loss: 13.2663 - val_categorical_accuracy: 0.1600\n",
      "\n",
      "Epoch 00005: saving model to model_init_2020-03-0119_08_38.010258/model-00005-11.54569-0.26471-13.26634-0.16000.h5\n",
      "\n",
      "Epoch 00005: ReduceLROnPlateau reducing learning rate to 0.0002500000118743628.\n",
      "Epoch 6/20\n",
      "34/34 [==============================] - 15s 435ms/step - loss: 12.6869 - categorical_accuracy: 0.1863 - val_loss: 10.5707 - val_categorical_accuracy: 0.2100\n",
      "\n",
      "Epoch 00006: saving model to model_init_2020-03-0119_08_38.010258/model-00006-12.68691-0.18627-10.57072-0.21000.h5\n",
      "Epoch 7/20\n",
      "34/34 [==============================] - 15s 437ms/step - loss: 11.7409 - categorical_accuracy: 0.2549 - val_loss: 10.5109 - val_categorical_accuracy: 0.2400\n",
      "\n",
      "Epoch 00007: saving model to model_init_2020-03-0119_08_38.010258/model-00007-11.74090-0.25490-10.51094-0.24000.h5\n",
      "\n",
      "Epoch 00007: ReduceLROnPlateau reducing learning rate to 0.0001250000059371814.\n",
      "Epoch 8/20\n",
      "34/34 [==============================] - 16s 465ms/step - loss: 12.2757 - categorical_accuracy: 0.1961 - val_loss: 11.3367 - val_categorical_accuracy: 0.1700\n",
      "\n",
      "Epoch 00008: saving model to model_init_2020-03-0119_08_38.010258/model-00008-12.27567-0.19608-11.33671-0.17000.h5\n",
      "Epoch 9/20\n",
      "34/34 [==============================] - 15s 455ms/step - loss: 12.6449 - categorical_accuracy: 0.1961 - val_loss: 11.7094 - val_categorical_accuracy: 0.1700\n",
      "\n",
      "Epoch 00009: saving model to model_init_2020-03-0119_08_38.010258/model-00009-12.64488-0.19608-11.70944-0.17000.h5\n",
      "\n",
      "Epoch 00009: ReduceLROnPlateau reducing learning rate to 6.25000029685907e-05.\n",
      "Epoch 10/20\n",
      "34/34 [==============================] - 17s 498ms/step - loss: 12.3969 - categorical_accuracy: 0.1961 - val_loss: 11.2550 - val_categorical_accuracy: 0.1700\n",
      "\n",
      "Epoch 00010: saving model to model_init_2020-03-0119_08_38.010258/model-00010-12.39694-0.19608-11.25501-0.17000.h5\n",
      "Epoch 11/20\n",
      "34/34 [==============================] - 18s 516ms/step - loss: 13.1883 - categorical_accuracy: 0.1667 - val_loss: 10.5580 - val_categorical_accuracy: 0.2600\n",
      "\n",
      "Epoch 00011: saving model to model_init_2020-03-0119_08_38.010258/model-00011-13.18827-0.16667-10.55799-0.26000.h5\n",
      "\n",
      "Epoch 00011: ReduceLROnPlateau reducing learning rate to 3.125000148429535e-05.\n",
      "Epoch 12/20\n",
      "34/34 [==============================] - 17s 493ms/step - loss: 12.5132 - categorical_accuracy: 0.1765 - val_loss: 10.6792 - val_categorical_accuracy: 0.2000\n",
      "\n",
      "Epoch 00012: saving model to model_init_2020-03-0119_08_38.010258/model-00012-12.51316-0.17647-10.67915-0.20000.h5\n",
      "Epoch 13/20\n",
      "34/34 [==============================] - 17s 499ms/step - loss: 12.7541 - categorical_accuracy: 0.1863 - val_loss: 10.6887 - val_categorical_accuracy: 0.1800\n",
      "\n",
      "Epoch 00013: saving model to model_init_2020-03-0119_08_38.010258/model-00013-12.75410-0.18627-10.68870-0.18000.h5\n",
      "\n",
      "Epoch 00013: ReduceLROnPlateau reducing learning rate to 1.5625000742147677e-05.\n",
      "Epoch 14/20\n",
      "34/34 [==============================] - 17s 508ms/step - loss: 12.4124 - categorical_accuracy: 0.1765 - val_loss: 10.7272 - val_categorical_accuracy: 0.1800\n",
      "\n",
      "Epoch 00014: saving model to model_init_2020-03-0119_08_38.010258/model-00014-12.41238-0.17647-10.72725-0.18000.h5\n",
      "Epoch 15/20\n",
      "34/34 [==============================] - 17s 499ms/step - loss: 11.6372 - categorical_accuracy: 0.2647 - val_loss: 10.7363 - val_categorical_accuracy: 0.1800\n",
      "\n",
      "Epoch 00015: saving model to model_init_2020-03-0119_08_38.010258/model-00015-11.63715-0.26471-10.73627-0.18000.h5\n",
      "\n",
      "Epoch 00015: ReduceLROnPlateau reducing learning rate to 7.812500371073838e-06.\n",
      "Epoch 16/20\n",
      "34/34 [==============================] - 17s 503ms/step - loss: 13.0856 - categorical_accuracy: 0.1765 - val_loss: 10.7498 - val_categorical_accuracy: 0.1800\n",
      "\n",
      "Epoch 00016: saving model to model_init_2020-03-0119_08_38.010258/model-00016-13.08557-0.17647-10.74976-0.18000.h5\n",
      "Epoch 17/20\n",
      "34/34 [==============================] - 17s 498ms/step - loss: 12.0602 - categorical_accuracy: 0.2157 - val_loss: 10.7294 - val_categorical_accuracy: 0.1800\n",
      "\n",
      "Epoch 00017: saving model to model_init_2020-03-0119_08_38.010258/model-00017-12.06018-0.21569-10.72936-0.18000.h5\n",
      "\n",
      "Epoch 00017: ReduceLROnPlateau reducing learning rate to 3.906250185536919e-06.\n",
      "Epoch 18/20\n",
      "34/34 [==============================] - 17s 509ms/step - loss: 12.0990 - categorical_accuracy: 0.2255 - val_loss: 10.7125 - val_categorical_accuracy: 0.1800\n",
      "\n",
      "Epoch 00018: saving model to model_init_2020-03-0119_08_38.010258/model-00018-12.09900-0.22549-10.71252-0.18000.h5\n",
      "Epoch 19/20\n",
      "34/34 [==============================] - 17s 499ms/step - loss: 12.0556 - categorical_accuracy: 0.2255 - val_loss: 10.7219 - val_categorical_accuracy: 0.1800\n",
      "\n",
      "Epoch 00019: saving model to model_init_2020-03-0119_08_38.010258/model-00019-12.05555-0.22549-10.72188-0.18000.h5\n",
      "\n",
      "Epoch 00019: ReduceLROnPlateau reducing learning rate to 1.9531250927684596e-06.\n",
      "Epoch 20/20\n",
      "34/34 [==============================] - 17s 500ms/step - loss: 12.8370 - categorical_accuracy: 0.1667 - val_loss: 10.7322 - val_categorical_accuracy: 0.1800\n",
      "\n",
      "Epoch 00020: saving model to model_init_2020-03-0119_08_38.010258/model-00020-12.83703-0.16667-10.73217-0.18000.h5\n"
     ]
    },
    {
     "data": {
      "text/plain": [
       "<keras.callbacks.History at 0x7fdd07a6ab38>"
      ]
     },
     "execution_count": 16,
     "metadata": {},
     "output_type": "execute_result"
    }
   ],
   "source": [
    "batch_size = 30\n",
    "num_epochs = 20\n",
    "model_c_history = model_c.fit_generator(train_generator, steps_per_epoch=steps_per_epoch, epochs=num_epochs, verbose=1, \n",
    "                    callbacks=callbacks_list, validation_data=val_generator, \n",
    "                    validation_steps=validation_steps, class_weight=None, workers=1, initial_epoch=0)\n",
    "model_c_history"
   ]
  },
  {
   "cell_type": "code",
   "execution_count": 17,
   "metadata": {},
   "outputs": [
    {
     "data": {
      "image/png": "[encoded data removed]",
      "text/plain": [
       "<Figure size 1080x288 with 2 Axes>"
      ]
     },
     "metadata": {},
     "output_type": "display_data"
    }
   ],
   "source": [
    "plot(model_c_history)"
   ]
  },
  {
   "cell_type": "markdown",
   "metadata": {},
   "source": [
    "#### Conclusion:\n",
    "* Network accuracy is not going well, Lets Try some other network by increasing the number of filters to 32,64,128 and 256"
   ]
  },
  {
   "cell_type": "markdown",
   "metadata": {},
   "source": [
    "### Model-4_Conv_3D"
   ]
  },
  {
   "cell_type": "code",
   "execution_count": 34,
   "metadata": {},
   "outputs": [],
   "source": [
    "nb_filters = [32,64,128,256]\n",
    "nb_dense = [256, 128, 5]\n",
    "\n",
    "# Input\n",
    "input_shape=(30,120,120,3)\n",
    "\n",
    "# Define model\n",
    "model_d = Sequential()\n",
    "\n",
    "model_d.add(Conv3D(nb_filters[0], \n",
    "                 kernel_size=(3,3,3), \n",
    "                 input_shape=input_shape,\n",
    "                 padding='same'))\n",
    "model_d.add(BatchNormalization())\n",
    "model_d.add(Activation('relu'))\n",
    "\n",
    "model_d.add(MaxPooling3D(pool_size=(2,2,2)))\n",
    "\n",
    "model_d.add(Conv3D(nb_filters[1], \n",
    "                 kernel_size=(3,3,3), \n",
    "                 padding='same'))\n",
    "model_d.add(BatchNormalization())\n",
    "model_d.add(Activation('relu'))\n",
    "\n",
    "\n",
    "model_d.add(MaxPooling3D(pool_size=(2,2,2)))\n",
    "\n",
    "model_d.add(Conv3D(nb_filters[2], \n",
    "                 kernel_size=(1,3,3), \n",
    "                 padding='same'))\n",
    "model_d.add(BatchNormalization())\n",
    "model_d.add(Activation('relu'))\n",
    "\n",
    "\n",
    "model_d.add(MaxPooling3D(pool_size=(2,2,2)))\n",
    "\n",
    "model_d.add(Conv3D(nb_filters[3], \n",
    "                 kernel_size=(1,3,3), \n",
    "                 padding='same'))\n",
    "model_d.add(Activation('relu'))\n",
    "model_d.add(Dropout(0.25))\n",
    "\n",
    "model_d.add(MaxPooling3D(pool_size=(2,2,2)))\n",
    "\n",
    "\n",
    "#Flatten Layers\n",
    "model_d.add(Flatten())\n",
    "\n",
    "model_d.add(Dense(nb_dense[0], activation='relu'))\n",
    "model_d.add(Dropout(0.5))\n",
    "\n",
    "model_d.add(Dense(nb_dense[1], activation='relu'))\n",
    "model_d.add(Dropout(0.5))\n",
    "\n",
    "#softmax layer\n",
    "model_d.add(Dense(nb_dense[2], activation='softmax'))"
   ]
  },
  {
   "cell_type": "code",
   "execution_count": 41,
   "metadata": {},
   "outputs": [
    {
     "name": "stdout",
     "output_type": "stream",
     "text": [
      "_________________________________________________________________\n",
      "Layer (type)                 Output Shape              Param #   \n",
      "=================================================================\n",
      "conv3d_15 (Conv3D)           (None, 30, 120, 120, 32)  2624      \n",
      "_________________________________________________________________\n",
      "batch_normalization_14 (Batc (None, 30, 120, 120, 32)  128       \n",
      "_________________________________________________________________\n",
      "activation_15 (Activation)   (None, 30, 120, 120, 32)  0         \n",
      "_________________________________________________________________\n",
      "max_pooling3d_13 (MaxPooling (None, 15, 60, 60, 32)    0         \n",
      "_________________________________________________________________\n",
      "conv3d_16 (Conv3D)           (None, 15, 60, 60, 64)    55360     \n",
      "_________________________________________________________________\n",
      "batch_normalization_15 (Batc (None, 15, 60, 60, 64)    256       \n",
      "_________________________________________________________________\n",
      "activation_16 (Activation)   (None, 15, 60, 60, 64)    0         \n",
      "_________________________________________________________________\n",
      "max_pooling3d_14 (MaxPooling (None, 7, 30, 30, 64)     0         \n",
      "_________________________________________________________________\n",
      "conv3d_17 (Conv3D)           (None, 7, 30, 30, 128)    73856     \n",
      "_________________________________________________________________\n",
      "batch_normalization_16 (Batc (None, 7, 30, 30, 128)    512       \n",
      "_________________________________________________________________\n",
      "activation_17 (Activation)   (None, 7, 30, 30, 128)    0         \n",
      "_________________________________________________________________\n",
      "max_pooling3d_15 (MaxPooling (None, 3, 15, 15, 128)    0         \n",
      "_________________________________________________________________\n",
      "conv3d_18 (Conv3D)           (None, 3, 15, 15, 256)    295168    \n",
      "_________________________________________________________________\n",
      "activation_18 (Activation)   (None, 3, 15, 15, 256)    0         \n",
      "_________________________________________________________________\n",
      "dropout_9 (Dropout)          (None, 3, 15, 15, 256)    0         \n",
      "_________________________________________________________________\n",
      "max_pooling3d_16 (MaxPooling (None, 1, 7, 7, 256)      0         \n",
      "_________________________________________________________________\n",
      "flatten_4 (Flatten)          (None, 12544)             0         \n",
      "_________________________________________________________________\n",
      "dense_10 (Dense)             (None, 256)               3211520   \n",
      "_________________________________________________________________\n",
      "dropout_10 (Dropout)         (None, 256)               0         \n",
      "_________________________________________________________________\n",
      "dense_11 (Dense)             (None, 128)               32896     \n",
      "_________________________________________________________________\n",
      "dropout_11 (Dropout)         (None, 128)               0         \n",
      "_________________________________________________________________\n",
      "dense_12 (Dense)             (None, 5)                 645       \n",
      "=================================================================\n",
      "Total params: 3,672,965\n",
      "Trainable params: 3,672,517\n",
      "Non-trainable params: 448\n",
      "_________________________________________________________________\n",
      "None\n"
     ]
    }
   ],
   "source": [
    "optimiser = keras.optimizers.Adam() #write your optimizer\n",
    "model_d.compile(optimizer=optimiser, loss='categorical_crossentropy', metrics=['categorical_accuracy'])\n",
    "print (model_d.summary())"
   ]
  },
  {
   "cell_type": "code",
   "execution_count": 42,
   "metadata": {},
   "outputs": [
    {
     "name": "stdout",
     "output_type": "stream",
     "text": [
      "# training sequences = 663\n",
      "# validation sequences = 100\n",
      "# epochs = 30\n",
      "2020-03-01 17:55:41.130584\n"
     ]
    }
   ],
   "source": [
    "curr_dt_time = datetime.datetime.now()\n",
    "train_path = '/mnt/disks/user/project/PROJECT/Project_data/train'\n",
    "val_path = '/mnt/disks/user/project/PROJECT/Project_data/val'\n",
    "num_train_sequences = len(train_doc)\n",
    "print('# training sequences =', num_train_sequences)\n",
    "num_val_sequences = len(val_doc)\n",
    "print('# validation sequences =', num_val_sequences)\n",
    "num_epochs = num_epochs # choose the number of epochs\n",
    "print ('# epochs =', num_epochs)\n",
    "print(curr_dt_time)"
   ]
  },
  {
   "cell_type": "code",
   "execution_count": 43,
   "metadata": {},
   "outputs": [],
   "source": [
    "model_name = 'model_init' + '_' + str(curr_dt_time).replace(' ','').replace(':','_') + '/'\n",
    "\n",
    "if not os.path.exists(model_name):\n",
    "    os.mkdir(model_name)\n",
    "\n",
    "filepath = model_name + 'model-{epoch:05d}-{loss:.5f}-{categorical_accuracy:.5f}-{val_loss:.5f}-{val_categorical_accuracy:.5f}.h5'\n",
    "\n",
    "checkpoint = ModelCheckpoint(filepath, monitor='val_loss', verbose=1, save_best_only=False, save_weights_only=False, mode='auto', period=1)\n",
    "\n",
    "LR = ReduceLROnPlateau(monitor='val_loss', factor=0.5, patience=2, cooldown=1, verbose=1) # write the REducelronplateau code here\n",
    "callbacks_list = [checkpoint, LR]"
   ]
  },
  {
   "cell_type": "code",
   "execution_count": 44,
   "metadata": {},
   "outputs": [],
   "source": [
    "if (num_train_sequences%batch_size) == 0:\n",
    "    steps_per_epoch = int(num_train_sequences/batch_size)\n",
    "else:\n",
    "    steps_per_epoch = (num_train_sequences//batch_size) + 1\n",
    "\n",
    "if (num_val_sequences%batch_size) == 0:\n",
    "    validation_steps = int(num_val_sequences/batch_size)\n",
    "else:\n",
    "    validation_steps = (num_val_sequences//batch_size) + 1"
   ]
  },
  {
   "cell_type": "code",
   "execution_count": 49,
   "metadata": {},
   "outputs": [],
   "source": [
    "batch_size = 20\n",
    "num_epochs = 30\n",
    "train_generator = generator(train_path, train_doc, batch_size)\n",
    "val_generator = generator(val_path, val_doc, batch_size)"
   ]
  },
  {
   "cell_type": "code",
   "execution_count": 50,
   "metadata": {},
   "outputs": [
    {
     "name": "stdout",
     "output_type": "stream",
     "text": [
      "Source path =  /mnt/disks/user/project/PROJECT/Project_data/val ; batch size = 20\n",
      "Source path =  /mnt/disks/user/project/PROJECT/Project_data/train ; batch size = 20\n",
      "Epoch 1/30\n"
     ]
    },
    {
     "name": "stderr",
     "output_type": "stream",
     "text": [
      "/mnt/disks/user/anaconda3/lib/python3.6/site-packages/ipykernel_launcher.py:17: DeprecationWarning: `imread` is deprecated!\n",
      "`imread` is deprecated in SciPy 1.0.0, and will be removed in 1.2.0.\n",
      "Use ``imageio.imread`` instead.\n",
      "/mnt/disks/user/anaconda3/lib/python3.6/site-packages/ipykernel_launcher.py:22: DeprecationWarning: `imresize` is deprecated!\n",
      "`imresize` is deprecated in SciPy 1.0.0, and will be removed in 1.2.0.\n",
      "Use ``skimage.transform.resize`` instead.\n"
     ]
    },
    {
     "name": "stdout",
     "output_type": "stream",
     "text": [
      "14/14 [==============================] - 43s 3s/step - loss: 3.1211 - categorical_accuracy: 0.2071 - val_loss: 1.6055 - val_categorical_accuracy: 0.1750\n",
      "\n",
      "Epoch 00001: saving model to model_init_2020-03-0117_55_41.130584/model-00001-3.12115-0.20714-1.60546-0.17500.h5\n",
      "Epoch 2/30\n",
      "14/14 [==============================] - 32s 2s/step - loss: 1.5290 - categorical_accuracy: 0.2750 - val_loss: 2.2803 - val_categorical_accuracy: 0.2250\n",
      "\n",
      "Epoch 00002: saving model to model_init_2020-03-0117_55_41.130584/model-00002-1.52897-0.27500-2.28030-0.22500.h5\n",
      "Epoch 3/30\n",
      " 4/14 [=======>......................] - ETA: 22s - loss: 1.4143 - categorical_accuracy: 0.3250Batch:  34 Index: 20\n"
     ]
    },
    {
     "name": "stderr",
     "output_type": "stream",
     "text": [
      "/mnt/disks/user/anaconda3/lib/python3.6/site-packages/ipykernel_launcher.py:42: DeprecationWarning: `imread` is deprecated!\n",
      "`imread` is deprecated in SciPy 1.0.0, and will be removed in 1.2.0.\n",
      "Use ``imageio.imread`` instead.\n",
      "/mnt/disks/user/anaconda3/lib/python3.6/site-packages/ipykernel_launcher.py:46: DeprecationWarning: `imresize` is deprecated!\n",
      "`imresize` is deprecated in SciPy 1.0.0, and will be removed in 1.2.0.\n",
      "Use ``skimage.transform.resize`` instead.\n"
     ]
    },
    {
     "name": "stdout",
     "output_type": "stream",
     "text": [
      "14/14 [==============================] - 16s 1s/step - loss: 1.6242 - categorical_accuracy: 0.3016 - val_loss: 1.5479 - val_categorical_accuracy: 0.2250\n",
      "\n",
      "Epoch 00003: saving model to model_init_2020-03-0117_55_41.130584/model-00003-1.52994-0.30709-1.54793-0.22500.h5\n",
      "Epoch 4/30\n",
      "14/14 [==============================] - 5s 343ms/step - loss: 1.5794 - categorical_accuracy: 0.3571 - val_loss: 1.9559 - val_categorical_accuracy: 0.2000\n",
      "\n",
      "Epoch 00004: saving model to model_init_2020-03-0117_55_41.130584/model-00004-1.57935-0.35714-1.95593-0.20000.h5\n",
      "Epoch 5/30\n",
      "14/14 [==============================] - 5s 373ms/step - loss: 1.7047 - categorical_accuracy: 0.1190 - val_loss: 1.4920 - val_categorical_accuracy: 0.2250\n",
      "\n",
      "Epoch 00005: saving model to model_init_2020-03-0117_55_41.130584/model-00005-1.70468-0.11905-1.49202-0.22500.h5\n",
      "Epoch 6/30\n",
      "14/14 [==============================] - 7s 484ms/step - loss: 1.5637 - categorical_accuracy: 0.2857 - val_loss: 1.9319 - val_categorical_accuracy: 0.1500\n",
      "\n",
      "Epoch 00006: saving model to model_init_2020-03-0117_55_41.130584/model-00006-1.56373-0.28571-1.93192-0.15000.h5\n",
      "Epoch 7/30\n",
      "14/14 [==============================] - 7s 496ms/step - loss: 1.5824 - categorical_accuracy: 0.2143 - val_loss: 1.4785 - val_categorical_accuracy: 0.2750\n",
      "\n",
      "Epoch 00007: saving model to model_init_2020-03-0117_55_41.130584/model-00007-1.58242-0.21429-1.47846-0.27500.h5\n",
      "Epoch 8/30\n",
      "14/14 [==============================] - 6s 454ms/step - loss: 1.6156 - categorical_accuracy: 0.2143 - val_loss: 1.5121 - val_categorical_accuracy: 0.5500\n",
      "\n",
      "Epoch 00008: saving model to model_init_2020-03-0117_55_41.130584/model-00008-1.61562-0.21429-1.51209-0.55000.h5\n",
      "Epoch 9/30\n",
      "14/14 [==============================] - 8s 588ms/step - loss: 1.5874 - categorical_accuracy: 0.2857 - val_loss: 1.4727 - val_categorical_accuracy: 0.3500\n",
      "\n",
      "Epoch 00009: saving model to model_init_2020-03-0117_55_41.130584/model-00009-1.58745-0.28571-1.47269-0.35000.h5\n",
      "Epoch 10/30\n",
      "14/14 [==============================] - 6s 432ms/step - loss: 1.6075 - categorical_accuracy: 0.3333 - val_loss: 1.5711 - val_categorical_accuracy: 0.3000\n",
      "\n",
      "Epoch 00010: saving model to model_init_2020-03-0117_55_41.130584/model-00010-1.60753-0.33333-1.57109-0.30000.h5\n",
      "Epoch 11/30\n",
      "14/14 [==============================] - 7s 468ms/step - loss: 1.6301 - categorical_accuracy: 0.2619 - val_loss: 1.6261 - val_categorical_accuracy: 0.1500\n",
      "\n",
      "Epoch 00011: saving model to model_init_2020-03-0117_55_41.130584/model-00011-1.63015-0.26190-1.62609-0.15000.h5\n",
      "\n",
      "Epoch 00011: ReduceLROnPlateau reducing learning rate to 0.0005000000237487257.\n",
      "Epoch 12/30\n",
      "14/14 [==============================] - 6s 437ms/step - loss: 1.6200 - categorical_accuracy: 0.1429 - val_loss: 1.6238 - val_categorical_accuracy: 0.2250\n",
      "\n",
      "Epoch 00012: saving model to model_init_2020-03-0117_55_41.130584/model-00012-1.62001-0.14286-1.62384-0.22500.h5\n",
      "Epoch 13/30\n",
      "14/14 [==============================] - 7s 469ms/step - loss: 1.6145 - categorical_accuracy: 0.1905 - val_loss: 1.6039 - val_categorical_accuracy: 0.2750\n",
      "\n",
      "Epoch 00013: saving model to model_init_2020-03-0117_55_41.130584/model-00013-1.61450-0.19048-1.60387-0.27500.h5\n",
      "\n",
      "Epoch 00013: ReduceLROnPlateau reducing learning rate to 0.0002500000118743628.\n",
      "Epoch 14/30\n",
      "14/14 [==============================] - 6s 450ms/step - loss: 1.6442 - categorical_accuracy: 0.1429 - val_loss: 1.6304 - val_categorical_accuracy: 0.2000\n",
      "\n",
      "Epoch 00014: saving model to model_init_2020-03-0117_55_41.130584/model-00014-1.64420-0.14286-1.63042-0.20000.h5\n",
      "Epoch 15/30\n",
      "14/14 [==============================] - 7s 498ms/step - loss: 1.6355 - categorical_accuracy: 0.1429 - val_loss: 1.6126 - val_categorical_accuracy: 0.2000\n",
      "\n",
      "Epoch 00015: saving model to model_init_2020-03-0117_55_41.130584/model-00015-1.63550-0.14286-1.61264-0.20000.h5\n",
      "\n",
      "Epoch 00015: ReduceLROnPlateau reducing learning rate to 0.0001250000059371814.\n",
      "Epoch 16/30\n",
      "14/14 [==============================] - 6s 458ms/step - loss: 1.6052 - categorical_accuracy: 0.2143 - val_loss: 1.6346 - val_categorical_accuracy: 0.1500\n",
      "\n",
      "Epoch 00016: saving model to model_init_2020-03-0117_55_41.130584/model-00016-1.60522-0.21429-1.63456-0.15000.h5\n",
      "Epoch 17/30\n",
      "14/14 [==============================] - 6s 448ms/step - loss: 1.6249 - categorical_accuracy: 0.1667 - val_loss: 1.6047 - val_categorical_accuracy: 0.2500\n",
      "\n",
      "Epoch 00017: saving model to model_init_2020-03-0117_55_41.130584/model-00017-1.62485-0.16667-1.60467-0.25000.h5\n",
      "\n",
      "Epoch 00017: ReduceLROnPlateau reducing learning rate to 6.25000029685907e-05.\n",
      "Epoch 18/30\n",
      "14/14 [==============================] - 6s 441ms/step - loss: 1.6155 - categorical_accuracy: 0.2143 - val_loss: 1.6118 - val_categorical_accuracy: 0.1750\n",
      "\n",
      "Epoch 00018: saving model to model_init_2020-03-0117_55_41.130584/model-00018-1.61549-0.21429-1.61181-0.17500.h5\n",
      "Epoch 19/30\n",
      "14/14 [==============================] - 6s 430ms/step - loss: 1.6184 - categorical_accuracy: 0.2381 - val_loss: 1.6174 - val_categorical_accuracy: 0.1750\n",
      "\n",
      "Epoch 00019: saving model to model_init_2020-03-0117_55_41.130584/model-00019-1.61845-0.23810-1.61735-0.17500.h5\n",
      "\n",
      "Epoch 00019: ReduceLROnPlateau reducing learning rate to 3.125000148429535e-05.\n",
      "Epoch 20/30\n",
      "14/14 [==============================] - 7s 472ms/step - loss: 1.6078 - categorical_accuracy: 0.1905 - val_loss: 1.6138 - val_categorical_accuracy: 0.3000\n",
      "\n",
      "Epoch 00020: saving model to model_init_2020-03-0117_55_41.130584/model-00020-1.60784-0.19048-1.61381-0.30000.h5\n",
      "Epoch 21/30\n",
      "14/14 [==============================] - 7s 513ms/step - loss: 1.6292 - categorical_accuracy: 0.1667 - val_loss: 1.6154 - val_categorical_accuracy: 0.2750\n",
      "\n",
      "Epoch 00021: saving model to model_init_2020-03-0117_55_41.130584/model-00021-1.62921-0.16667-1.61538-0.27500.h5\n",
      "\n",
      "Epoch 00021: ReduceLROnPlateau reducing learning rate to 1.5625000742147677e-05.\n",
      "Epoch 22/30\n",
      "14/14 [==============================] - 7s 473ms/step - loss: 1.6014 - categorical_accuracy: 0.3810 - val_loss: 1.6107 - val_categorical_accuracy: 0.1500\n",
      "\n",
      "Epoch 00022: saving model to model_init_2020-03-0117_55_41.130584/model-00022-1.60138-0.38095-1.61065-0.15000.h5\n",
      "Epoch 23/30\n",
      "14/14 [==============================] - 6s 462ms/step - loss: 1.6194 - categorical_accuracy: 0.2143 - val_loss: 1.6147 - val_categorical_accuracy: 0.2750\n",
      "\n",
      "Epoch 00023: saving model to model_init_2020-03-0117_55_41.130584/model-00023-1.61944-0.21429-1.61472-0.27500.h5\n",
      "\n",
      "Epoch 00023: ReduceLROnPlateau reducing learning rate to 7.812500371073838e-06.\n",
      "Epoch 24/30\n",
      "14/14 [==============================] - 7s 495ms/step - loss: 1.6228 - categorical_accuracy: 0.1429 - val_loss: 1.6159 - val_categorical_accuracy: 0.1750\n",
      "\n",
      "Epoch 00024: saving model to model_init_2020-03-0117_55_41.130584/model-00024-1.62283-0.14286-1.61592-0.17500.h5\n",
      "Epoch 25/30\n",
      "14/14 [==============================] - 6s 464ms/step - loss: 1.6177 - categorical_accuracy: 0.1429 - val_loss: 1.6220 - val_categorical_accuracy: 0.1750\n",
      "\n",
      "Epoch 00025: saving model to model_init_2020-03-0117_55_41.130584/model-00025-1.61771-0.14286-1.62204-0.17500.h5\n",
      "\n",
      "Epoch 00025: ReduceLROnPlateau reducing learning rate to 3.906250185536919e-06.\n",
      "Epoch 26/30\n",
      "14/14 [==============================] - 6s 423ms/step - loss: 1.6046 - categorical_accuracy: 0.2381 - val_loss: 1.6329 - val_categorical_accuracy: 0.1500\n",
      "\n",
      "Epoch 00026: saving model to model_init_2020-03-0117_55_41.130584/model-00026-1.60456-0.23810-1.63290-0.15000.h5\n",
      "Epoch 27/30\n",
      "14/14 [==============================] - 7s 502ms/step - loss: 1.6108 - categorical_accuracy: 0.1905 - val_loss: 1.5956 - val_categorical_accuracy: 0.2750\n",
      "\n",
      "Epoch 00027: saving model to model_init_2020-03-0117_55_41.130584/model-00027-1.61081-0.19048-1.59562-0.27500.h5\n",
      "\n",
      "Epoch 00027: ReduceLROnPlateau reducing learning rate to 1.9531250927684596e-06.\n",
      "Epoch 28/30\n",
      "14/14 [==============================] - 6s 455ms/step - loss: 1.6079 - categorical_accuracy: 0.1905 - val_loss: 1.6168 - val_categorical_accuracy: 0.2500\n",
      "\n",
      "Epoch 00028: saving model to model_init_2020-03-0117_55_41.130584/model-00028-1.60790-0.19048-1.61684-0.25000.h5\n",
      "Epoch 29/30\n",
      "14/14 [==============================] - 7s 478ms/step - loss: 1.6209 - categorical_accuracy: 0.1905 - val_loss: 1.6151 - val_categorical_accuracy: 0.1750\n",
      "\n",
      "Epoch 00029: saving model to model_init_2020-03-0117_55_41.130584/model-00029-1.62085-0.19048-1.61514-0.17500.h5\n",
      "\n",
      "Epoch 00029: ReduceLROnPlateau reducing learning rate to 9.765625463842298e-07.\n",
      "Epoch 30/30\n"
     ]
    },
    {
     "name": "stdout",
     "output_type": "stream",
     "text": [
      "14/14 [==============================] - 7s 501ms/step - loss: 1.6223 - categorical_accuracy: 0.2381 - val_loss: 1.6177 - val_categorical_accuracy: 0.2000\n",
      "\n",
      "Epoch 00030: saving model to model_init_2020-03-0117_55_41.130584/model-00030-1.62231-0.23810-1.61774-0.20000.h5\n"
     ]
    },
    {
     "data": {
      "text/plain": [
       "<keras.callbacks.History at 0x7f4551ecfbe0>"
      ]
     },
     "execution_count": 50,
     "metadata": {},
     "output_type": "execute_result"
    }
   ],
   "source": [
    "model_d_history = model_d.fit_generator(train_generator, steps_per_epoch=steps_per_epoch, epochs=num_epochs, verbose=1, \n",
    "                    callbacks=callbacks_list, validation_data=val_generator, \n",
    "                    validation_steps=validation_steps, class_weight=None, workers=1, initial_epoch=0)\n",
    "model_d_history"
   ]
  },
  {
   "cell_type": "code",
   "execution_count": 51,
   "metadata": {},
   "outputs": [
    {
     "data": {
      "image/png": "[encoded data removed]",
      "text/plain": [
       "<Figure size 1080x288 with 2 Axes>"
      ]
     },
     "metadata": {},
     "output_type": "display_data"
    }
   ],
   "source": [
    "plot(model_d_history)"
   ]
  },
  {
   "cell_type": "markdown",
   "metadata": {},
   "source": [
    "#### Conclusion:\n",
    "* Still not good in terms of accuracy, and model is not consistenly learning, lets try some other netwrok by slightly reducing the numbers of filters in each layer. Now lets start with 16 filters and then 32,62 & 128 res."
   ]
  },
  {
   "cell_type": "markdown",
   "metadata": {},
   "source": [
    "### Model-5_Conv_3D"
   ]
  },
  {
   "cell_type": "code",
   "execution_count": 52,
   "metadata": {},
   "outputs": [],
   "source": [
    "nb_filters = [16,32,64,128]\n",
    "nb_dense = [256, 128, 5]\n",
    "\n",
    "# Input\n",
    "input_shape=(30,120,120,3)\n",
    "\n",
    "# Define model\n",
    "model_e = Sequential()\n",
    "\n",
    "model_e.add(Conv3D(nb_filters[0], \n",
    "                 kernel_size=(3,3,3), \n",
    "                 input_shape=input_shape,\n",
    "                 padding='same'))\n",
    "model_e.add(BatchNormalization())\n",
    "model_e.add(Activation('relu'))\n",
    "\n",
    "model_e.add(MaxPooling3D(pool_size=(2,2,2)))\n",
    "\n",
    "model_e.add(Conv3D(nb_filters[1], \n",
    "                 kernel_size=(3,3,3), \n",
    "                 padding='same'))\n",
    "model_e.add(BatchNormalization())\n",
    "model_e.add(Activation('relu'))\n",
    "\n",
    "\n",
    "model_e.add(MaxPooling3D(pool_size=(2,2,2)))\n",
    "\n",
    "model_e.add(Conv3D(nb_filters[2], \n",
    "                 kernel_size=(1,3,3), \n",
    "                 padding='same'))\n",
    "model_e.add(BatchNormalization())\n",
    "model_e.add(Activation('relu'))\n",
    "\n",
    "\n",
    "model_e.add(MaxPooling3D(pool_size=(2,2,2)))\n",
    "\n",
    "model_e.add(Conv3D(nb_filters[3], \n",
    "                 kernel_size=(1,3,3), \n",
    "                 padding='same'))\n",
    "model_e.add(Activation('relu'))\n",
    "model_e.add(Dropout(0.25))\n",
    "\n",
    "model_e.add(MaxPooling3D(pool_size=(2,2,2)))\n",
    "\n",
    "\n",
    "#Flatten Layers\n",
    "model_e.add(Flatten())\n",
    "\n",
    "model_e.add(Dense(nb_dense[0], activation='relu'))\n",
    "model_e.add(Dropout(0.5))\n",
    "\n",
    "model_e.add(Dense(nb_dense[1], activation='relu'))\n",
    "model_e.add(Dropout(0.5))\n",
    "\n",
    "#softmax layer\n",
    "model_e.add(Dense(nb_dense[2], activation='softmax'))"
   ]
  },
  {
   "cell_type": "code",
   "execution_count": 54,
   "metadata": {},
   "outputs": [
    {
     "name": "stdout",
     "output_type": "stream",
     "text": [
      "_________________________________________________________________\n",
      "Layer (type)                 Output Shape              Param #   \n",
      "=================================================================\n",
      "conv3d_19 (Conv3D)           (None, 30, 120, 120, 16)  1312      \n",
      "_________________________________________________________________\n",
      "batch_normalization_17 (Batc (None, 30, 120, 120, 16)  64        \n",
      "_________________________________________________________________\n",
      "activation_19 (Activation)   (None, 30, 120, 120, 16)  0         \n",
      "_________________________________________________________________\n",
      "max_pooling3d_17 (MaxPooling (None, 15, 60, 60, 16)    0         \n",
      "_________________________________________________________________\n",
      "conv3d_20 (Conv3D)           (None, 15, 60, 60, 32)    13856     \n",
      "_________________________________________________________________\n",
      "batch_normalization_18 (Batc (None, 15, 60, 60, 32)    128       \n",
      "_________________________________________________________________\n",
      "activation_20 (Activation)   (None, 15, 60, 60, 32)    0         \n",
      "_________________________________________________________________\n",
      "max_pooling3d_18 (MaxPooling (None, 7, 30, 30, 32)     0         \n",
      "_________________________________________________________________\n",
      "conv3d_21 (Conv3D)           (None, 7, 30, 30, 64)     18496     \n",
      "_________________________________________________________________\n",
      "batch_normalization_19 (Batc (None, 7, 30, 30, 64)     256       \n",
      "_________________________________________________________________\n",
      "activation_21 (Activation)   (None, 7, 30, 30, 64)     0         \n",
      "_________________________________________________________________\n",
      "max_pooling3d_19 (MaxPooling (None, 3, 15, 15, 64)     0         \n",
      "_________________________________________________________________\n",
      "conv3d_22 (Conv3D)           (None, 3, 15, 15, 128)    73856     \n",
      "_________________________________________________________________\n",
      "activation_22 (Activation)   (None, 3, 15, 15, 128)    0         \n",
      "_________________________________________________________________\n",
      "dropout_12 (Dropout)         (None, 3, 15, 15, 128)    0         \n",
      "_________________________________________________________________\n",
      "max_pooling3d_20 (MaxPooling (None, 1, 7, 7, 128)      0         \n",
      "_________________________________________________________________\n",
      "flatten_5 (Flatten)          (None, 6272)              0         \n",
      "_________________________________________________________________\n",
      "dense_13 (Dense)             (None, 256)               1605888   \n",
      "_________________________________________________________________\n",
      "dropout_13 (Dropout)         (None, 256)               0         \n",
      "_________________________________________________________________\n",
      "dense_14 (Dense)             (None, 128)               32896     \n",
      "_________________________________________________________________\n",
      "dropout_14 (Dropout)         (None, 128)               0         \n",
      "_________________________________________________________________\n",
      "dense_15 (Dense)             (None, 5)                 645       \n",
      "=================================================================\n",
      "Total params: 1,747,397\n",
      "Trainable params: 1,747,173\n",
      "Non-trainable params: 224\n",
      "_________________________________________________________________\n",
      "None\n"
     ]
    }
   ],
   "source": [
    "optimiser = keras.optimizers.Adam() #write your optimizer\n",
    "model_e.compile(optimizer=optimiser, loss='categorical_crossentropy', metrics=['categorical_accuracy'])\n",
    "print (model_e.summary())"
   ]
  },
  {
   "cell_type": "code",
   "execution_count": 55,
   "metadata": {},
   "outputs": [
    {
     "name": "stdout",
     "output_type": "stream",
     "text": [
      "# training sequences = 663\n",
      "# validation sequences = 100\n",
      "# epochs = 30\n",
      "2020-03-01 18:04:12.920011\n"
     ]
    }
   ],
   "source": [
    "curr_dt_time = datetime.datetime.now()\n",
    "train_path = '/mnt/disks/user/project/PROJECT/Project_data/train'\n",
    "val_path = '/mnt/disks/user/project/PROJECT/Project_data/val'\n",
    "num_train_sequences = len(train_doc)\n",
    "print('# training sequences =', num_train_sequences)\n",
    "num_val_sequences = len(val_doc)\n",
    "print('# validation sequences =', num_val_sequences)\n",
    "num_epochs = num_epochs # choose the number of epochs\n",
    "print ('# epochs =', num_epochs)\n",
    "print(curr_dt_time)"
   ]
  },
  {
   "cell_type": "code",
   "execution_count": 56,
   "metadata": {},
   "outputs": [],
   "source": [
    "model_name = 'model_init' + '_' + str(curr_dt_time).replace(' ','').replace(':','_') + '/'\n",
    "\n",
    "if not os.path.exists(model_name):\n",
    "    os.mkdir(model_name)\n",
    "\n",
    "filepath = model_name + 'model-{epoch:05d}-{loss:.5f}-{categorical_accuracy:.5f}-{val_loss:.5f}-{val_categorical_accuracy:.5f}.h5'\n",
    "\n",
    "checkpoint = ModelCheckpoint(filepath, monitor='val_loss', verbose=1, save_best_only=False, save_weights_only=False, mode='auto', period=1)\n",
    "\n",
    "LR = ReduceLROnPlateau(monitor='val_loss', factor=0.5, patience=2, cooldown=1, verbose=1) # write the REducelronplateau code here\n",
    "callbacks_list = [checkpoint, LR]"
   ]
  },
  {
   "cell_type": "code",
   "execution_count": 57,
   "metadata": {},
   "outputs": [],
   "source": [
    "if (num_train_sequences%batch_size) == 0:\n",
    "    steps_per_epoch = int(num_train_sequences/batch_size)\n",
    "else:\n",
    "    steps_per_epoch = (num_train_sequences//batch_size) + 1\n",
    "\n",
    "if (num_val_sequences%batch_size) == 0:\n",
    "    validation_steps = int(num_val_sequences/batch_size)\n",
    "else:\n",
    "    validation_steps = (num_val_sequences//batch_size) + 1"
   ]
  },
  {
   "cell_type": "code",
   "execution_count": 58,
   "metadata": {},
   "outputs": [],
   "source": [
    "batch_size = 50\n",
    "num_epochs = 30\n",
    "train_generator = generator(train_path, train_doc, batch_size)\n",
    "val_generator = generator(val_path, val_doc, batch_size)"
   ]
  },
  {
   "cell_type": "code",
   "execution_count": 59,
   "metadata": {},
   "outputs": [
    {
     "name": "stdout",
     "output_type": "stream",
     "text": [
      "Source path =  /mnt/disks/user/project/PROJECT/Project_data/val ; batch size = 50\n",
      "Source path =  Epoch 1/30\n",
      "/mnt/disks/user/project/PROJECT/Project_data/train ; batch size = 50\n"
     ]
    },
    {
     "name": "stderr",
     "output_type": "stream",
     "text": [
      "/mnt/disks/user/anaconda3/lib/python3.6/site-packages/ipykernel_launcher.py:17: DeprecationWarning: `imread` is deprecated!\n",
      "`imread` is deprecated in SciPy 1.0.0, and will be removed in 1.2.0.\n",
      "Use ``imageio.imread`` instead.\n",
      "/mnt/disks/user/anaconda3/lib/python3.6/site-packages/ipykernel_launcher.py:22: DeprecationWarning: `imresize` is deprecated!\n",
      "`imresize` is deprecated in SciPy 1.0.0, and will be removed in 1.2.0.\n",
      "Use ``skimage.transform.resize`` instead.\n"
     ]
    },
    {
     "name": "stdout",
     "output_type": "stream",
     "text": [
      "12/34 [=========>....................] - ETA: 2:37 - loss: 2.4645 - categorical_accuracy: 0.2317Batch:  14 Index: 50\n"
     ]
    },
    {
     "name": "stderr",
     "output_type": "stream",
     "text": [
      "/mnt/disks/user/anaconda3/lib/python3.6/site-packages/ipykernel_launcher.py:42: DeprecationWarning: `imread` is deprecated!\n",
      "`imread` is deprecated in SciPy 1.0.0, and will be removed in 1.2.0.\n",
      "Use ``imageio.imread`` instead.\n",
      "/mnt/disks/user/anaconda3/lib/python3.6/site-packages/ipykernel_launcher.py:46: DeprecationWarning: `imresize` is deprecated!\n",
      "`imresize` is deprecated in SciPy 1.0.0, and will be removed in 1.2.0.\n",
      "Use ``skimage.transform.resize`` instead.\n"
     ]
    },
    {
     "name": "stdout",
     "output_type": "stream",
     "text": [
      "34/34 [==============================] - 127s 4s/step - loss: 1.9028 - categorical_accuracy: 0.2247 - val_loss: 1.5085 - val_categorical_accuracy: 0.4400\n",
      "\n",
      "Epoch 00001: saving model to model_init_2020-03-0118_04_12.920011/model-00001-2.15699-0.22860-1.50853-0.44000.h5\n",
      "Epoch 2/30\n",
      "34/34 [==============================] - 59s 2s/step - loss: 1.4312 - categorical_accuracy: 0.3733 - val_loss: 1.7878 - val_categorical_accuracy: 0.2080\n",
      "\n",
      "Epoch 00002: saving model to model_init_2020-03-0118_04_12.920011/model-00002-1.43124-0.37330-1.78780-0.20800.h5\n",
      "Epoch 3/30\n",
      "34/34 [==============================] - 60s 2s/step - loss: 1.3265 - categorical_accuracy: 0.4276 - val_loss: 1.0706 - val_categorical_accuracy: 0.5960\n",
      "\n",
      "Epoch 00003: saving model to model_init_2020-03-0118_04_12.920011/model-00003-1.32647-0.42760-1.07059-0.59600.h5\n",
      "Epoch 4/30\n",
      "34/34 [==============================] - 62s 2s/step - loss: 1.2765 - categorical_accuracy: 0.4796 - val_loss: 1.1964 - val_categorical_accuracy: 0.5720\n",
      "\n",
      "Epoch 00004: saving model to model_init_2020-03-0118_04_12.920011/model-00004-1.27653-0.47964-1.19640-0.57200.h5\n",
      "Epoch 5/30\n",
      "34/34 [==============================] - 60s 2s/step - loss: 1.1410 - categorical_accuracy: 0.5362 - val_loss: 1.3443 - val_categorical_accuracy: 0.3480\n",
      "\n",
      "Epoch 00005: saving model to model_init_2020-03-0118_04_12.920011/model-00005-1.14095-0.53620-1.34434-0.34800.h5\n",
      "\n",
      "Epoch 00005: ReduceLROnPlateau reducing learning rate to 0.0005000000237487257.\n",
      "Epoch 6/30\n",
      "34/34 [==============================] - 60s 2s/step - loss: 0.9547 - categorical_accuracy: 0.6154 - val_loss: 1.3295 - val_categorical_accuracy: 0.4160\n",
      "\n",
      "Epoch 00006: saving model to model_init_2020-03-0118_04_12.920011/model-00006-0.95472-0.61538-1.32950-0.41600.h5\n",
      "Epoch 7/30\n",
      "34/34 [==============================] - 60s 2s/step - loss: 0.9138 - categorical_accuracy: 0.6403 - val_loss: 1.0475 - val_categorical_accuracy: 0.5760\n",
      "\n",
      "Epoch 00007: saving model to model_init_2020-03-0118_04_12.920011/model-00007-0.91378-0.64027-1.04754-0.57600.h5\n",
      "Epoch 8/30\n",
      "34/34 [==============================] - 61s 2s/step - loss: 0.8667 - categorical_accuracy: 0.6584 - val_loss: 0.8860 - val_categorical_accuracy: 0.7400\n",
      "\n",
      "Epoch 00008: saving model to model_init_2020-03-0118_04_12.920011/model-00008-0.86667-0.65837-0.88603-0.74000.h5\n",
      "Epoch 9/30\n",
      "34/34 [==============================] - 60s 2s/step - loss: 0.8152 - categorical_accuracy: 0.6742 - val_loss: 0.6887 - val_categorical_accuracy: 0.6960\n",
      "\n",
      "Epoch 00009: saving model to model_init_2020-03-0118_04_12.920011/model-00009-0.81516-0.67421-0.68869-0.69600.h5\n",
      "Epoch 10/30\n",
      "34/34 [==============================] - 61s 2s/step - loss: 0.7334 - categorical_accuracy: 0.7036 - val_loss: 0.8254 - val_categorical_accuracy: 0.6440\n",
      "\n",
      "Epoch 00010: saving model to model_init_2020-03-0118_04_12.920011/model-00010-0.73344-0.70362-0.82545-0.64400.h5\n",
      "Epoch 11/30\n",
      "34/34 [==============================] - 60s 2s/step - loss: 0.7017 - categorical_accuracy: 0.7421 - val_loss: 0.6596 - val_categorical_accuracy: 0.7000\n",
      "\n",
      "Epoch 00011: saving model to model_init_2020-03-0118_04_12.920011/model-00011-0.70170-0.74208-0.65965-0.70000.h5\n",
      "Epoch 12/30\n",
      "34/34 [==============================] - 61s 2s/step - loss: 0.6876 - categorical_accuracy: 0.7217 - val_loss: 0.7219 - val_categorical_accuracy: 0.7480\n",
      "\n",
      "Epoch 00012: saving model to model_init_2020-03-0118_04_12.920011/model-00012-0.68764-0.72172-0.72188-0.74800.h5\n",
      "Epoch 13/30\n",
      "34/34 [==============================] - 59s 2s/step - loss: 0.6594 - categorical_accuracy: 0.7489 - val_loss: 0.7252 - val_categorical_accuracy: 0.6840\n",
      "\n",
      "Epoch 00013: saving model to model_init_2020-03-0118_04_12.920011/model-00013-0.65941-0.74887-0.72517-0.68400.h5\n",
      "\n",
      "Epoch 00013: ReduceLROnPlateau reducing learning rate to 0.0002500000118743628.\n",
      "Epoch 14/30\n",
      "34/34 [==============================] - 61s 2s/step - loss: 0.5251 - categorical_accuracy: 0.7964 - val_loss: 0.4460 - val_categorical_accuracy: 0.8560\n",
      "\n",
      "Epoch 00014: saving model to model_init_2020-03-0118_04_12.920011/model-00014-0.52515-0.79638-0.44602-0.85600.h5\n",
      "Epoch 15/30\n",
      "34/34 [==============================] - 61s 2s/step - loss: 0.4568 - categorical_accuracy: 0.8167 - val_loss: 0.4355 - val_categorical_accuracy: 0.8200\n",
      "\n",
      "Epoch 00015: saving model to model_init_2020-03-0118_04_12.920011/model-00015-0.45685-0.81674-0.43547-0.82000.h5\n",
      "Epoch 16/30\n",
      "34/34 [==============================] - 60s 2s/step - loss: 0.4432 - categorical_accuracy: 0.8394 - val_loss: 0.4748 - val_categorical_accuracy: 0.8240\n",
      "\n",
      "Epoch 00016: saving model to model_init_2020-03-0118_04_12.920011/model-00016-0.44319-0.83937-0.47485-0.82400.h5\n",
      "Epoch 17/30\n",
      "34/34 [==============================] - 59s 2s/step - loss: 0.4255 - categorical_accuracy: 0.8371 - val_loss: 0.5322 - val_categorical_accuracy: 0.8040\n",
      "\n",
      "Epoch 00017: saving model to model_init_2020-03-0118_04_12.920011/model-00017-0.42545-0.83710-0.53221-0.80400.h5\n",
      "\n",
      "Epoch 00017: ReduceLROnPlateau reducing learning rate to 0.0001250000059371814.\n",
      "Epoch 18/30\n",
      "34/34 [==============================] - 60s 2s/step - loss: 0.3572 - categorical_accuracy: 0.8824 - val_loss: 0.4891 - val_categorical_accuracy: 0.8120\n",
      "\n",
      "Epoch 00018: saving model to model_init_2020-03-0118_04_12.920011/model-00018-0.35716-0.88235-0.48914-0.81200.h5\n",
      "Epoch 19/30\n",
      "34/34 [==============================] - 62s 2s/step - loss: 0.3711 - categorical_accuracy: 0.8688 - val_loss: 0.4662 - val_categorical_accuracy: 0.8200\n",
      "\n",
      "Epoch 00019: saving model to model_init_2020-03-0118_04_12.920011/model-00019-0.37114-0.86878-0.46622-0.82000.h5\n",
      "\n",
      "Epoch 00019: ReduceLROnPlateau reducing learning rate to 6.25000029685907e-05.\n",
      "Epoch 20/30\n",
      "34/34 [==============================] - 59s 2s/step - loss: 0.3549 - categorical_accuracy: 0.8597 - val_loss: 0.3802 - val_categorical_accuracy: 0.8640\n",
      "\n",
      "Epoch 00020: saving model to model_init_2020-03-0118_04_12.920011/model-00020-0.35494-0.85973-0.38021-0.86400.h5\n",
      "Epoch 21/30\n",
      "34/34 [==============================] - 61s 2s/step - loss: 0.3592 - categorical_accuracy: 0.8665 - val_loss: 0.4029 - val_categorical_accuracy: 0.8600\n",
      "\n",
      "Epoch 00021: saving model to model_init_2020-03-0118_04_12.920011/model-00021-0.35917-0.86652-0.40295-0.86000.h5\n",
      "Epoch 22/30\n",
      "34/34 [==============================] - 60s 2s/step - loss: 0.3938 - categorical_accuracy: 0.8462 - val_loss: 0.4079 - val_categorical_accuracy: 0.8480\n",
      "\n",
      "Epoch 00022: saving model to model_init_2020-03-0118_04_12.920011/model-00022-0.39376-0.84615-0.40786-0.84800.h5\n",
      "\n",
      "Epoch 00022: ReduceLROnPlateau reducing learning rate to 3.125000148429535e-05.\n",
      "Epoch 23/30\n",
      "34/34 [==============================] - 59s 2s/step - loss: 0.3116 - categorical_accuracy: 0.8914 - val_loss: 0.3920 - val_categorical_accuracy: 0.8560\n",
      "\n",
      "Epoch 00023: saving model to model_init_2020-03-0118_04_12.920011/model-00023-0.31157-0.89140-0.39203-0.85600.h5\n",
      "Epoch 24/30\n",
      "34/34 [==============================] - 61s 2s/step - loss: 0.3414 - categorical_accuracy: 0.8982 - val_loss: 0.4113 - val_categorical_accuracy: 0.8440\n",
      "\n",
      "Epoch 00024: saving model to model_init_2020-03-0118_04_12.920011/model-00024-0.34144-0.89819-0.41134-0.84400.h5\n",
      "\n",
      "Epoch 00024: ReduceLROnPlateau reducing learning rate to 1.5625000742147677e-05.\n",
      "Epoch 25/30\n",
      "34/34 [==============================] - 60s 2s/step - loss: 0.3456 - categorical_accuracy: 0.8575 - val_loss: 0.3817 - val_categorical_accuracy: 0.8680\n",
      "\n",
      "Epoch 00025: saving model to model_init_2020-03-0118_04_12.920011/model-00025-0.34562-0.85747-0.38170-0.86800.h5\n",
      "Epoch 26/30\n",
      "34/34 [==============================] - 59s 2s/step - loss: 0.3582 - categorical_accuracy: 0.8733 - val_loss: 0.3878 - val_categorical_accuracy: 0.8640\n",
      "\n",
      "Epoch 00026: saving model to model_init_2020-03-0118_04_12.920011/model-00026-0.35819-0.87330-0.38782-0.86400.h5\n",
      "\n",
      "Epoch 00026: ReduceLROnPlateau reducing learning rate to 7.812500371073838e-06.\n",
      "Epoch 27/30\n",
      "34/34 [==============================] - 60s 2s/step - loss: 0.2996 - categorical_accuracy: 0.8801 - val_loss: 0.3832 - val_categorical_accuracy: 0.8560\n",
      "\n",
      "Epoch 00027: saving model to model_init_2020-03-0118_04_12.920011/model-00027-0.29961-0.88009-0.38317-0.85600.h5\n",
      "Epoch 28/30\n",
      "34/34 [==============================] - 59s 2s/step - loss: 0.2975 - categorical_accuracy: 0.8869 - val_loss: 0.3736 - val_categorical_accuracy: 0.8640\n"
     ]
    },
    {
     "name": "stdout",
     "output_type": "stream",
     "text": [
      "\n",
      "Epoch 00028: saving model to model_init_2020-03-0118_04_12.920011/model-00028-0.29746-0.88688-0.37362-0.86400.h5\n",
      "Epoch 29/30\n",
      "34/34 [==============================] - 60s 2s/step - loss: 0.3428 - categorical_accuracy: 0.8643 - val_loss: 0.3825 - val_categorical_accuracy: 0.8520\n",
      "\n",
      "Epoch 00029: saving model to model_init_2020-03-0118_04_12.920011/model-00029-0.34282-0.86425-0.38249-0.85200.h5\n",
      "Epoch 30/30\n",
      "34/34 [==============================] - 59s 2s/step - loss: 0.3002 - categorical_accuracy: 0.9005 - val_loss: 0.3798 - val_categorical_accuracy: 0.8480\n",
      "\n",
      "Epoch 00030: saving model to model_init_2020-03-0118_04_12.920011/model-00030-0.30022-0.90045-0.37984-0.84800.h5\n",
      "\n",
      "Epoch 00030: ReduceLROnPlateau reducing learning rate to 3.906250185536919e-06.\n"
     ]
    },
    {
     "data": {
      "text/plain": [
       "<keras.callbacks.History at 0x7f4559c23278>"
      ]
     },
     "execution_count": 59,
     "metadata": {},
     "output_type": "execute_result"
    }
   ],
   "source": [
    "model_e_history = model_e.fit_generator(train_generator, steps_per_epoch=steps_per_epoch, epochs=num_epochs, verbose=1, \n",
    "                    callbacks=callbacks_list, validation_data=val_generator, \n",
    "                    validation_steps=validation_steps, class_weight=None, workers=1, initial_epoch=0)\n",
    "model_e_history"
   ]
  },
  {
   "cell_type": "code",
   "execution_count": 60,
   "metadata": {},
   "outputs": [
    {
     "data": {
      "image/png": "[encoded data removed]",
      "text/plain": [
       "<Figure size 1080x288 with 2 Axes>"
      ]
     },
     "metadata": {},
     "output_type": "display_data"
    }
   ],
   "source": [
    "plot(model_e_history)"
   ]
  },
  {
   "cell_type": "markdown",
   "metadata": {},
   "source": [
    "#### Conclusion:\n",
    "* this one looks good train accuracy is at 78 and test is at 82, giving better results. Lets exploare some options to increase the accuracy.\n",
    "* we will keep the filters as is, but lets increase the neurons in dense layers and see how it results"
   ]
  },
  {
   "cell_type": "markdown",
   "metadata": {},
   "source": [
    "### Model-6_Conv_3D"
   ]
  },
  {
   "cell_type": "code",
   "execution_count": 22,
   "metadata": {},
   "outputs": [],
   "source": [
    "nb_filters = [8,16,32,64]\n",
    "nb_dense = [512, 256, 5]\n",
    "\n",
    "# Input\n",
    "input_shape=(30,120,120,3)\n",
    "\n",
    "# Define model\n",
    "model_f = Sequential()\n",
    "\n",
    "model_f.add(Conv3D(nb_filters[0], \n",
    "                 kernel_size=(3,3,3), \n",
    "                 input_shape=input_shape,\n",
    "                 padding='same'))\n",
    "model_f.add(BatchNormalization())\n",
    "model_f.add(Activation('relu'))\n",
    "\n",
    "model_f.add(MaxPooling3D(pool_size=(2,2,2)))\n",
    "\n",
    "model_f.add(Conv3D(nb_filters[1], \n",
    "                 kernel_size=(3,3,3), \n",
    "                 padding='same'))\n",
    "model_f.add(BatchNormalization())\n",
    "model_f.add(Activation('relu'))\n",
    "\n",
    "\n",
    "model_f.add(MaxPooling3D(pool_size=(2,2,2)))\n",
    "\n",
    "model_f.add(Conv3D(nb_filters[2], \n",
    "                 kernel_size=(1,3,3), \n",
    "                 padding='same'))\n",
    "model_f.add(BatchNormalization())\n",
    "model_f.add(Activation('relu'))\n",
    "\n",
    "\n",
    "model_f.add(MaxPooling3D(pool_size=(2,2,2)))\n",
    "\n",
    "model_f.add(Conv3D(nb_filters[3], \n",
    "                 kernel_size=(1,3,3), \n",
    "                 padding='same'))\n",
    "model_f.add(Activation('relu'))\n",
    "model_f.add(Dropout(0.25))\n",
    "\n",
    "model_f.add(MaxPooling3D(pool_size=(2,2,2)))\n",
    "\n",
    "\n",
    "#Flatten Layers\n",
    "model_f.add(Flatten())\n",
    "\n",
    "model_f.add(Dense(nb_dense[0], activation='relu'))\n",
    "model_f.add(Dropout(0.5))\n",
    "\n",
    "model_f.add(Dense(nb_dense[1], activation='relu'))\n",
    "model_f.add(Dropout(0.5))\n",
    "\n",
    "#softmax layer\n",
    "model_f.add(Dense(nb_dense[2], activation='softmax'))"
   ]
  },
  {
   "cell_type": "code",
   "execution_count": 23,
   "metadata": {},
   "outputs": [
    {
     "name": "stdout",
     "output_type": "stream",
     "text": [
      "_________________________________________________________________\n",
      "Layer (type)                 Output Shape              Param #   \n",
      "=================================================================\n",
      "conv3d_5 (Conv3D)            (None, 30, 120, 120, 8)   656       \n",
      "_________________________________________________________________\n",
      "batch_normalization_5 (Batch (None, 30, 120, 120, 8)   32        \n",
      "_________________________________________________________________\n",
      "activation_5 (Activation)    (None, 30, 120, 120, 8)   0         \n",
      "_________________________________________________________________\n",
      "max_pooling3d_4 (MaxPooling3 (None, 15, 60, 60, 8)     0         \n",
      "_________________________________________________________________\n",
      "conv3d_6 (Conv3D)            (None, 15, 60, 60, 16)    3472      \n",
      "_________________________________________________________________\n",
      "batch_normalization_6 (Batch (None, 15, 60, 60, 16)    64        \n",
      "_________________________________________________________________\n",
      "activation_6 (Activation)    (None, 15, 60, 60, 16)    0         \n",
      "_________________________________________________________________\n",
      "max_pooling3d_5 (MaxPooling3 (None, 7, 30, 30, 16)     0         \n",
      "_________________________________________________________________\n",
      "conv3d_7 (Conv3D)            (None, 7, 30, 30, 32)     4640      \n",
      "_________________________________________________________________\n",
      "batch_normalization_7 (Batch (None, 7, 30, 30, 32)     128       \n",
      "_________________________________________________________________\n",
      "activation_7 (Activation)    (None, 7, 30, 30, 32)     0         \n",
      "_________________________________________________________________\n",
      "max_pooling3d_6 (MaxPooling3 (None, 3, 15, 15, 32)     0         \n",
      "_________________________________________________________________\n",
      "conv3d_8 (Conv3D)            (None, 3, 15, 15, 64)     18496     \n",
      "_________________________________________________________________\n",
      "activation_8 (Activation)    (None, 3, 15, 15, 64)     0         \n",
      "_________________________________________________________________\n",
      "dropout_4 (Dropout)          (None, 3, 15, 15, 64)     0         \n",
      "_________________________________________________________________\n",
      "max_pooling3d_7 (MaxPooling3 (None, 1, 7, 7, 64)       0         \n",
      "_________________________________________________________________\n",
      "flatten_2 (Flatten)          (None, 3136)              0         \n",
      "_________________________________________________________________\n",
      "dense_4 (Dense)              (None, 512)               1606144   \n",
      "_________________________________________________________________\n",
      "dropout_5 (Dropout)          (None, 512)               0         \n",
      "_________________________________________________________________\n",
      "dense_5 (Dense)              (None, 256)               131328    \n",
      "_________________________________________________________________\n",
      "dropout_6 (Dropout)          (None, 256)               0         \n",
      "_________________________________________________________________\n",
      "dense_6 (Dense)              (None, 5)                 1285      \n",
      "=================================================================\n",
      "Total params: 1,766,245\n",
      "Trainable params: 1,766,133\n",
      "Non-trainable params: 112\n",
      "_________________________________________________________________\n",
      "None\n"
     ]
    }
   ],
   "source": [
    "optimiser = keras.optimizers.Adam() #write your optimizer\n",
    "model_f.compile(optimizer=optimiser, loss='categorical_crossentropy', metrics=['categorical_accuracy'])\n",
    "print (model_f.summary())"
   ]
  },
  {
   "cell_type": "code",
   "execution_count": 24,
   "metadata": {},
   "outputs": [
    {
     "name": "stdout",
     "output_type": "stream",
     "text": [
      "# training sequences = 663\n",
      "# validation sequences = 100\n",
      "# epochs = 20\n",
      "2020-03-01 19:20:25.758805\n"
     ]
    }
   ],
   "source": [
    "curr_dt_time = datetime.datetime.now()\n",
    "train_path = '/mnt/disks/user/project/PROJECT/Project_data/train'\n",
    "val_path = '/mnt/disks/user/project/PROJECT/Project_data/val'\n",
    "num_train_sequences = len(train_doc)\n",
    "print('# training sequences =', num_train_sequences)\n",
    "num_val_sequences = len(val_doc)\n",
    "print('# validation sequences =', num_val_sequences)\n",
    "num_epochs = num_epochs # choose the number of epochs\n",
    "print ('# epochs =', num_epochs)\n",
    "print(curr_dt_time)"
   ]
  },
  {
   "cell_type": "code",
   "execution_count": 25,
   "metadata": {},
   "outputs": [],
   "source": [
    "model_name = 'model_init' + '_' + str(curr_dt_time).replace(' ','').replace(':','_') + '/'\n",
    "\n",
    "if not os.path.exists(model_name):\n",
    "    os.mkdir(model_name)\n",
    "\n",
    "filepath = model_name + 'model-{epoch:05d}-{loss:.5f}-{categorical_accuracy:.5f}-{val_loss:.5f}-{val_categorical_accuracy:.5f}.h5'\n",
    "\n",
    "checkpoint = ModelCheckpoint(filepath, monitor='val_loss', verbose=1, save_best_only=False, save_weights_only=False, mode='auto', period=1)\n",
    "\n",
    "LR = ReduceLROnPlateau(monitor='val_loss', factor=0.5, patience=2, cooldown=1, verbose=1) # write the REducelronplateau code here\n",
    "callbacks_list = [checkpoint, LR]"
   ]
  },
  {
   "cell_type": "code",
   "execution_count": 26,
   "metadata": {},
   "outputs": [],
   "source": [
    "if (num_train_sequences%batch_size) == 0:\n",
    "    steps_per_epoch = int(num_train_sequences/batch_size)\n",
    "else:\n",
    "    steps_per_epoch = (num_train_sequences//batch_size) + 1\n",
    "\n",
    "if (num_val_sequences%batch_size) == 0:\n",
    "    validation_steps = int(num_val_sequences/batch_size)\n",
    "else:\n",
    "    validation_steps = (num_val_sequences//batch_size) + 1"
   ]
  },
  {
   "cell_type": "code",
   "execution_count": 27,
   "metadata": {},
   "outputs": [],
   "source": [
    "batch_size = 50\n",
    "num_epochs = 30\n",
    "train_generator = generator(train_path, train_doc, batch_size)\n",
    "val_generator = generator(val_path, val_doc, batch_size)"
   ]
  },
  {
   "cell_type": "code",
   "execution_count": 28,
   "metadata": {},
   "outputs": [
    {
     "name": "stdout",
     "output_type": "stream",
     "text": [
      "Source path = Source path = Epoch 1/30\n",
      " /mnt/disks/user/project/PROJECT/Project_data/train ; batch size = 50\n",
      " /mnt/disks/user/project/PROJECT/Project_data/val ; batch size = 50\n"
     ]
    },
    {
     "name": "stderr",
     "output_type": "stream",
     "text": [
      "/mnt/disks/user/anaconda3/lib/python3.6/site-packages/ipykernel_launcher.py:17: DeprecationWarning: `imread` is deprecated!\n",
      "`imread` is deprecated in SciPy 1.0.0, and will be removed in 1.2.0.\n",
      "Use ``imageio.imread`` instead.\n",
      "/mnt/disks/user/anaconda3/lib/python3.6/site-packages/ipykernel_launcher.py:22: DeprecationWarning: `imresize` is deprecated!\n",
      "`imresize` is deprecated in SciPy 1.0.0, and will be removed in 1.2.0.\n",
      "Use ``skimage.transform.resize`` instead.\n"
     ]
    },
    {
     "name": "stdout",
     "output_type": "stream",
     "text": [
      "12/23 [==============>...............] - ETA: 1:17 - loss: 2.4941 - categorical_accuracy: 0.2350Batch:  14 Index: 50\n"
     ]
    },
    {
     "name": "stderr",
     "output_type": "stream",
     "text": [
      "/mnt/disks/user/anaconda3/lib/python3.6/site-packages/ipykernel_launcher.py:42: DeprecationWarning: `imread` is deprecated!\n",
      "`imread` is deprecated in SciPy 1.0.0, and will be removed in 1.2.0.\n",
      "Use ``imageio.imread`` instead.\n",
      "/mnt/disks/user/anaconda3/lib/python3.6/site-packages/ipykernel_launcher.py:46: DeprecationWarning: `imresize` is deprecated!\n",
      "`imresize` is deprecated in SciPy 1.0.0, and will be removed in 1.2.0.\n",
      "Use ``skimage.transform.resize`` instead.\n"
     ]
    },
    {
     "name": "stdout",
     "output_type": "stream",
     "text": [
      "23/23 [==============================] - 108s 5s/step - loss: 2.0105 - categorical_accuracy: 0.2992 - val_loss: 1.3521 - val_categorical_accuracy: 0.3300\n",
      "\n",
      "Epoch 00001: saving model to model_init_2020-03-0119_20_25.758805/model-00001-2.25734-0.26795-1.35211-0.33000.h5\n",
      "Epoch 2/30\n",
      "23/23 [==============================] - 41s 2s/step - loss: 1.3474 - categorical_accuracy: 0.3946 - val_loss: 1.6704 - val_categorical_accuracy: 0.2600\n",
      "\n",
      "Epoch 00002: saving model to model_init_2020-03-0119_20_25.758805/model-00002-1.34742-0.39465-1.67036-0.26000.h5\n",
      "Epoch 3/30\n",
      "23/23 [==============================] - 42s 2s/step - loss: 1.3285 - categorical_accuracy: 0.4181 - val_loss: 1.2135 - val_categorical_accuracy: 0.4900\n",
      "\n",
      "Epoch 00003: saving model to model_init_2020-03-0119_20_25.758805/model-00003-1.32846-0.41806-1.21351-0.49000.h5\n",
      "Epoch 4/30\n",
      "23/23 [==============================] - 42s 2s/step - loss: 1.2213 - categorical_accuracy: 0.4716 - val_loss: 1.2275 - val_categorical_accuracy: 0.4000\n",
      "\n",
      "Epoch 00004: saving model to model_init_2020-03-0119_20_25.758805/model-00004-1.22126-0.47157-1.22747-0.40000.h5\n",
      "Epoch 5/30\n",
      "23/23 [==============================] - 40s 2s/step - loss: 1.2766 - categorical_accuracy: 0.4816 - val_loss: 1.0863 - val_categorical_accuracy: 0.5500\n",
      "\n",
      "Epoch 00005: saving model to model_init_2020-03-0119_20_25.758805/model-00005-1.27665-0.48161-1.08633-0.55000.h5\n",
      "Epoch 6/30\n",
      "23/23 [==============================] - 42s 2s/step - loss: 1.0399 - categorical_accuracy: 0.5686 - val_loss: 1.4215 - val_categorical_accuracy: 0.3900\n",
      "\n",
      "Epoch 00006: saving model to model_init_2020-03-0119_20_25.758805/model-00006-1.03991-0.56856-1.42150-0.39000.h5\n",
      "Epoch 7/30\n",
      "23/23 [==============================] - 41s 2s/step - loss: 1.1224 - categorical_accuracy: 0.5117 - val_loss: 1.5803 - val_categorical_accuracy: 0.3500\n",
      "\n",
      "Epoch 00007: saving model to model_init_2020-03-0119_20_25.758805/model-00007-1.12242-0.51171-1.58032-0.35000.h5\n",
      "\n",
      "Epoch 00007: ReduceLROnPlateau reducing learning rate to 0.0005000000237487257.\n",
      "Epoch 8/30\n",
      "23/23 [==============================] - 43s 2s/step - loss: 0.9530 - categorical_accuracy: 0.6221 - val_loss: 1.1518 - val_categorical_accuracy: 0.4700\n",
      "\n",
      "Epoch 00008: saving model to model_init_2020-03-0119_20_25.758805/model-00008-0.95298-0.62207-1.15180-0.47000.h5\n",
      "Epoch 9/30\n",
      "23/23 [==============================] - 40s 2s/step - loss: 0.8664 - categorical_accuracy: 0.6421 - val_loss: 0.9657 - val_categorical_accuracy: 0.5700\n",
      "\n",
      "Epoch 00009: saving model to model_init_2020-03-0119_20_25.758805/model-00009-0.86639-0.64214-0.96566-0.57000.h5\n",
      "Epoch 10/30\n",
      "23/23 [==============================] - 41s 2s/step - loss: 0.7310 - categorical_accuracy: 0.7023 - val_loss: 0.7788 - val_categorical_accuracy: 0.6500\n",
      "\n",
      "Epoch 00010: saving model to model_init_2020-03-0119_20_25.758805/model-00010-0.73098-0.70234-0.77882-0.65000.h5\n",
      "Epoch 11/30\n",
      "23/23 [==============================] - 41s 2s/step - loss: 0.6752 - categorical_accuracy: 0.7425 - val_loss: 0.8106 - val_categorical_accuracy: 0.6100\n",
      "\n",
      "Epoch 00011: saving model to model_init_2020-03-0119_20_25.758805/model-00011-0.67515-0.74247-0.81055-0.61000.h5\n",
      "Epoch 12/30\n",
      "23/23 [==============================] - 42s 2s/step - loss: 0.6520 - categorical_accuracy: 0.7559 - val_loss: 1.0096 - val_categorical_accuracy: 0.6700\n",
      "\n",
      "Epoch 00012: saving model to model_init_2020-03-0119_20_25.758805/model-00012-0.65200-0.75585-1.00965-0.67000.h5\n",
      "\n",
      "Epoch 00012: ReduceLROnPlateau reducing learning rate to 0.0002500000118743628.\n",
      "Epoch 13/30\n",
      "23/23 [==============================] - 42s 2s/step - loss: 0.5842 - categorical_accuracy: 0.7659 - val_loss: 0.7787 - val_categorical_accuracy: 0.6900\n",
      "\n",
      "Epoch 00013: saving model to model_init_2020-03-0119_20_25.758805/model-00013-0.58425-0.76589-0.77871-0.69000.h5\n",
      "Epoch 14/30\n",
      "23/23 [==============================] - 41s 2s/step - loss: 0.5360 - categorical_accuracy: 0.7793 - val_loss: 0.7641 - val_categorical_accuracy: 0.6600\n",
      "\n",
      "Epoch 00014: saving model to model_init_2020-03-0119_20_25.758805/model-00014-0.53595-0.77926-0.76406-0.66000.h5\n",
      "Epoch 15/30\n",
      "23/23 [==============================] - 41s 2s/step - loss: 0.4937 - categorical_accuracy: 0.8428 - val_loss: 0.7227 - val_categorical_accuracy: 0.6900\n",
      "\n",
      "Epoch 00015: saving model to model_init_2020-03-0119_20_25.758805/model-00015-0.49371-0.84281-0.72266-0.69000.h5\n",
      "Epoch 16/30\n",
      "23/23 [==============================] - 41s 2s/step - loss: 0.4239 - categorical_accuracy: 0.8629 - val_loss: 0.7558 - val_categorical_accuracy: 0.7000\n",
      "\n",
      "Epoch 00016: saving model to model_init_2020-03-0119_20_25.758805/model-00016-0.42392-0.86288-0.75575-0.70000.h5\n",
      "Epoch 17/30\n",
      "23/23 [==============================] - 41s 2s/step - loss: 0.4893 - categorical_accuracy: 0.8161 - val_loss: 0.8512 - val_categorical_accuracy: 0.6600\n",
      "\n",
      "Epoch 00017: saving model to model_init_2020-03-0119_20_25.758805/model-00017-0.48926-0.81605-0.85124-0.66000.h5\n",
      "\n",
      "Epoch 00017: ReduceLROnPlateau reducing learning rate to 0.0001250000059371814.\n",
      "Epoch 18/30\n",
      "23/23 [==============================] - 41s 2s/step - loss: 0.3097 - categorical_accuracy: 0.9130 - val_loss: 0.7054 - val_categorical_accuracy: 0.7100\n",
      "\n",
      "Epoch 00018: saving model to model_init_2020-03-0119_20_25.758805/model-00018-0.30969-0.91304-0.70541-0.71000.h5\n",
      "Epoch 19/30\n",
      "23/23 [==============================] - 41s 2s/step - loss: 0.3612 - categorical_accuracy: 0.8629 - val_loss: 0.7239 - val_categorical_accuracy: 0.7000\n",
      "\n",
      "Epoch 00019: saving model to model_init_2020-03-0119_20_25.758805/model-00019-0.36116-0.86288-0.72386-0.70000.h5\n",
      "Epoch 20/30\n",
      "23/23 [==============================] - 43s 2s/step - loss: 0.3202 - categorical_accuracy: 0.8963 - val_loss: 0.7626 - val_categorical_accuracy: 0.6400\n",
      "\n",
      "Epoch 00020: saving model to model_init_2020-03-0119_20_25.758805/model-00020-0.32016-0.89632-0.76256-0.64000.h5\n",
      "\n",
      "Epoch 00020: ReduceLROnPlateau reducing learning rate to 6.25000029685907e-05.\n",
      "Epoch 21/30\n",
      "23/23 [==============================] - 41s 2s/step - loss: 0.3716 - categorical_accuracy: 0.8595 - val_loss: 0.7172 - val_categorical_accuracy: 0.7000\n",
      "\n",
      "Epoch 00021: saving model to model_init_2020-03-0119_20_25.758805/model-00021-0.37157-0.85953-0.71717-0.70000.h5\n",
      "Epoch 22/30\n",
      "23/23 [==============================] - 42s 2s/step - loss: 0.3233 - categorical_accuracy: 0.8696 - val_loss: 0.7032 - val_categorical_accuracy: 0.7000\n",
      "\n",
      "Epoch 00022: saving model to model_init_2020-03-0119_20_25.758805/model-00022-0.32327-0.86957-0.70316-0.70000.h5\n",
      "Epoch 23/30\n",
      "23/23 [==============================] - 40s 2s/step - loss: 0.3057 - categorical_accuracy: 0.8997 - val_loss: 0.7300 - val_categorical_accuracy: 0.6900\n",
      "\n",
      "Epoch 00023: saving model to model_init_2020-03-0119_20_25.758805/model-00023-0.30572-0.89967-0.72997-0.69000.h5\n",
      "Epoch 24/30\n",
      "23/23 [==============================] - 41s 2s/step - loss: 0.2983 - categorical_accuracy: 0.8896 - val_loss: 0.7005 - val_categorical_accuracy: 0.7100\n",
      "\n",
      "Epoch 00024: saving model to model_init_2020-03-0119_20_25.758805/model-00024-0.29830-0.88963-0.70054-0.71000.h5\n",
      "Epoch 25/30\n",
      "23/23 [==============================] - 41s 2s/step - loss: 0.2802 - categorical_accuracy: 0.9097 - val_loss: 0.6997 - val_categorical_accuracy: 0.6900\n",
      "\n",
      "Epoch 00025: saving model to model_init_2020-03-0119_20_25.758805/model-00025-0.28016-0.90970-0.69973-0.69000.h5\n",
      "Epoch 26/30\n",
      "23/23 [==============================] - 41s 2s/step - loss: 0.2573 - categorical_accuracy: 0.9064 - val_loss: 0.6987 - val_categorical_accuracy: 0.6900\n",
      "\n",
      "Epoch 00026: saving model to model_init_2020-03-0119_20_25.758805/model-00026-0.25726-0.90635-0.69868-0.69000.h5\n",
      "Epoch 27/30\n",
      "23/23 [==============================] - 42s 2s/step - loss: 0.2483 - categorical_accuracy: 0.9331 - val_loss: 0.6863 - val_categorical_accuracy: 0.7100\n",
      "\n",
      "Epoch 00027: saving model to model_init_2020-03-0119_20_25.758805/model-00027-0.24833-0.93311-0.68632-0.71000.h5\n",
      "Epoch 28/30\n",
      "23/23 [==============================] - 40s 2s/step - loss: 0.2812 - categorical_accuracy: 0.9030 - val_loss: 0.7094 - val_categorical_accuracy: 0.6700\n",
      "\n",
      "Epoch 00028: saving model to model_init_2020-03-0119_20_25.758805/model-00028-0.28115-0.90301-0.70945-0.67000.h5\n",
      "Epoch 29/30\n",
      "23/23 [==============================] - 41s 2s/step - loss: 0.2532 - categorical_accuracy: 0.9030 - val_loss: 0.6694 - val_categorical_accuracy: 0.7100\n",
      "\n",
      "Epoch 00029: saving model to model_init_2020-03-0119_20_25.758805/model-00029-0.25317-0.90301-0.66935-0.71000.h5\n",
      "Epoch 30/30\n",
      "23/23 [==============================] - 42s 2s/step - loss: 0.2583 - categorical_accuracy: 0.9064 - val_loss: 0.6711 - val_categorical_accuracy: 0.7000\n",
      "\n",
      "Epoch 00030: saving model to model_init_2020-03-0119_20_25.758805/model-00030-0.25829-0.90635-0.67108-0.70000.h5\n"
     ]
    },
    {
     "data": {
      "text/plain": [
       "<keras.callbacks.History at 0x7fdcf5f73b70>"
      ]
     },
     "execution_count": 28,
     "metadata": {},
     "output_type": "execute_result"
    }
   ],
   "source": [
    "model_f_history = model_f.fit_generator(train_generator, steps_per_epoch=steps_per_epoch, epochs=num_epochs, verbose=1, \n",
    "                    callbacks=callbacks_list, validation_data=val_generator, \n",
    "                    validation_steps=validation_steps, class_weight=None, workers=1, initial_epoch=0)\n",
    "model_f_history"
   ]
  },
  {
   "cell_type": "code",
   "execution_count": 29,
   "metadata": {},
   "outputs": [
    {
     "data": {
      "image/png": "[encoded data removed]",
      "text/plain": [
       "<Figure size 1080x288 with 2 Axes>"
      ]
     },
     "metadata": {},
     "output_type": "display_data"
    }
   ],
   "source": [
    "plot(model_f_history)"
   ]
  },
  {
   "cell_type": "markdown",
   "metadata": {},
   "source": [
    "#### Conclusion:\n",
    "* train and test accuracies are very close to each other but over all test accuraccies are not more than 0.74, let's try some other models.\n",
    "* In the next model we will keep all the parameters same except max pooling layer's pool size after last CONV 3d layer, we will increase it to (3,3,3) from (2,2,2)"
   ]
  },
  {
   "cell_type": "markdown",
   "metadata": {},
   "source": [
    "### Model-7_Conv_3D"
   ]
  },
  {
   "cell_type": "code",
   "execution_count": 70,
   "metadata": {},
   "outputs": [],
   "source": [
    "nb_filters = [16,32,64,128]\n",
    "nb_dense = [512, 256, 5]\n",
    "\n",
    "# Input\n",
    "input_shape=(30,120,120,3)\n",
    "\n",
    "# Define model\n",
    "model_g = Sequential()\n",
    "\n",
    "model_g.add(Conv3D(nb_filters[0], \n",
    "                 kernel_size=(3,3,3), \n",
    "                 input_shape=input_shape,\n",
    "                 padding='same'))\n",
    "model_g.add(BatchNormalization())\n",
    "model_g.add(Activation('relu'))\n",
    "\n",
    "model_g.add(MaxPooling3D(pool_size=(2,2,2)))\n",
    "\n",
    "model_g.add(Conv3D(nb_filters[1], \n",
    "                 kernel_size=(3,3,3), \n",
    "                 padding='same'))\n",
    "model_g.add(BatchNormalization())\n",
    "model_g.add(Activation('relu'))\n",
    "\n",
    "\n",
    "model_g.add(MaxPooling3D(pool_size=(2,2,2)))\n",
    "\n",
    "model_g.add(Conv3D(nb_filters[2], \n",
    "                 kernel_size=(1,3,3), \n",
    "                 padding='same'))\n",
    "model_g.add(BatchNormalization())\n",
    "model_g.add(Activation('relu'))\n",
    "\n",
    "\n",
    "model_g.add(MaxPooling3D(pool_size=(2,2,2)))\n",
    "\n",
    "model_g.add(Conv3D(nb_filters[3], \n",
    "                 kernel_size=(1,3,3), \n",
    "                 padding='same'))\n",
    "model_g.add(Activation('relu'))\n",
    "model_g.add(Dropout(0.25))\n",
    "\n",
    "model_g.add(MaxPooling3D(pool_size=(3,3,3)))\n",
    "\n",
    "\n",
    "#Flatten Layers\n",
    "model_g.add(Flatten())\n",
    "\n",
    "model_g.add(Dense(nb_dense[0], activation='relu'))\n",
    "model_g.add(Dropout(0.5))\n",
    "\n",
    "model_g.add(Dense(nb_dense[1], activation='relu'))\n",
    "model_g.add(Dropout(0.5))\n",
    "\n",
    "#softmax layer\n",
    "model_g.add(Dense(nb_dense[2], activation='softmax'))"
   ]
  },
  {
   "cell_type": "code",
   "execution_count": 72,
   "metadata": {},
   "outputs": [
    {
     "name": "stdout",
     "output_type": "stream",
     "text": [
      "_________________________________________________________________\n",
      "Layer (type)                 Output Shape              Param #   \n",
      "=================================================================\n",
      "conv3d_5 (Conv3D)            (None, 30, 120, 120, 16)  1312      \n",
      "_________________________________________________________________\n",
      "batch_normalization_29 (Batc (None, 30, 120, 120, 16)  64        \n",
      "_________________________________________________________________\n",
      "activation_5 (Activation)    (None, 30, 120, 120, 16)  0         \n",
      "_________________________________________________________________\n",
      "max_pooling3d_5 (MaxPooling3 (None, 15, 60, 60, 16)    0         \n",
      "_________________________________________________________________\n",
      "conv3d_6 (Conv3D)            (None, 15, 60, 60, 32)    13856     \n",
      "_________________________________________________________________\n",
      "batch_normalization_30 (Batc (None, 15, 60, 60, 32)    128       \n",
      "_________________________________________________________________\n",
      "activation_6 (Activation)    (None, 15, 60, 60, 32)    0         \n",
      "_________________________________________________________________\n",
      "max_pooling3d_6 (MaxPooling3 (None, 7, 30, 30, 32)     0         \n",
      "_________________________________________________________________\n",
      "conv3d_7 (Conv3D)            (None, 7, 30, 30, 64)     18496     \n",
      "_________________________________________________________________\n",
      "batch_normalization_31 (Batc (None, 7, 30, 30, 64)     256       \n",
      "_________________________________________________________________\n",
      "activation_7 (Activation)    (None, 7, 30, 30, 64)     0         \n",
      "_________________________________________________________________\n",
      "max_pooling3d_7 (MaxPooling3 (None, 3, 15, 15, 64)     0         \n",
      "_________________________________________________________________\n",
      "conv3d_8 (Conv3D)            (None, 3, 15, 15, 128)    73856     \n",
      "_________________________________________________________________\n",
      "activation_8 (Activation)    (None, 3, 15, 15, 128)    0         \n",
      "_________________________________________________________________\n",
      "dropout_18 (Dropout)         (None, 3, 15, 15, 128)    0         \n",
      "_________________________________________________________________\n",
      "max_pooling3d_8 (MaxPooling3 (None, 1, 5, 5, 128)      0         \n",
      "_________________________________________________________________\n",
      "flatten_9 (Flatten)          (None, 3200)              0         \n",
      "_________________________________________________________________\n",
      "dense_18 (Dense)             (None, 512)               1638912   \n",
      "_________________________________________________________________\n",
      "dropout_19 (Dropout)         (None, 512)               0         \n",
      "_________________________________________________________________\n",
      "dense_19 (Dense)             (None, 256)               131328    \n",
      "_________________________________________________________________\n",
      "dropout_20 (Dropout)         (None, 256)               0         \n",
      "_________________________________________________________________\n",
      "dense_20 (Dense)             (None, 5)                 1285      \n",
      "=================================================================\n",
      "Total params: 1,879,493\n",
      "Trainable params: 1,879,269\n",
      "Non-trainable params: 224\n",
      "_________________________________________________________________\n",
      "None\n"
     ]
    }
   ],
   "source": [
    "optimiser = keras.optimizers.Adam() #write your optimizer\n",
    "model_g.compile(optimizer=optimiser, loss='categorical_crossentropy', metrics=['categorical_accuracy'])\n",
    "print (model_g.summary())"
   ]
  },
  {
   "cell_type": "code",
   "execution_count": 73,
   "metadata": {},
   "outputs": [
    {
     "name": "stdout",
     "output_type": "stream",
     "text": [
      "# training sequences = 663\n",
      "# validation sequences = 100\n",
      "# epochs = 30\n",
      "2020-03-02 16:40:26.869932\n"
     ]
    }
   ],
   "source": [
    "curr_dt_time = datetime.datetime.now()\n",
    "train_path = '/mnt/disks/user/project/PROJECT/Project_data/train'\n",
    "val_path = '/mnt/disks/user/project/PROJECT/Project_data/val'\n",
    "num_train_sequences = len(train_doc)\n",
    "print('# training sequences =', num_train_sequences)\n",
    "num_val_sequences = len(val_doc)\n",
    "print('# validation sequences =', num_val_sequences)\n",
    "num_epochs = num_epochs # choose the number of epochs\n",
    "print ('# epochs =', num_epochs)\n",
    "print(curr_dt_time)"
   ]
  },
  {
   "cell_type": "code",
   "execution_count": 74,
   "metadata": {},
   "outputs": [],
   "source": [
    "model_name = 'model_init' + '_' + str(curr_dt_time).replace(' ','').replace(':','_') + '/'\n",
    "\n",
    "if not os.path.exists(model_name):\n",
    "    os.mkdir(model_name)\n",
    "\n",
    "filepath = model_name + 'model-{epoch:05d}-{loss:.5f}-{categorical_accuracy:.5f}-{val_loss:.5f}-{val_categorical_accuracy:.5f}.h5'\n",
    "\n",
    "checkpoint = ModelCheckpoint(filepath, monitor='val_loss', verbose=1, save_best_only=False, save_weights_only=False, mode='auto', period=1)\n",
    "\n",
    "LR = ReduceLROnPlateau(monitor='val_loss', factor=0.5, patience=2, cooldown=1, verbose=1) # write the REducelronplateau code here\n",
    "callbacks_list = [checkpoint, LR]"
   ]
  },
  {
   "cell_type": "code",
   "execution_count": 75,
   "metadata": {},
   "outputs": [],
   "source": [
    "if (num_train_sequences%batch_size) == 0:\n",
    "    steps_per_epoch = int(num_train_sequences/batch_size)\n",
    "else:\n",
    "    steps_per_epoch = (num_train_sequences//batch_size) + 1\n",
    "\n",
    "if (num_val_sequences%batch_size) == 0:\n",
    "    validation_steps = int(num_val_sequences/batch_size)\n",
    "else:\n",
    "    validation_steps = (num_val_sequences//batch_size) + 1"
   ]
  },
  {
   "cell_type": "code",
   "execution_count": 76,
   "metadata": {},
   "outputs": [],
   "source": [
    "batch_size = 50\n",
    "num_epochs = 30\n",
    "train_generator = generator(train_path, train_doc, batch_size)\n",
    "val_generator = generator(val_path, val_doc, batch_size)"
   ]
  },
  {
   "cell_type": "code",
   "execution_count": 77,
   "metadata": {},
   "outputs": [
    {
     "name": "stdout",
     "output_type": "stream",
     "text": [
      "Source path =  /mnt/disks/user/project/PROJECT/Project_data/val ; batch size = 50\n",
      "Source path =  /mnt/disks/user/project/PROJECT/Project_data/train ; batch size = Epoch 1/30\n",
      "50\n"
     ]
    },
    {
     "name": "stderr",
     "output_type": "stream",
     "text": [
      "/mnt/disks/user/anaconda3/lib/python3.6/site-packages/ipykernel_launcher.py:17: DeprecationWarning: `imread` is deprecated!\n",
      "`imread` is deprecated in SciPy 1.0.0, and will be removed in 1.2.0.\n",
      "Use ``imageio.imread`` instead.\n",
      "/mnt/disks/user/anaconda3/lib/python3.6/site-packages/ipykernel_launcher.py:22: DeprecationWarning: `imresize` is deprecated!\n",
      "`imresize` is deprecated in SciPy 1.0.0, and will be removed in 1.2.0.\n",
      "Use ``skimage.transform.resize`` instead.\n"
     ]
    },
    {
     "name": "stdout",
     "output_type": "stream",
     "text": [
      "12/14 [========================>.....] - ETA: 14s - loss: 2.6045 - categorical_accuracy: 0.2650Batch:  14 Index: 50\n"
     ]
    },
    {
     "name": "stderr",
     "output_type": "stream",
     "text": [
      "/mnt/disks/user/anaconda3/lib/python3.6/site-packages/ipykernel_launcher.py:42: DeprecationWarning: `imread` is deprecated!\n",
      "`imread` is deprecated in SciPy 1.0.0, and will be removed in 1.2.0.\n",
      "Use ``imageio.imread`` instead.\n",
      "/mnt/disks/user/anaconda3/lib/python3.6/site-packages/ipykernel_launcher.py:46: DeprecationWarning: `imresize` is deprecated!\n",
      "`imresize` is deprecated in SciPy 1.0.0, and will be removed in 1.2.0.\n",
      "Use ``skimage.transform.resize`` instead.\n"
     ]
    },
    {
     "name": "stdout",
     "output_type": "stream",
     "text": [
      "14/14 [==============================] - 95s 7s/step - loss: 2.4506 - categorical_accuracy: 0.2661 - val_loss: 1.4506 - val_categorical_accuracy: 0.2400\n",
      "\n",
      "Epoch 00001: saving model to model_init_2020-03-0216_40_26.869932/model-00001-2.50207-0.26395-1.45059-0.24000.h5\n",
      "Epoch 2/30\n",
      "14/14 [==============================] - 17s 1s/step - loss: 1.4344 - categorical_accuracy: 0.3297 - val_loss: 1.3372 - val_categorical_accuracy: 0.3600\n",
      "\n",
      "Epoch 00002: saving model to model_init_2020-03-0216_40_26.869932/model-00002-1.43441-0.32967-1.33719-0.36000.h5\n",
      "Epoch 3/30\n",
      "14/14 [==============================] - 25s 2s/step - loss: 1.3262 - categorical_accuracy: 0.4341 - val_loss: 1.8588 - val_categorical_accuracy: 0.2800\n",
      "\n",
      "Epoch 00003: saving model to model_init_2020-03-0216_40_26.869932/model-00003-1.32622-0.43407-1.85880-0.28000.h5\n",
      "Epoch 4/30\n",
      "14/14 [==============================] - 25s 2s/step - loss: 1.3008 - categorical_accuracy: 0.4286 - val_loss: 1.1537 - val_categorical_accuracy: 0.4100\n",
      "\n",
      "Epoch 00004: saving model to model_init_2020-03-0216_40_26.869932/model-00004-1.30080-0.42857-1.15370-0.41000.h5\n",
      "Epoch 5/30\n",
      "14/14 [==============================] - 23s 2s/step - loss: 1.3502 - categorical_accuracy: 0.4286 - val_loss: 1.0905 - val_categorical_accuracy: 0.6100\n",
      "\n",
      "Epoch 00005: saving model to model_init_2020-03-0216_40_26.869932/model-00005-1.35016-0.42857-1.09051-0.61000.h5\n",
      "Epoch 6/30\n",
      "14/14 [==============================] - 25s 2s/step - loss: 1.2696 - categorical_accuracy: 0.4890 - val_loss: 1.1577 - val_categorical_accuracy: 0.5100\n",
      "\n",
      "Epoch 00006: saving model to model_init_2020-03-0216_40_26.869932/model-00006-1.26957-0.48901-1.15773-0.51000.h5\n",
      "Epoch 7/30\n",
      "14/14 [==============================] - 24s 2s/step - loss: 1.2189 - categorical_accuracy: 0.4780 - val_loss: 1.3073 - val_categorical_accuracy: 0.4200\n",
      "\n",
      "Epoch 00007: saving model to model_init_2020-03-0216_40_26.869932/model-00007-1.21895-0.47802-1.30732-0.42000.h5\n",
      "\n",
      "Epoch 00007: ReduceLROnPlateau reducing learning rate to 0.0005000000237487257.\n",
      "Epoch 8/30\n",
      "14/14 [==============================] - 22s 2s/step - loss: 1.1018 - categorical_accuracy: 0.5714 - val_loss: 0.9226 - val_categorical_accuracy: 0.6400\n",
      "\n",
      "Epoch 00008: saving model to model_init_2020-03-0216_40_26.869932/model-00008-1.10184-0.57143-0.92257-0.64000.h5\n",
      "Epoch 9/30\n",
      "14/14 [==============================] - 25s 2s/step - loss: 1.0423 - categorical_accuracy: 0.5385 - val_loss: 0.9338 - val_categorical_accuracy: 0.6900\n",
      "\n",
      "Epoch 00009: saving model to model_init_2020-03-0216_40_26.869932/model-00009-1.04235-0.53846-0.93385-0.69000.h5\n",
      "Epoch 10/30\n",
      "14/14 [==============================] - 25s 2s/step - loss: 1.0503 - categorical_accuracy: 0.5385 - val_loss: 0.8450 - val_categorical_accuracy: 0.6900\n",
      "\n",
      "Epoch 00010: saving model to model_init_2020-03-0216_40_26.869932/model-00010-1.05026-0.53846-0.84500-0.69000.h5\n",
      "Epoch 11/30\n",
      "14/14 [==============================] - 25s 2s/step - loss: 0.9177 - categorical_accuracy: 0.6044 - val_loss: 0.8984 - val_categorical_accuracy: 0.6500\n",
      "\n",
      "Epoch 00011: saving model to model_init_2020-03-0216_40_26.869932/model-00011-0.91768-0.60440-0.89837-0.65000.h5\n",
      "Epoch 12/30\n",
      "14/14 [==============================] - 24s 2s/step - loss: 0.8839 - categorical_accuracy: 0.6264 - val_loss: 0.9731 - val_categorical_accuracy: 0.6300\n",
      "\n",
      "Epoch 00012: saving model to model_init_2020-03-0216_40_26.869932/model-00012-0.88395-0.62637-0.97311-0.63000.h5\n",
      "\n",
      "Epoch 00012: ReduceLROnPlateau reducing learning rate to 0.0002500000118743628.\n",
      "Epoch 13/30\n",
      "14/14 [==============================] - 25s 2s/step - loss: 0.8112 - categorical_accuracy: 0.6923 - val_loss: 0.9589 - val_categorical_accuracy: 0.6600\n",
      "\n",
      "Epoch 00013: saving model to model_init_2020-03-0216_40_26.869932/model-00013-0.81117-0.69231-0.95891-0.66000.h5\n",
      "Epoch 14/30\n",
      "14/14 [==============================] - 23s 2s/step - loss: 0.7689 - categorical_accuracy: 0.6758 - val_loss: 0.9398 - val_categorical_accuracy: 0.6300\n",
      "\n",
      "Epoch 00014: saving model to model_init_2020-03-0216_40_26.869932/model-00014-0.76893-0.67582-0.93975-0.63000.h5\n",
      "\n",
      "Epoch 00014: ReduceLROnPlateau reducing learning rate to 0.0001250000059371814.\n",
      "Epoch 15/30\n",
      "14/14 [==============================] - 25s 2s/step - loss: 0.9158 - categorical_accuracy: 0.5989 - val_loss: 0.9786 - val_categorical_accuracy: 0.6400\n",
      "\n",
      "Epoch 00015: saving model to model_init_2020-03-0216_40_26.869932/model-00015-0.91577-0.59890-0.97855-0.64000.h5\n",
      "Epoch 16/30\n",
      "14/14 [==============================] - 25s 2s/step - loss: 0.8165 - categorical_accuracy: 0.6813 - val_loss: 0.9743 - val_categorical_accuracy: 0.6300\n",
      "\n",
      "Epoch 00016: saving model to model_init_2020-03-0216_40_26.869932/model-00016-0.81645-0.68132-0.97425-0.63000.h5\n",
      "\n",
      "Epoch 00016: ReduceLROnPlateau reducing learning rate to 6.25000029685907e-05.\n",
      "Epoch 17/30\n",
      "14/14 [==============================] - 24s 2s/step - loss: 0.8017 - categorical_accuracy: 0.6484 - val_loss: 0.9052 - val_categorical_accuracy: 0.6600\n",
      "\n",
      "Epoch 00017: saving model to model_init_2020-03-0216_40_26.869932/model-00017-0.80170-0.64835-0.90518-0.66000.h5\n",
      "Epoch 18/30\n",
      "14/14 [==============================] - 25s 2s/step - loss: 0.7581 - categorical_accuracy: 0.7033 - val_loss: 0.8538 - val_categorical_accuracy: 0.6800\n",
      "\n",
      "Epoch 00018: saving model to model_init_2020-03-0216_40_26.869932/model-00018-0.75807-0.70330-0.85383-0.68000.h5\n",
      "\n",
      "Epoch 00018: ReduceLROnPlateau reducing learning rate to 3.125000148429535e-05.\n",
      "Epoch 19/30\n",
      "14/14 [==============================] - 25s 2s/step - loss: 0.7303 - categorical_accuracy: 0.7088 - val_loss: 0.8093 - val_categorical_accuracy: 0.7000\n",
      "\n",
      "Epoch 00019: saving model to model_init_2020-03-0216_40_26.869932/model-00019-0.73034-0.70879-0.80927-0.70000.h5\n",
      "Epoch 20/30\n",
      "14/14 [==============================] - 23s 2s/step - loss: 0.6193 - categorical_accuracy: 0.7527 - val_loss: 0.7896 - val_categorical_accuracy: 0.7000\n",
      "\n",
      "Epoch 00020: saving model to model_init_2020-03-0216_40_26.869932/model-00020-0.61929-0.75275-0.78961-0.70000.h5\n",
      "Epoch 21/30\n",
      "14/14 [==============================] - 27s 2s/step - loss: 0.6917 - categorical_accuracy: 0.7143 - val_loss: 0.7710 - val_categorical_accuracy: 0.7100\n",
      "\n",
      "Epoch 00021: saving model to model_init_2020-03-0216_40_26.869932/model-00021-0.69170-0.71429-0.77098-0.71000.h5\n",
      "Epoch 22/30\n",
      "14/14 [==============================] - 24s 2s/step - loss: 0.7293 - categorical_accuracy: 0.6648 - val_loss: 0.7918 - val_categorical_accuracy: 0.7300\n",
      "\n",
      "Epoch 00022: saving model to model_init_2020-03-0216_40_26.869932/model-00022-0.72933-0.66484-0.79179-0.73000.h5\n",
      "Epoch 23/30\n",
      "14/14 [==============================] - 25s 2s/step - loss: 0.7440 - categorical_accuracy: 0.7253 - val_loss: 0.7938 - val_categorical_accuracy: 0.7100\n",
      "\n",
      "Epoch 00023: saving model to model_init_2020-03-0216_40_26.869932/model-00023-0.74397-0.72527-0.79382-0.71000.h5\n",
      "\n",
      "Epoch 00023: ReduceLROnPlateau reducing learning rate to 1.5625000742147677e-05.\n",
      "Epoch 24/30\n",
      "14/14 [==============================] - 25s 2s/step - loss: 0.6439 - categorical_accuracy: 0.7418 - val_loss: 0.7751 - val_categorical_accuracy: 0.7300\n",
      "\n",
      "Epoch 00024: saving model to model_init_2020-03-0216_40_26.869932/model-00024-0.64394-0.74176-0.77509-0.73000.h5\n",
      "Epoch 25/30\n",
      "14/14 [==============================] - 25s 2s/step - loss: 0.6752 - categorical_accuracy: 0.7308 - val_loss: 0.7528 - val_categorical_accuracy: 0.7100\n",
      "\n",
      "Epoch 00025: saving model to model_init_2020-03-0216_40_26.869932/model-00025-0.67516-0.73077-0.75282-0.71000.h5\n",
      "Epoch 26/30\n",
      "14/14 [==============================] - 23s 2s/step - loss: 0.7889 - categorical_accuracy: 0.6648 - val_loss: 0.7376 - val_categorical_accuracy: 0.7100\n",
      "\n",
      "Epoch 00026: saving model to model_init_2020-03-0216_40_26.869932/model-00026-0.78886-0.66484-0.73758-0.71000.h5\n",
      "Epoch 27/30\n",
      "14/14 [==============================] - 25s 2s/step - loss: 0.7619 - categorical_accuracy: 0.7143 - val_loss: 0.7239 - val_categorical_accuracy: 0.7300\n",
      "\n",
      "Epoch 00027: saving model to model_init_2020-03-0216_40_26.869932/model-00027-0.76189-0.71429-0.72392-0.73000.h5\n",
      "Epoch 28/30\n",
      "14/14 [==============================] - 24s 2s/step - loss: 0.6721 - categorical_accuracy: 0.7418 - val_loss: 0.7096 - val_categorical_accuracy: 0.7300\n",
      "\n",
      "Epoch 00028: saving model to model_init_2020-03-0216_40_26.869932/model-00028-0.67209-0.74176-0.70957-0.73000.h5\n",
      "Epoch 29/30\n"
     ]
    },
    {
     "name": "stdout",
     "output_type": "stream",
     "text": [
      "14/14 [==============================] - 25s 2s/step - loss: 0.6592 - categorical_accuracy: 0.7308 - val_loss: 0.7039 - val_categorical_accuracy: 0.7300\n",
      "\n",
      "Epoch 00029: saving model to model_init_2020-03-0216_40_26.869932/model-00029-0.65919-0.73077-0.70394-0.73000.h5\n",
      "Epoch 30/30\n",
      "14/14 [==============================] - 24s 2s/step - loss: 0.5965 - categorical_accuracy: 0.7747 - val_loss: 0.7028 - val_categorical_accuracy: 0.7300\n",
      "\n",
      "Epoch 00030: saving model to model_init_2020-03-0216_40_26.869932/model-00030-0.59652-0.77473-0.70281-0.73000.h5\n"
     ]
    },
    {
     "data": {
      "text/plain": [
       "<keras.callbacks.History at 0x7fb584d76780>"
      ]
     },
     "execution_count": 77,
     "metadata": {},
     "output_type": "execute_result"
    }
   ],
   "source": [
    "model_g_history = model_g.fit_generator(train_generator, steps_per_epoch=steps_per_epoch, epochs=num_epochs, verbose=1, \n",
    "                    callbacks=callbacks_list, validation_data=val_generator, \n",
    "                    validation_steps=validation_steps, class_weight=None, workers=1, initial_epoch=0)\n",
    "model_g_history"
   ]
  },
  {
   "cell_type": "code",
   "execution_count": 78,
   "metadata": {},
   "outputs": [
    {
     "data": {
      "image/png": "[encoded data removed]",
      "text/plain": [
       "<Figure size 1080x288 with 2 Axes>"
      ]
     },
     "metadata": {},
     "output_type": "display_data"
    }
   ],
   "source": [
    "plot(model_g_history)"
   ]
  },
  {
   "cell_type": "markdown",
   "metadata": {},
   "source": [
    "#### Conclusion:\n",
    "* This one looks good with train accuracy 87 and test accuracy is 79. but still model over fits and total number of paramets used are 1.8m . Lets explore some more options and find the optimal value for parameters.\n",
    "* we will decease the nuerons in dense layers back to 256 ,128 and 5. as more number of nuerons in dense layer is leading to overfitting."
   ]
  },
  {
   "cell_type": "markdown",
   "metadata": {},
   "source": [
    "### Model-8_Conv_3D"
   ]
  },
  {
   "cell_type": "code",
   "execution_count": 62,
   "metadata": {},
   "outputs": [],
   "source": [
    "nb_filters = [16,32,64,128]\n",
    "nb_dense = [256, 128, 5]\n",
    "\n",
    "# Input\n",
    "input_shape=(30,120,120,3)\n",
    "\n",
    "# Define model\n",
    "model_h = Sequential()\n",
    "\n",
    "model_h.add(Conv3D(nb_filters[0], \n",
    "                 kernel_size=(3,3,3), \n",
    "                 input_shape=input_shape,\n",
    "                 padding='same'))\n",
    "model_h.add(BatchNormalization())\n",
    "model_h.add(Activation('relu'))\n",
    "\n",
    "model_h.add(MaxPooling3D(pool_size=(2,2,2)))\n",
    "\n",
    "model_h.add(Conv3D(nb_filters[1], \n",
    "                 kernel_size=(3,3,3), \n",
    "                 padding='same'))\n",
    "model_h.add(BatchNormalization())\n",
    "model_h.add(Activation('relu'))\n",
    "\n",
    "\n",
    "model_h.add(MaxPooling3D(pool_size=(2,2,2)))\n",
    "\n",
    "model_h.add(Conv3D(nb_filters[2], \n",
    "                 kernel_size=(1,3,3), \n",
    "                 padding='same'))\n",
    "model_h.add(BatchNormalization())\n",
    "model_h.add(Activation('relu'))\n",
    "\n",
    "\n",
    "model_h.add(MaxPooling3D(pool_size=(2,2,2)))\n",
    "\n",
    "model_h.add(Conv3D(nb_filters[3], \n",
    "                 kernel_size=(1,3,3), \n",
    "                 padding='same'))\n",
    "model_h.add(Activation('relu'))\n",
    "model_h.add(Dropout(0.25))\n",
    "\n",
    "model_h.add(MaxPooling3D(pool_size=(3,3,3)))\n",
    "\n",
    "\n",
    "#Flatten Layers\n",
    "model_h.add(Flatten())\n",
    "\n",
    "model_h.add(Dense(nb_dense[0], activation='relu'))\n",
    "model_h.add(Dropout(0.5))\n",
    "\n",
    "model_h.add(Dense(nb_dense[1], activation='relu'))\n",
    "model_h.add(Dropout(0.5))\n",
    "\n",
    "#softmax layer\n",
    "model_h.add(Dense(nb_dense[2], activation='softmax'))"
   ]
  },
  {
   "cell_type": "code",
   "execution_count": 63,
   "metadata": {},
   "outputs": [
    {
     "name": "stdout",
     "output_type": "stream",
     "text": [
      "_________________________________________________________________\n",
      "Layer (type)                 Output Shape              Param #   \n",
      "=================================================================\n",
      "conv3d_1 (Conv3D)            (None, 30, 120, 120, 16)  1312      \n",
      "_________________________________________________________________\n",
      "batch_normalization_26 (Batc (None, 30, 120, 120, 16)  64        \n",
      "_________________________________________________________________\n",
      "activation_1 (Activation)    (None, 30, 120, 120, 16)  0         \n",
      "_________________________________________________________________\n",
      "max_pooling3d_1 (MaxPooling3 (None, 15, 60, 60, 16)    0         \n",
      "_________________________________________________________________\n",
      "conv3d_2 (Conv3D)            (None, 15, 60, 60, 32)    13856     \n",
      "_________________________________________________________________\n",
      "batch_normalization_27 (Batc (None, 15, 60, 60, 32)    128       \n",
      "_________________________________________________________________\n",
      "activation_2 (Activation)    (None, 15, 60, 60, 32)    0         \n",
      "_________________________________________________________________\n",
      "max_pooling3d_2 (MaxPooling3 (None, 7, 30, 30, 32)     0         \n",
      "_________________________________________________________________\n",
      "conv3d_3 (Conv3D)            (None, 7, 30, 30, 64)     18496     \n",
      "_________________________________________________________________\n",
      "batch_normalization_28 (Batc (None, 7, 30, 30, 64)     256       \n",
      "_________________________________________________________________\n",
      "activation_3 (Activation)    (None, 7, 30, 30, 64)     0         \n",
      "_________________________________________________________________\n",
      "max_pooling3d_3 (MaxPooling3 (None, 3, 15, 15, 64)     0         \n",
      "_________________________________________________________________\n",
      "conv3d_4 (Conv3D)            (None, 3, 15, 15, 128)    73856     \n",
      "_________________________________________________________________\n",
      "activation_4 (Activation)    (None, 3, 15, 15, 128)    0         \n",
      "_________________________________________________________________\n",
      "dropout_15 (Dropout)         (None, 3, 15, 15, 128)    0         \n",
      "_________________________________________________________________\n",
      "max_pooling3d_4 (MaxPooling3 (None, 1, 5, 5, 128)      0         \n",
      "_________________________________________________________________\n",
      "flatten_8 (Flatten)          (None, 3200)              0         \n",
      "_________________________________________________________________\n",
      "dense_15 (Dense)             (None, 256)               819456    \n",
      "_________________________________________________________________\n",
      "dropout_16 (Dropout)         (None, 256)               0         \n",
      "_________________________________________________________________\n",
      "dense_16 (Dense)             (None, 128)               32896     \n",
      "_________________________________________________________________\n",
      "dropout_17 (Dropout)         (None, 128)               0         \n",
      "_________________________________________________________________\n",
      "dense_17 (Dense)             (None, 5)                 645       \n",
      "=================================================================\n",
      "Total params: 960,965\n",
      "Trainable params: 960,741\n",
      "Non-trainable params: 224\n",
      "_________________________________________________________________\n",
      "None\n"
     ]
    }
   ],
   "source": [
    "optimiser = keras.optimizers.Adam() #write your optimizer\n",
    "model_h.compile(optimizer=optimiser, loss='categorical_crossentropy', metrics=['categorical_accuracy'])\n",
    "print (model_h.summary())"
   ]
  },
  {
   "cell_type": "code",
   "execution_count": 64,
   "metadata": {},
   "outputs": [
    {
     "name": "stdout",
     "output_type": "stream",
     "text": [
      "# training sequences = 663\n",
      "# validation sequences = 100\n",
      "# epochs = 20\n",
      "2020-03-02 16:07:15.482864\n"
     ]
    }
   ],
   "source": [
    "curr_dt_time = datetime.datetime.now()\n",
    "train_path = '/mnt/disks/user/project/PROJECT/Project_data/train'\n",
    "val_path = '/mnt/disks/user/project/PROJECT/Project_data/val'\n",
    "num_train_sequences = len(train_doc)\n",
    "print('# training sequences =', num_train_sequences)\n",
    "num_val_sequences = len(val_doc)\n",
    "print('# validation sequences =', num_val_sequences)\n",
    "num_epochs = num_epochs # choose the number of epochs\n",
    "print ('# epochs =', num_epochs)\n",
    "print(curr_dt_time)"
   ]
  },
  {
   "cell_type": "code",
   "execution_count": 65,
   "metadata": {},
   "outputs": [],
   "source": [
    "model_name = 'model_init' + '_' + str(curr_dt_time).replace(' ','').replace(':','_') + '/'\n",
    "\n",
    "if not os.path.exists(model_name):\n",
    "    os.mkdir(model_name)\n",
    "\n",
    "filepath = model_name + 'model-{epoch:05d}-{loss:.5f}-{categorical_accuracy:.5f}-{val_loss:.5f}-{val_categorical_accuracy:.5f}.h5'\n",
    "\n",
    "checkpoint = ModelCheckpoint(filepath, monitor='val_loss', verbose=1, save_best_only=False, save_weights_only=False, mode='auto', period=1)\n",
    "\n",
    "LR = ReduceLROnPlateau(monitor='val_loss', factor=0.5, patience=2, cooldown=1, verbose=1) # write the REducelronplateau code here\n",
    "callbacks_list = [checkpoint, LR]"
   ]
  },
  {
   "cell_type": "code",
   "execution_count": 66,
   "metadata": {},
   "outputs": [],
   "source": [
    "if (num_train_sequences%batch_size) == 0:\n",
    "    steps_per_epoch = int(num_train_sequences/batch_size)\n",
    "else:\n",
    "    steps_per_epoch = (num_train_sequences//batch_size) + 1\n",
    "\n",
    "if (num_val_sequences%batch_size) == 0:\n",
    "    validation_steps = int(num_val_sequences/batch_size)\n",
    "else:\n",
    "    validation_steps = (num_val_sequences//batch_size) + 1"
   ]
  },
  {
   "cell_type": "code",
   "execution_count": 67,
   "metadata": {},
   "outputs": [],
   "source": [
    "batch_size = 50\n",
    "num_epochs = 30\n",
    "train_generator = generator(train_path, train_doc, batch_size)\n",
    "val_generator = generator(val_path, val_doc, batch_size)"
   ]
  },
  {
   "cell_type": "code",
   "execution_count": 68,
   "metadata": {},
   "outputs": [
    {
     "name": "stdout",
     "output_type": "stream",
     "text": [
      "Source path = Source path =  /mnt/disks/user/project/PROJECT/Project_data/train ; batch size = 50\n",
      " /mnt/disks/user/project/PROJECT/Project_data/val Epoch 1/30\n",
      "; batch size = 50\n"
     ]
    },
    {
     "name": "stderr",
     "output_type": "stream",
     "text": [
      "/mnt/disks/user/anaconda3/lib/python3.6/site-packages/ipykernel_launcher.py:17: DeprecationWarning: `imread` is deprecated!\n",
      "`imread` is deprecated in SciPy 1.0.0, and will be removed in 1.2.0.\n",
      "Use ``imageio.imread`` instead.\n",
      "/mnt/disks/user/anaconda3/lib/python3.6/site-packages/ipykernel_launcher.py:22: DeprecationWarning: `imresize` is deprecated!\n",
      "`imresize` is deprecated in SciPy 1.0.0, and will be removed in 1.2.0.\n",
      "Use ``skimage.transform.resize`` instead.\n"
     ]
    },
    {
     "name": "stdout",
     "output_type": "stream",
     "text": [
      "12/34 [=========>....................] - ETA: 2:38 - loss: 2.5680 - categorical_accuracy: 0.2217Batch:  14 Index: 50\n"
     ]
    },
    {
     "name": "stderr",
     "output_type": "stream",
     "text": [
      "/mnt/disks/user/anaconda3/lib/python3.6/site-packages/ipykernel_launcher.py:42: DeprecationWarning: `imread` is deprecated!\n",
      "`imread` is deprecated in SciPy 1.0.0, and will be removed in 1.2.0.\n",
      "Use ``imageio.imread`` instead.\n",
      "/mnt/disks/user/anaconda3/lib/python3.6/site-packages/ipykernel_launcher.py:46: DeprecationWarning: `imresize` is deprecated!\n",
      "`imresize` is deprecated in SciPy 1.0.0, and will be removed in 1.2.0.\n",
      "Use ``skimage.transform.resize`` instead.\n"
     ]
    },
    {
     "name": "stdout",
     "output_type": "stream",
     "text": [
      "34/34 [==============================] - 127s 4s/step - loss: 1.9317 - categorical_accuracy: 0.2740 - val_loss: 1.5444 - val_categorical_accuracy: 0.3120\n",
      "\n",
      "Epoch 00001: saving model to model_init_2020-03-0216_07_15.482864/model-00001-2.22115-0.24702-1.54440-0.31200.h5\n",
      "Epoch 2/30\n",
      "34/34 [==============================] - 54s 2s/step - loss: 1.4708 - categorical_accuracy: 0.3529 - val_loss: 1.2393 - val_categorical_accuracy: 0.5040\n",
      "\n",
      "Epoch 00002: saving model to model_init_2020-03-0216_07_15.482864/model-00002-1.47077-0.35294-1.23925-0.50400.h5\n",
      "Epoch 3/30\n",
      "34/34 [==============================] - 59s 2s/step - loss: 1.3975 - categorical_accuracy: 0.3824 - val_loss: 1.9556 - val_categorical_accuracy: 0.2440\n",
      "\n",
      "Epoch 00003: saving model to model_init_2020-03-0216_07_15.482864/model-00003-1.39753-0.38235-1.95564-0.24400.h5\n",
      "Epoch 4/30\n",
      "34/34 [==============================] - 59s 2s/step - loss: 1.2592 - categorical_accuracy: 0.4729 - val_loss: 1.1290 - val_categorical_accuracy: 0.4880\n",
      "\n",
      "Epoch 00004: saving model to model_init_2020-03-0216_07_15.482864/model-00004-1.25921-0.47285-1.12896-0.48800.h5\n",
      "Epoch 5/30\n",
      "34/34 [==============================] - 60s 2s/step - loss: 1.1748 - categorical_accuracy: 0.5113 - val_loss: 1.1716 - val_categorical_accuracy: 0.4280\n",
      "\n",
      "Epoch 00005: saving model to model_init_2020-03-0216_07_15.482864/model-00005-1.17479-0.51131-1.17159-0.42800.h5\n",
      "Epoch 6/30\n",
      "34/34 [==============================] - 58s 2s/step - loss: 1.1441 - categorical_accuracy: 0.5385 - val_loss: 2.0272 - val_categorical_accuracy: 0.3600\n",
      "\n",
      "Epoch 00006: saving model to model_init_2020-03-0216_07_15.482864/model-00006-1.14413-0.53846-2.02721-0.36000.h5\n",
      "\n",
      "Epoch 00006: ReduceLROnPlateau reducing learning rate to 0.0005000000237487257.\n",
      "Epoch 7/30\n",
      "34/34 [==============================] - 58s 2s/step - loss: 0.9969 - categorical_accuracy: 0.6041 - val_loss: 1.0280 - val_categorical_accuracy: 0.5720\n",
      "\n",
      "Epoch 00007: saving model to model_init_2020-03-0216_07_15.482864/model-00007-0.99694-0.60407-1.02797-0.57200.h5\n",
      "Epoch 8/30\n",
      "34/34 [==============================] - 61s 2s/step - loss: 0.8969 - categorical_accuracy: 0.6335 - val_loss: 0.7790 - val_categorical_accuracy: 0.7000\n",
      "\n",
      "Epoch 00008: saving model to model_init_2020-03-0216_07_15.482864/model-00008-0.89694-0.63348-0.77896-0.70000.h5\n",
      "Epoch 9/30\n",
      "34/34 [==============================] - 60s 2s/step - loss: 0.8281 - categorical_accuracy: 0.6448 - val_loss: 1.3531 - val_categorical_accuracy: 0.3960\n",
      "\n",
      "Epoch 00009: saving model to model_init_2020-03-0216_07_15.482864/model-00009-0.82814-0.64480-1.35312-0.39600.h5\n",
      "Epoch 10/30\n",
      "34/34 [==============================] - 61s 2s/step - loss: 0.7957 - categorical_accuracy: 0.7014 - val_loss: 0.7473 - val_categorical_accuracy: 0.7040\n",
      "\n",
      "Epoch 00010: saving model to model_init_2020-03-0216_07_15.482864/model-00010-0.79575-0.70136-0.74730-0.70400.h5\n",
      "Epoch 11/30\n",
      "34/34 [==============================] - 59s 2s/step - loss: 0.7026 - categorical_accuracy: 0.7511 - val_loss: 0.6746 - val_categorical_accuracy: 0.7880\n",
      "\n",
      "Epoch 00011: saving model to model_init_2020-03-0216_07_15.482864/model-00011-0.70260-0.75113-0.67460-0.78800.h5\n",
      "Epoch 12/30\n",
      "34/34 [==============================] - 59s 2s/step - loss: 0.6355 - categorical_accuracy: 0.7466 - val_loss: 1.0664 - val_categorical_accuracy: 0.5720\n",
      "\n",
      "Epoch 00012: saving model to model_init_2020-03-0216_07_15.482864/model-00012-0.63546-0.74661-1.06637-0.57200.h5\n",
      "Epoch 13/30\n",
      "34/34 [==============================] - 59s 2s/step - loss: 0.6625 - categorical_accuracy: 0.7557 - val_loss: 1.7795 - val_categorical_accuracy: 0.4440\n",
      "\n",
      "Epoch 00013: saving model to model_init_2020-03-0216_07_15.482864/model-00013-0.66245-0.75566-1.77947-0.44400.h5\n",
      "\n",
      "Epoch 00013: ReduceLROnPlateau reducing learning rate to 0.0002500000118743628.\n",
      "Epoch 14/30\n",
      "34/34 [==============================] - 60s 2s/step - loss: 0.5728 - categorical_accuracy: 0.8054 - val_loss: 0.6776 - val_categorical_accuracy: 0.7200\n",
      "\n",
      "Epoch 00014: saving model to model_init_2020-03-0216_07_15.482864/model-00014-0.57284-0.80543-0.67757-0.72000.h5\n",
      "Epoch 15/30\n",
      "34/34 [==============================] - 60s 2s/step - loss: 0.5520 - categorical_accuracy: 0.8054 - val_loss: 1.0834 - val_categorical_accuracy: 0.5640\n",
      "\n",
      "Epoch 00015: saving model to model_init_2020-03-0216_07_15.482864/model-00015-0.55198-0.80543-1.08343-0.56400.h5\n",
      "\n",
      "Epoch 00015: ReduceLROnPlateau reducing learning rate to 0.0001250000059371814.\n",
      "Epoch 16/30\n",
      "34/34 [==============================] - 58s 2s/step - loss: 0.4620 - categorical_accuracy: 0.8235 - val_loss: 0.5589 - val_categorical_accuracy: 0.7880\n",
      "\n",
      "Epoch 00016: saving model to model_init_2020-03-0216_07_15.482864/model-00016-0.46198-0.82353-0.55892-0.78800.h5\n",
      "Epoch 17/30\n",
      "34/34 [==============================] - 61s 2s/step - loss: 0.4823 - categorical_accuracy: 0.8258 - val_loss: 0.6112 - val_categorical_accuracy: 0.7520\n",
      "\n",
      "Epoch 00017: saving model to model_init_2020-03-0216_07_15.482864/model-00017-0.48233-0.82579-0.61124-0.75200.h5\n",
      "Epoch 18/30\n",
      "34/34 [==============================] - 58s 2s/step - loss: 0.4480 - categorical_accuracy: 0.8145 - val_loss: 0.6081 - val_categorical_accuracy: 0.7560\n",
      "\n",
      "Epoch 00018: saving model to model_init_2020-03-0216_07_15.482864/model-00018-0.44805-0.81448-0.60812-0.75600.h5\n",
      "\n",
      "Epoch 00018: ReduceLROnPlateau reducing learning rate to 6.25000029685907e-05.\n",
      "Epoch 19/30\n",
      "34/34 [==============================] - 61s 2s/step - loss: 0.3810 - categorical_accuracy: 0.8597 - val_loss: 0.5704 - val_categorical_accuracy: 0.7640\n",
      "\n",
      "Epoch 00019: saving model to model_init_2020-03-0216_07_15.482864/model-00019-0.38099-0.85973-0.57039-0.76400.h5\n",
      "Epoch 20/30\n",
      "34/34 [==============================] - 60s 2s/step - loss: 0.4077 - categorical_accuracy: 0.8303 - val_loss: 0.5376 - val_categorical_accuracy: 0.7880\n",
      "\n",
      "Epoch 00020: saving model to model_init_2020-03-0216_07_15.482864/model-00020-0.40772-0.83032-0.53763-0.78800.h5\n",
      "Epoch 21/30\n",
      "34/34 [==============================] - 61s 2s/step - loss: 0.3482 - categorical_accuracy: 0.8846 - val_loss: 0.5536 - val_categorical_accuracy: 0.7720\n",
      "\n",
      "Epoch 00021: saving model to model_init_2020-03-0216_07_15.482864/model-00021-0.34824-0.88462-0.55364-0.77200.h5\n",
      "Epoch 22/30\n",
      "34/34 [==============================] - 59s 2s/step - loss: 0.3626 - categorical_accuracy: 0.8643 - val_loss: 0.4833 - val_categorical_accuracy: 0.7760\n",
      "\n",
      "Epoch 00022: saving model to model_init_2020-03-0216_07_15.482864/model-00022-0.36263-0.86425-0.48335-0.77600.h5\n",
      "Epoch 23/30\n",
      "34/34 [==============================] - 59s 2s/step - loss: 0.3691 - categorical_accuracy: 0.8846 - val_loss: 0.5123 - val_categorical_accuracy: 0.8120\n",
      "\n",
      "Epoch 00023: saving model to model_init_2020-03-0216_07_15.482864/model-00023-0.36912-0.88462-0.51232-0.81200.h5\n",
      "Epoch 24/30\n",
      "34/34 [==============================] - 60s 2s/step - loss: 0.3473 - categorical_accuracy: 0.8665 - val_loss: 0.5109 - val_categorical_accuracy: 0.7880\n",
      "\n",
      "Epoch 00024: saving model to model_init_2020-03-0216_07_15.482864/model-00024-0.34735-0.86652-0.51095-0.78800.h5\n",
      "\n",
      "Epoch 00024: ReduceLROnPlateau reducing learning rate to 3.125000148429535e-05.\n",
      "Epoch 25/30\n",
      "34/34 [==============================] - 60s 2s/step - loss: 0.3431 - categorical_accuracy: 0.8688 - val_loss: 0.5284 - val_categorical_accuracy: 0.7760\n",
      "\n",
      "Epoch 00025: saving model to model_init_2020-03-0216_07_15.482864/model-00025-0.34310-0.86878-0.52841-0.77600.h5\n",
      "Epoch 26/30\n",
      "34/34 [==============================] - 61s 2s/step - loss: 0.3159 - categorical_accuracy: 0.8869 - val_loss: 0.4789 - val_categorical_accuracy: 0.8040\n",
      "\n",
      "Epoch 00026: saving model to model_init_2020-03-0216_07_15.482864/model-00026-0.31587-0.88688-0.47895-0.80400.h5\n",
      "Epoch 27/30\n",
      "34/34 [==============================] - 59s 2s/step - loss: 0.3407 - categorical_accuracy: 0.8643 - val_loss: 0.4863 - val_categorical_accuracy: 0.8200\n",
      "\n",
      "Epoch 00027: saving model to model_init_2020-03-0216_07_15.482864/model-00027-0.34069-0.86425-0.48633-0.82000.h5\n",
      "Epoch 28/30\n",
      "34/34 [==============================] - 61s 2s/step - loss: 0.3513 - categorical_accuracy: 0.8620 - val_loss: 0.4932 - val_categorical_accuracy: 0.8160\n",
      "\n",
      "Epoch 00028: saving model to model_init_2020-03-0216_07_15.482864/model-00028-0.35130-0.86199-0.49320-0.81600.h5\n",
      "\n",
      "Epoch 00028: ReduceLROnPlateau reducing learning rate to 1.5625000742147677e-05.\n",
      "Epoch 29/30\n"
     ]
    },
    {
     "name": "stdout",
     "output_type": "stream",
     "text": [
      "34/34 [==============================] - 60s 2s/step - loss: 0.2858 - categorical_accuracy: 0.8891 - val_loss: 0.4940 - val_categorical_accuracy: 0.8200\n",
      "\n",
      "Epoch 00029: saving model to model_init_2020-03-0216_07_15.482864/model-00029-0.28581-0.88914-0.49405-0.82000.h5\n",
      "Epoch 30/30\n",
      "34/34 [==============================] - 58s 2s/step - loss: 0.3135 - categorical_accuracy: 0.8756 - val_loss: 0.4836 - val_categorical_accuracy: 0.8160\n",
      "\n",
      "Epoch 00030: saving model to model_init_2020-03-0216_07_15.482864/model-00030-0.31351-0.87557-0.48357-0.81600.h5\n",
      "\n",
      "Epoch 00030: ReduceLROnPlateau reducing learning rate to 7.812500371073838e-06.\n"
     ]
    },
    {
     "data": {
      "text/plain": [
       "<keras.callbacks.History at 0x7fb58627e710>"
      ]
     },
     "execution_count": 68,
     "metadata": {},
     "output_type": "execute_result"
    }
   ],
   "source": [
    "model_h_history = model_h.fit_generator(train_generator, steps_per_epoch=steps_per_epoch, epochs=num_epochs, verbose=1, \n",
    "                    callbacks=callbacks_list, validation_data=val_generator, \n",
    "                    validation_steps=validation_steps, class_weight=None, workers=1, initial_epoch=0)\n",
    "model_h_history"
   ]
  },
  {
   "cell_type": "code",
   "execution_count": 69,
   "metadata": {},
   "outputs": [
    {
     "data": {
      "image/png": "[encoded data removed]",
      "text/plain": [
       "<Figure size 1080x288 with 2 Axes>"
      ]
     },
     "metadata": {},
     "output_type": "display_data"
    }
   ],
   "source": [
    "plot(model_h_history)"
   ]
  },
  {
   "cell_type": "markdown",
   "metadata": {},
   "source": [
    "#### Conclusion:\n",
    "* This model is the best one we got so far with train accuracy 91 and test accuracy 83. with total number of parameters used is .96 M, among the Conv 3d Models this looks as the best interms of accuracy as well as the size of the model. This one is our final model in 3d CNNs, now lets move on and try CNN_RNN"
   ]
  },
  {
   "cell_type": "markdown",
   "metadata": {},
   "source": [
    "## CNN-RNN Architecture"
   ]
  },
  {
   "cell_type": "code",
   "execution_count": 6,
   "metadata": {},
   "outputs": [],
   "source": [
    "image_height=120\n",
    "image_width=120\n",
    "channels=3\n",
    "num_classes=5\n",
    "total_frames=30\n",
    "frames_feed=30\n",
    "batch_size=50\n",
    "num_epochs=20\n",
    "skip = 1"
   ]
  },
  {
   "cell_type": "code",
   "execution_count": 7,
   "metadata": {},
   "outputs": [],
   "source": [
    "def generator(source_path, folder_list, augment = False):\n",
    "    img_idx = [num for num in range(0,total_frames, skip) ]#np.round(np.linspace(0, total_frames - 1, frames_to_sample)).astype(int)\n",
    "    #batch_size = batch_size\n",
    "    while True:\n",
    "        t = np.random.permutation(folder_list)\n",
    "        num_batches = len(t)//batch_size\n",
    "        \n",
    "        for batch in range(num_batches): \n",
    "            batch_data, batch_labels= single_batch(source_path, t, batch, batch_size, img_idx, augment)\n",
    "            yield batch_data, batch_labels \n",
    "\n",
    "        remaining_seq = len(t)%batch_size\n",
    "        \n",
    "        if (remaining_seq != 0):\n",
    "            batch_data, batch_labels = single_batch(source_path, t, num_batches, batch_size, img_idx, augment, remaining_seq)\n",
    "            yield batch_data, batch_labels"
   ]
  },
  {
   "cell_type": "code",
   "execution_count": 8,
   "metadata": {},
   "outputs": [],
   "source": [
    "def single_batch(source_path, t, batch, batch_size, img_idx, augment, remaining_seq = 0):\n",
    "    \n",
    "        len_seq = remaining_seq if remaining_seq else batch_size\n",
    "    \n",
    "        batch_data = np.zeros((len_seq, len(img_idx), image_height, image_width, channels)) \n",
    "        batch_labels = np.zeros((len_seq, num_classes)) \n",
    "    \n",
    "        if (augment): batch_aug = np.zeros((len_seq, len(img_idx), image_height, image_width, channels))\n",
    "        \n",
    "        for folder in range(len_seq): \n",
    "            pics = os.listdir(source_path+'/'+ t[folder + (batch*batch_size)].split(';')[0]) #imgs = pics\n",
    "            for idx,item in enumerate(img_idx): \n",
    "                image = imageio.imread(source_path+'/'+ t[folder + (batch*batch_size)].strip().split(';')[0]+'/'+pics[item]).astype(np.float32)\n",
    "                image_resized = imresize(image,(image_height, image_width, 3))\n",
    "            \n",
    "\n",
    "                batch_data[folder,idx,:,:,0] = (image_resized[:,:,0])/255\n",
    "                batch_data[folder,idx,:,:,1] = (image_resized[:,:,1])/255\n",
    "                batch_data[folder,idx,:,:,2] = (image_resized[:,:,2])/255\n",
    "            \n",
    "                if (augment):\n",
    "                    shifted = cv2.warpAffine(image, np.float32([[1, 0, np.random.randint(-30,30)],[0, 1, np.random.randint(-30,30)]]), \n",
    "                                            (image.shape[1], image.shape[0]))\n",
    "                    \n",
    "                    gray = cv2.cvtColor(shifted,cv2.COLOR_BGR2GRAY)\n",
    "\n",
    "                    x0, y0 = np.argwhere(gray > 0).min(axis=0)\n",
    "                    x1, y1 = np.argwhere(gray > 0).max(axis=0) \n",
    "                    \n",
    "                    cropped=shifted[x0:x1,y0:y1,:]\n",
    "                    \n",
    "                    image_resized=imresize(cropped,(image_height, image_width, 3))\n",
    "                    \n",
    "                    Im = cv2.getRotationMatrix2D((image_width//2, image_height//2), np.random.randint(-10,10), 1.0)\n",
    "                    rotated = cv2.warpAffine(image_resized, Im, (image_width, image_height))\n",
    "            \n",
    "                    batch_aug[folder,idx,:,:,0] = (rotated[:,:,0])/255\n",
    "                    batch_aug[folder,idx,:,:,1] = (rotated[:,:,1])/255\n",
    "                    batch_aug[folder,idx,:,:,2] = (rotated[:,:,2])/255\n",
    "                            \n",
    "            batch_labels[folder, int(t[folder + (batch*batch_size)].strip().split(';')[2])] = 1\n",
    "            \n",
    "        if (augment):\n",
    "            batch_data = np.concatenate([batch_data, batch_aug])\n",
    "            batch_labels = np.concatenate([batch_labels, batch_labels])\n",
    "\n",
    "        \n",
    "        return(batch_data,batch_labels)"
   ]
  },
  {
   "cell_type": "code",
   "execution_count": 9,
   "metadata": {},
   "outputs": [],
   "source": [
    "train_doc = np.random.permutation(open('/mnt/disks/user/project/PROJECT/Project_data/train.csv').readlines())\n",
    "val_doc = np.random.permutation(open('/mnt/disks/user/project/PROJECT/Project_data/val.csv').readlines())\n",
    "train_path = '/mnt/disks/user/project/PROJECT/Project_data' + '/' + 'train'\n",
    "val_path =  '/mnt/disks/user/project/PROJECT/Project_data' + '/' + 'val'\n",
    "num_train_seq = len(train_doc)#num_train_sequences = len(train_doc)\n",
    "num_val_seq = len(val_doc)"
   ]
  },
  {
   "cell_type": "markdown",
   "metadata": {},
   "source": [
    "### Base Model: Model-1_CNNRNN"
   ]
  },
  {
   "cell_type": "code",
   "execution_count": 10,
   "metadata": {},
   "outputs": [
    {
     "name": "stdout",
     "output_type": "stream",
     "text": [
      "_________________________________________________________________\n",
      "Layer (type)                 Output Shape              Param #   \n",
      "=================================================================\n",
      "time_distributed_1 (TimeDist (None, 30, 120, 120, 16)  448       \n",
      "_________________________________________________________________\n",
      "time_distributed_2 (TimeDist (None, 30, 120, 120, 16)  64        \n",
      "_________________________________________________________________\n",
      "time_distributed_3 (TimeDist (None, 30, 60, 60, 16)    0         \n",
      "_________________________________________________________________\n",
      "time_distributed_4 (TimeDist (None, 30, 60, 60, 32)    4640      \n",
      "_________________________________________________________________\n",
      "time_distributed_5 (TimeDist (None, 30, 60, 60, 32)    128       \n",
      "_________________________________________________________________\n",
      "time_distributed_6 (TimeDist (None, 30, 30, 30, 32)    0         \n",
      "_________________________________________________________________\n",
      "time_distributed_7 (TimeDist (None, 30, 30, 30, 64)    18496     \n",
      "_________________________________________________________________\n",
      "time_distributed_8 (TimeDist (None, 30, 30, 30, 64)    256       \n",
      "_________________________________________________________________\n",
      "time_distributed_9 (TimeDist (None, 30, 15, 15, 64)    0         \n",
      "_________________________________________________________________\n",
      "time_distributed_10 (TimeDis (None, 30, 15, 15, 128)   73856     \n",
      "_________________________________________________________________\n",
      "time_distributed_11 (TimeDis (None, 30, 15, 15, 128)   512       \n",
      "_________________________________________________________________\n",
      "time_distributed_12 (TimeDis (None, 30, 7, 7, 128)     0         \n",
      "_________________________________________________________________\n",
      "time_distributed_13 (TimeDis (None, 30, 7, 7, 256)     295168    \n",
      "_________________________________________________________________\n",
      "time_distributed_14 (TimeDis (None, 30, 7, 7, 256)     1024      \n",
      "_________________________________________________________________\n",
      "time_distributed_15 (TimeDis (None, 30, 3, 3, 256)     0         \n",
      "_________________________________________________________________\n",
      "time_distributed_16 (TimeDis (None, 30, 2304)          0         \n",
      "_________________________________________________________________\n",
      "lstm_1 (LSTM)                (None, 128)               1245696   \n",
      "_________________________________________________________________\n",
      "dropout_1 (Dropout)          (None, 128)               0         \n",
      "_________________________________________________________________\n",
      "dense_1 (Dense)              (None, 128)               16512     \n",
      "_________________________________________________________________\n",
      "dropout_2 (Dropout)          (None, 128)               0         \n",
      "_________________________________________________________________\n",
      "dense_2 (Dense)              (None, 5)                 645       \n",
      "=================================================================\n",
      "Total params: 1,657,445\n",
      "Trainable params: 1,656,453\n",
      "Non-trainable params: 992\n",
      "_________________________________________________________________\n",
      "None\n"
     ]
    }
   ],
   "source": [
    "image_height=120\n",
    "image_width=120\n",
    "channels=3\n",
    "num_classes=5\n",
    "total_frames=30\n",
    "frames_feed=30\n",
    "batch_size=50\n",
    "num_epochs=20\n",
    "skip = 1\n",
    "\n",
    "model_1_cnnrnn = Sequential()\n",
    "\n",
    "model_1_cnnrnn.add(TimeDistributed(Conv2D(16, (3, 3) , padding='same', activation='relu'), \n",
    "                          input_shape=(frames_feed, image_height, image_width, channels)))\n",
    "model_1_cnnrnn.add(TimeDistributed(BatchNormalization()))\n",
    "model_1_cnnrnn.add(TimeDistributed(MaxPooling2D((2, 2))))\n",
    "        \n",
    "model_1_cnnrnn.add(TimeDistributed(Conv2D(32, (3, 3) , padding='same', activation='relu')))\n",
    "model_1_cnnrnn.add(TimeDistributed(BatchNormalization()))\n",
    "model_1_cnnrnn.add(TimeDistributed(MaxPooling2D((2, 2))))\n",
    "        \n",
    "model_1_cnnrnn.add(TimeDistributed(Conv2D(64, (3, 3) , padding='same', activation='relu')))\n",
    "model_1_cnnrnn.add(TimeDistributed(BatchNormalization()))\n",
    "model_1_cnnrnn.add(TimeDistributed(MaxPooling2D((2, 2))))\n",
    "        \n",
    "model_1_cnnrnn.add(TimeDistributed(Conv2D(128, (3, 3) , padding='same', activation='relu')))\n",
    "model_1_cnnrnn.add(TimeDistributed(BatchNormalization()))\n",
    "model_1_cnnrnn.add(TimeDistributed(MaxPooling2D((2, 2))))\n",
    "        \n",
    "model_1_cnnrnn.add(TimeDistributed(Conv2D(256, (3, 3) , padding='same', activation='relu')))\n",
    "model_1_cnnrnn.add(TimeDistributed(BatchNormalization()))\n",
    "model_1_cnnrnn.add(TimeDistributed(MaxPooling2D((2, 2))))\n",
    "\n",
    "model_1_cnnrnn.add(TimeDistributed(Flatten()))\n",
    "\n",
    "model_1_cnnrnn.add(LSTM(128))\n",
    "model_1_cnnrnn.add(Dropout(0.25))\n",
    "        \n",
    "model_1_cnnrnn.add(Dense(128, activation='relu'))\n",
    "model_1_cnnrnn.add(Dropout(0.25))\n",
    "        \n",
    "model_1_cnnrnn.add(Dense(num_classes, activation='softmax'))\n",
    "\n",
    "optimiser = optimizers.Adam()\n",
    "model_1_cnnrnn.compile(optimizer=optimiser, loss='categorical_crossentropy', metrics=['categorical_accuracy'])\n",
    "\n",
    "print(model_1_cnnrnn.summary())"
   ]
  },
  {
   "cell_type": "code",
   "execution_count": 11,
   "metadata": {},
   "outputs": [],
   "source": [
    "train_generator = generator(train_path, train_doc, augment = False)\n",
    "val_generator = generator(val_path, val_doc)"
   ]
  },
  {
   "cell_type": "code",
   "execution_count": 12,
   "metadata": {},
   "outputs": [],
   "source": [
    "model_name = 'model_init' + '_' + str(datetime.datetime.now()).replace(' ','').replace(':','_') + '/'\n",
    "    \n",
    "if not os.path.exists(model_name):\n",
    "    os.mkdir(model_name)\n",
    "        \n",
    "filepath = model_name + 'model-{epoch:05d}-{loss:.5f}-{categorical_accuracy:.5f}-{val_loss:.5f}-{val_categorical_accuracy:.5f}.h5'"
   ]
  },
  {
   "cell_type": "code",
   "execution_count": 13,
   "metadata": {},
   "outputs": [],
   "source": [
    "checkpoint = ModelCheckpoint(filepath, monitor='val_loss', verbose=1, save_best_only=False, save_weights_only=False, mode='auto', period=1)\n",
    "LR = ReduceLROnPlateau(monitor='val_loss', factor=0.2, verbose=1, patience=4)\n",
    "callbacks_list = [checkpoint, LR]"
   ]
  },
  {
   "cell_type": "code",
   "execution_count": 14,
   "metadata": {},
   "outputs": [],
   "source": [
    "if (num_train_seq%batch_size) == 0:\n",
    "    steps_per_epoch = int(num_train_seq/batch_size)\n",
    "else:\n",
    "    steps_per_epoch = (num_train_seq//batch_size) + 1\n",
    "\n",
    "if (num_val_seq%batch_size) == 0:\n",
    "    validation_steps = int(num_val_seq/batch_size)\n",
    "else:\n",
    "    validation_steps = (num_val_seq//batch_size) + 1"
   ]
  },
  {
   "cell_type": "code",
   "execution_count": 15,
   "metadata": {},
   "outputs": [
    {
     "name": "stdout",
     "output_type": "stream",
     "text": [
      "Epoch 1/20\n"
     ]
    },
    {
     "name": "stderr",
     "output_type": "stream",
     "text": [
      "/mnt/disks/user/anaconda3/lib/python3.6/site-packages/ipykernel_launcher.py:14: DeprecationWarning: `imresize` is deprecated!\n",
      "`imresize` is deprecated in SciPy 1.0.0, and will be removed in 1.2.0.\n",
      "Use ``skimage.transform.resize`` instead.\n",
      "  \n"
     ]
    },
    {
     "name": "stdout",
     "output_type": "stream",
     "text": [
      "14/14 [==============================] - 242s 17s/step - loss: 1.5324 - categorical_accuracy: 0.3306 - val_loss: 1.5874 - val_categorical_accuracy: 0.3000\n",
      "\n",
      "Epoch 00001: saving model to model_init_2020-03-0214_05_09.358564/model-00001-1.52767-0.33183-1.58739-0.30000.h5\n",
      "Epoch 2/20\n",
      "14/14 [==============================] - 80s 6s/step - loss: 1.2885 - categorical_accuracy: 0.4529 - val_loss: 1.5683 - val_categorical_accuracy: 0.2600\n",
      "\n",
      "Epoch 00002: saving model to model_init_2020-03-0214_05_09.358564/model-00002-1.29309-0.45249-1.56825-0.26000.h5\n",
      "Epoch 3/20\n",
      "14/14 [==============================] - 82s 6s/step - loss: 1.1099 - categorical_accuracy: 0.5666 - val_loss: 1.5650 - val_categorical_accuracy: 0.3000\n",
      "\n",
      "Epoch 00003: saving model to model_init_2020-03-0214_05_09.358564/model-00003-1.12420-0.56410-1.56501-0.30000.h5\n",
      "Epoch 4/20\n",
      "14/14 [==============================] - 82s 6s/step - loss: 1.0442 - categorical_accuracy: 0.5820 - val_loss: 1.2149 - val_categorical_accuracy: 0.5500\n",
      "\n",
      "Epoch 00004: saving model to model_init_2020-03-0214_05_09.358564/model-00004-1.02189-0.58824-1.21494-0.55000.h5\n",
      "Epoch 5/20\n",
      "14/14 [==============================] - 83s 6s/step - loss: 0.9912 - categorical_accuracy: 0.5992 - val_loss: 1.3449 - val_categorical_accuracy: 0.4600\n",
      "\n",
      "Epoch 00005: saving model to model_init_2020-03-0214_05_09.358564/model-00005-0.98476-0.60633-1.34495-0.46000.h5\n",
      "Epoch 6/20\n",
      "14/14 [==============================] - 82s 6s/step - loss: 0.8627 - categorical_accuracy: 0.6540 - val_loss: 1.5682 - val_categorical_accuracy: 0.4500\n",
      "\n",
      "Epoch 00006: saving model to model_init_2020-03-0214_05_09.358564/model-00006-0.87491-0.64404-1.56822-0.45000.h5\n",
      "Epoch 7/20\n",
      "14/14 [==============================] - 83s 6s/step - loss: 0.7190 - categorical_accuracy: 0.7429 - val_loss: 1.7648 - val_categorical_accuracy: 0.3900\n",
      "\n",
      "Epoch 00007: saving model to model_init_2020-03-0214_05_09.358564/model-00007-0.72723-0.73756-1.76485-0.39000.h5\n",
      "Epoch 8/20\n",
      "14/14 [==============================] - 82s 6s/step - loss: 0.6509 - categorical_accuracy: 0.7540 - val_loss: 1.6781 - val_categorical_accuracy: 0.4600\n",
      "\n",
      "Epoch 00008: saving model to model_init_2020-03-0214_05_09.358564/model-00008-0.64682-0.75716-1.67810-0.46000.h5\n",
      "\n",
      "Epoch 00008: ReduceLROnPlateau reducing learning rate to 0.00020000000949949026.\n",
      "Epoch 9/20\n",
      "14/14 [==============================] - 82s 6s/step - loss: 0.5711 - categorical_accuracy: 0.7965 - val_loss: 1.2599 - val_categorical_accuracy: 0.5700\n",
      "\n",
      "Epoch 00009: saving model to model_init_2020-03-0214_05_09.358564/model-00009-0.56692-0.79789-1.25991-0.57000.h5\n",
      "Epoch 10/20\n",
      "14/14 [==============================] - 82s 6s/step - loss: 0.5354 - categorical_accuracy: 0.8079 - val_loss: 1.0584 - val_categorical_accuracy: 0.5900\n",
      "\n",
      "Epoch 00010: saving model to model_init_2020-03-0214_05_09.358564/model-00010-0.52800-0.80995-1.05844-0.59000.h5\n",
      "Epoch 11/20\n",
      "14/14 [==============================] - 82s 6s/step - loss: 0.4452 - categorical_accuracy: 0.8442 - val_loss: 0.8824 - val_categorical_accuracy: 0.6900\n",
      "\n",
      "Epoch 00011: saving model to model_init_2020-03-0214_05_09.358564/model-00011-0.45198-0.84012-0.88242-0.69000.h5\n",
      "Epoch 12/20\n",
      "14/14 [==============================] - 82s 6s/step - loss: 0.4052 - categorical_accuracy: 0.8615 - val_loss: 0.7507 - val_categorical_accuracy: 0.7200\n",
      "\n",
      "Epoch 00012: saving model to model_init_2020-03-0214_05_09.358564/model-00012-0.39544-0.87029-0.75072-0.72000.h5\n",
      "Epoch 13/20\n",
      "14/14 [==============================] - 83s 6s/step - loss: 0.4113 - categorical_accuracy: 0.8606 - val_loss: 0.7973 - val_categorical_accuracy: 0.7000\n",
      "\n",
      "Epoch 00013: saving model to model_init_2020-03-0214_05_09.358564/model-00013-0.37702-0.87330-0.79732-0.70000.h5\n",
      "Epoch 14/20\n",
      "14/14 [==============================] - 82s 6s/step - loss: 0.3161 - categorical_accuracy: 0.9044 - val_loss: 0.7402 - val_categorical_accuracy: 0.6600\n",
      "\n",
      "Epoch 00014: saving model to model_init_2020-03-0214_05_09.358564/model-00014-0.31945-0.90347-0.74021-0.66000.h5\n",
      "Epoch 15/20\n",
      "14/14 [==============================] - 83s 6s/step - loss: 0.3029 - categorical_accuracy: 0.9164 - val_loss: 0.7293 - val_categorical_accuracy: 0.7000\n",
      "\n",
      "Epoch 00015: saving model to model_init_2020-03-0214_05_09.358564/model-00015-0.29470-0.92006-0.72935-0.70000.h5\n",
      "Epoch 16/20\n",
      "14/14 [==============================] - 82s 6s/step - loss: 0.2471 - categorical_accuracy: 0.9340 - val_loss: 0.7623 - val_categorical_accuracy: 0.6600\n",
      "\n",
      "Epoch 00016: saving model to model_init_2020-03-0214_05_09.358564/model-00016-0.25217-0.93062-0.76231-0.66000.h5\n",
      "Epoch 17/20\n",
      "14/14 [==============================] - 83s 6s/step - loss: 0.2464 - categorical_accuracy: 0.9269 - val_loss: 0.7652 - val_categorical_accuracy: 0.6800\n",
      "\n",
      "Epoch 00017: saving model to model_init_2020-03-0214_05_09.358564/model-00017-0.25237-0.92308-0.76516-0.68000.h5\n",
      "Epoch 18/20\n",
      "14/14 [==============================] - 82s 6s/step - loss: 0.2351 - categorical_accuracy: 0.9270 - val_loss: 0.7470 - val_categorical_accuracy: 0.7000\n",
      "\n",
      "Epoch 00018: saving model to model_init_2020-03-0214_05_09.358564/model-00018-0.21999-0.93514-0.74704-0.70000.h5\n",
      "Epoch 19/20\n",
      "14/14 [==============================] - 82s 6s/step - loss: 0.1752 - categorical_accuracy: 0.9555 - val_loss: 0.8433 - val_categorical_accuracy: 0.6900\n",
      "\n",
      "Epoch 00019: saving model to model_init_2020-03-0214_05_09.358564/model-00019-0.17903-0.95324-0.84329-0.69000.h5\n",
      "\n",
      "Epoch 00019: ReduceLROnPlateau reducing learning rate to 4.0000001899898055e-05.\n",
      "Epoch 20/20\n",
      "14/14 [==============================] - 82s 6s/step - loss: 0.1767 - categorical_accuracy: 0.9599 - val_loss: 0.8479 - val_categorical_accuracy: 0.6900\n",
      "\n",
      "Epoch 00020: saving model to model_init_2020-03-0214_05_09.358564/model-00020-0.17973-0.95777-0.84790-0.69000.h5\n"
     ]
    },
    {
     "data": {
      "text/plain": [
       "<keras.callbacks.History at 0x7fb612e65358>"
      ]
     },
     "execution_count": 15,
     "metadata": {},
     "output_type": "execute_result"
    }
   ],
   "source": [
    "num_epochs=20\n",
    "model_1_cnnrnn_history = model_1_cnnrnn.fit_generator(train_generator, steps_per_epoch=steps_per_epoch, epochs=num_epochs, verbose=1, \n",
    "                      callbacks=callbacks_list, validation_data=val_generator, validation_steps=validation_steps, \n",
    "                      class_weight=None, workers=1, initial_epoch=0)\n",
    "model_1_cnnrnn_history"
   ]
  },
  {
   "cell_type": "code",
   "execution_count": 16,
   "metadata": {},
   "outputs": [
    {
     "data": {
      "image/png": "[encoded data removed]",
      "text/plain": [
       "<Figure size 1080x288 with 2 Axes>"
      ]
     },
     "metadata": {},
     "output_type": "display_data"
    }
   ],
   "source": [
    "plot(model_1_cnnrnn_history)"
   ]
  },
  {
   "cell_type": "markdown",
   "metadata": {},
   "source": [
    "#### Conclusion:\n",
    "* Takes longer time (in the next model 15 images are fed to reduce time)\n",
    "* Val_accuracy is much lower than than the training accuracy"
   ]
  },
  {
   "cell_type": "markdown",
   "metadata": {},
   "source": [
    "#### Model-2_CNNRNN\n",
    "Feeding 15 imges, otherwise same as Model-1_CNNRNN"
   ]
  },
  {
   "cell_type": "code",
   "execution_count": 17,
   "metadata": {},
   "outputs": [
    {
     "name": "stdout",
     "output_type": "stream",
     "text": [
      "_________________________________________________________________\n",
      "Layer (type)                 Output Shape              Param #   \n",
      "=================================================================\n",
      "time_distributed_17 (TimeDis (None, 15, 120, 120, 16)  448       \n",
      "_________________________________________________________________\n",
      "time_distributed_18 (TimeDis (None, 15, 120, 120, 16)  64        \n",
      "_________________________________________________________________\n",
      "time_distributed_19 (TimeDis (None, 15, 60, 60, 16)    0         \n",
      "_________________________________________________________________\n",
      "time_distributed_20 (TimeDis (None, 15, 60, 60, 32)    4640      \n",
      "_________________________________________________________________\n",
      "time_distributed_21 (TimeDis (None, 15, 60, 60, 32)    128       \n",
      "_________________________________________________________________\n",
      "time_distributed_22 (TimeDis (None, 15, 30, 30, 32)    0         \n",
      "_________________________________________________________________\n",
      "time_distributed_23 (TimeDis (None, 15, 30, 30, 64)    18496     \n",
      "_________________________________________________________________\n",
      "time_distributed_24 (TimeDis (None, 15, 30, 30, 64)    256       \n",
      "_________________________________________________________________\n",
      "time_distributed_25 (TimeDis (None, 15, 15, 15, 64)    0         \n",
      "_________________________________________________________________\n",
      "time_distributed_26 (TimeDis (None, 15, 15, 15, 128)   73856     \n",
      "_________________________________________________________________\n",
      "time_distributed_27 (TimeDis (None, 15, 15, 15, 128)   512       \n",
      "_________________________________________________________________\n",
      "time_distributed_28 (TimeDis (None, 15, 7, 7, 128)     0         \n",
      "_________________________________________________________________\n",
      "time_distributed_29 (TimeDis (None, 15, 7, 7, 256)     295168    \n",
      "_________________________________________________________________\n",
      "time_distributed_30 (TimeDis (None, 15, 7, 7, 256)     1024      \n",
      "_________________________________________________________________\n",
      "time_distributed_31 (TimeDis (None, 15, 3, 3, 256)     0         \n",
      "_________________________________________________________________\n",
      "time_distributed_32 (TimeDis (None, 15, 2304)          0         \n",
      "_________________________________________________________________\n",
      "lstm_2 (LSTM)                (None, 128)               1245696   \n",
      "_________________________________________________________________\n",
      "dropout_3 (Dropout)          (None, 128)               0         \n",
      "_________________________________________________________________\n",
      "dense_3 (Dense)              (None, 128)               16512     \n",
      "_________________________________________________________________\n",
      "dropout_4 (Dropout)          (None, 128)               0         \n",
      "_________________________________________________________________\n",
      "dense_4 (Dense)              (None, 5)                 645       \n",
      "=================================================================\n",
      "Total params: 1,657,445\n",
      "Trainable params: 1,656,453\n",
      "Non-trainable params: 992\n",
      "_________________________________________________________________\n",
      "None\n"
     ]
    }
   ],
   "source": [
    "image_height=120\n",
    "image_width=120\n",
    "channels=3\n",
    "num_classes=5\n",
    "total_frames=30\n",
    "frames_feed=15\n",
    "batch_size=50\n",
    "num_epochs=20\n",
    "skip = 2\n",
    "\n",
    "model_2_cnnrnn = Sequential()\n",
    "\n",
    "model_2_cnnrnn.add(TimeDistributed(Conv2D(16, (3, 3) , padding='same', activation='relu'), \n",
    "                          input_shape=(frames_feed, image_height, image_width, channels)))\n",
    "model_2_cnnrnn.add(TimeDistributed(BatchNormalization()))\n",
    "model_2_cnnrnn.add(TimeDistributed(MaxPooling2D((2, 2))))\n",
    "        \n",
    "model_2_cnnrnn.add(TimeDistributed(Conv2D(32, (3, 3) , padding='same', activation='relu')))\n",
    "model_2_cnnrnn.add(TimeDistributed(BatchNormalization()))\n",
    "model_2_cnnrnn.add(TimeDistributed(MaxPooling2D((2, 2))))\n",
    "        \n",
    "model_2_cnnrnn.add(TimeDistributed(Conv2D(64, (3, 3) , padding='same', activation='relu')))\n",
    "model_2_cnnrnn.add(TimeDistributed(BatchNormalization()))\n",
    "model_2_cnnrnn.add(TimeDistributed(MaxPooling2D((2, 2))))\n",
    "        \n",
    "model_2_cnnrnn.add(TimeDistributed(Conv2D(128, (3, 3) , padding='same', activation='relu')))\n",
    "model_2_cnnrnn.add(TimeDistributed(BatchNormalization()))\n",
    "model_2_cnnrnn.add(TimeDistributed(MaxPooling2D((2, 2))))\n",
    "        \n",
    "model_2_cnnrnn.add(TimeDistributed(Conv2D(256, (3, 3) , padding='same', activation='relu')))\n",
    "model_2_cnnrnn.add(TimeDistributed(BatchNormalization()))\n",
    "model_2_cnnrnn.add(TimeDistributed(MaxPooling2D((2, 2))))\n",
    "\n",
    "model_2_cnnrnn.add(TimeDistributed(Flatten()))\n",
    "\n",
    "model_2_cnnrnn.add(LSTM(128))\n",
    "model_2_cnnrnn.add(Dropout(0.25))\n",
    "        \n",
    "model_2_cnnrnn.add(Dense(128, activation='relu'))\n",
    "model_2_cnnrnn.add(Dropout(0.25))\n",
    "        \n",
    "model_2_cnnrnn.add(Dense(num_classes, activation='softmax'))\n",
    "\n",
    "optimiser = optimizers.Adam()\n",
    "model_2_cnnrnn.compile(optimizer=optimiser, loss='categorical_crossentropy', metrics=['categorical_accuracy'])\n",
    "\n",
    "print(model_2_cnnrnn.summary())"
   ]
  },
  {
   "cell_type": "code",
   "execution_count": 18,
   "metadata": {},
   "outputs": [],
   "source": [
    "train_generator = generator(train_path, train_doc, augment = False)\n",
    "val_generator = generator(val_path, val_doc)"
   ]
  },
  {
   "cell_type": "code",
   "execution_count": 19,
   "metadata": {},
   "outputs": [],
   "source": [
    "model_name = 'model_init' + '_' + str(datetime.datetime.now()).replace(' ','').replace(':','_') + '/'\n",
    "    \n",
    "if not os.path.exists(model_name):\n",
    "    os.mkdir(model_name)\n",
    "        \n",
    "filepath = model_name + 'model-{epoch:05d}-{loss:.5f}-{categorical_accuracy:.5f}-{val_loss:.5f}-{val_categorical_accuracy:.5f}.h5'"
   ]
  },
  {
   "cell_type": "code",
   "execution_count": 20,
   "metadata": {},
   "outputs": [],
   "source": [
    "checkpoint = ModelCheckpoint(filepath, monitor='val_loss', verbose=1, save_best_only=False, save_weights_only=False, mode='auto', period=1)\n",
    "LR = ReduceLROnPlateau(monitor='val_loss', factor=0.2, verbose=1, patience=4)\n",
    "callbacks_list = [checkpoint, LR]"
   ]
  },
  {
   "cell_type": "code",
   "execution_count": 21,
   "metadata": {},
   "outputs": [],
   "source": [
    "if (num_train_seq%batch_size) == 0:\n",
    "    steps_per_epoch = int(num_train_seq/batch_size)\n",
    "else:\n",
    "    steps_per_epoch = (num_train_seq//batch_size) + 1\n",
    "\n",
    "if (num_val_seq%batch_size) == 0:\n",
    "    validation_steps = int(num_val_seq/batch_size)\n",
    "else:\n",
    "    validation_steps = (num_val_seq//batch_size) + 1"
   ]
  },
  {
   "cell_type": "code",
   "execution_count": 22,
   "metadata": {},
   "outputs": [
    {
     "name": "stdout",
     "output_type": "stream",
     "text": [
      "Epoch 1/20\n"
     ]
    },
    {
     "name": "stderr",
     "output_type": "stream",
     "text": [
      "/mnt/disks/user/anaconda3/lib/python3.6/site-packages/ipykernel_launcher.py:14: DeprecationWarning: `imresize` is deprecated!\n",
      "`imresize` is deprecated in SciPy 1.0.0, and will be removed in 1.2.0.\n",
      "Use ``skimage.transform.resize`` instead.\n",
      "  \n"
     ]
    },
    {
     "name": "stdout",
     "output_type": "stream",
     "text": [
      "14/14 [==============================] - 51s 4s/step - loss: 1.5493 - categorical_accuracy: 0.2810 - val_loss: 1.3621 - val_categorical_accuracy: 0.4400\n",
      "\n",
      "Epoch 00001: saving model to model_init_2020-03-0214_35_23.303595/model-00001-1.54211-0.28356-1.36209-0.44000.h5\n",
      "Epoch 2/20\n",
      "14/14 [==============================] - 39s 3s/step - loss: 1.2741 - categorical_accuracy: 0.4634 - val_loss: 1.5921 - val_categorical_accuracy: 0.2700\n",
      "\n",
      "Epoch 00002: saving model to model_init_2020-03-0214_35_23.303595/model-00002-1.27686-0.45551-1.59206-0.27000.h5\n",
      "Epoch 3/20\n",
      "14/14 [==============================] - 42s 3s/step - loss: 1.1308 - categorical_accuracy: 0.5404 - val_loss: 1.2070 - val_categorical_accuracy: 0.5000\n",
      "\n",
      "Epoch 00003: saving model to model_init_2020-03-0214_35_23.303595/model-00003-1.12354-0.54449-1.20697-0.50000.h5\n",
      "Epoch 4/20\n",
      "14/14 [==============================] - 41s 3s/step - loss: 0.9860 - categorical_accuracy: 0.6068 - val_loss: 1.1257 - val_categorical_accuracy: 0.5800\n",
      "\n",
      "Epoch 00004: saving model to model_init_2020-03-0214_35_23.303595/model-00004-0.98655-0.60633-1.12567-0.58000.h5\n",
      "Epoch 5/20\n",
      "14/14 [==============================] - 41s 3s/step - loss: 0.8617 - categorical_accuracy: 0.6870 - val_loss: 1.0076 - val_categorical_accuracy: 0.6200\n",
      "\n",
      "Epoch 00005: saving model to model_init_2020-03-0214_35_23.303595/model-00005-0.87105-0.67873-1.00761-0.62000.h5\n",
      "Epoch 6/20\n",
      "14/14 [==============================] - 41s 3s/step - loss: 0.7483 - categorical_accuracy: 0.7305 - val_loss: 0.9385 - val_categorical_accuracy: 0.6700\n",
      "\n",
      "Epoch 00006: saving model to model_init_2020-03-0214_35_23.303595/model-00006-0.75127-0.72851-0.93845-0.67000.h5\n",
      "Epoch 7/20\n",
      "14/14 [==============================] - 41s 3s/step - loss: 0.5757 - categorical_accuracy: 0.8132 - val_loss: 1.9454 - val_categorical_accuracy: 0.4000\n",
      "\n",
      "Epoch 00007: saving model to model_init_2020-03-0214_35_23.303595/model-00007-0.57333-0.81146-1.94541-0.40000.h5\n",
      "Epoch 8/20\n",
      "14/14 [==============================] - 41s 3s/step - loss: 0.6138 - categorical_accuracy: 0.7669 - val_loss: 2.8237 - val_categorical_accuracy: 0.3100\n",
      "\n",
      "Epoch 00008: saving model to model_init_2020-03-0214_35_23.303595/model-00008-0.60184-0.77074-2.82368-0.31000.h5\n",
      "Epoch 9/20\n",
      "14/14 [==============================] - 41s 3s/step - loss: 0.5331 - categorical_accuracy: 0.7912 - val_loss: 1.1545 - val_categorical_accuracy: 0.5800\n",
      "\n",
      "Epoch 00009: saving model to model_init_2020-03-0214_35_23.303595/model-00009-0.52056-0.79638-1.15450-0.58000.h5\n",
      "Epoch 10/20\n",
      "14/14 [==============================] - 41s 3s/step - loss: 0.4728 - categorical_accuracy: 0.8433 - val_loss: 1.1249 - val_categorical_accuracy: 0.6000\n",
      "\n",
      "Epoch 00010: saving model to model_init_2020-03-0214_35_23.303595/model-00010-0.46329-0.84314-1.12492-0.60000.h5\n",
      "\n",
      "Epoch 00010: ReduceLROnPlateau reducing learning rate to 0.00020000000949949026.\n",
      "Epoch 11/20\n",
      "14/14 [==============================] - 41s 3s/step - loss: 0.3130 - categorical_accuracy: 0.9049 - val_loss: 1.0725 - val_categorical_accuracy: 0.6000\n",
      "\n",
      "Epoch 00011: saving model to model_init_2020-03-0214_35_23.303595/model-00011-0.30278-0.90799-1.07250-0.60000.h5\n",
      "Epoch 12/20\n",
      "14/14 [==============================] - 41s 3s/step - loss: 0.2423 - categorical_accuracy: 0.9326 - val_loss: 1.0188 - val_categorical_accuracy: 0.6400\n",
      "\n",
      "Epoch 00012: saving model to model_init_2020-03-0214_35_23.303595/model-00012-0.24516-0.92911-1.01876-0.64000.h5\n",
      "Epoch 13/20\n",
      "14/14 [==============================] - 41s 3s/step - loss: 0.1886 - categorical_accuracy: 0.9690 - val_loss: 0.9747 - val_categorical_accuracy: 0.6600\n",
      "\n",
      "Epoch 00013: saving model to model_init_2020-03-0214_35_23.303595/model-00013-0.18589-0.97134-0.97469-0.66000.h5\n",
      "Epoch 14/20\n",
      "14/14 [==============================] - 41s 3s/step - loss: 0.1505 - categorical_accuracy: 0.9713 - val_loss: 1.0309 - val_categorical_accuracy: 0.7000\n",
      "\n",
      "Epoch 00014: saving model to model_init_2020-03-0214_35_23.303595/model-00014-0.15311-0.96983-1.03088-0.70000.h5\n",
      "\n",
      "Epoch 00014: ReduceLROnPlateau reducing learning rate to 4.0000001899898055e-05.\n",
      "Epoch 15/20\n",
      "14/14 [==============================] - 41s 3s/step - loss: 0.1348 - categorical_accuracy: 0.9799 - val_loss: 0.9031 - val_categorical_accuracy: 0.7100\n",
      "\n",
      "Epoch 00015: saving model to model_init_2020-03-0214_35_23.303595/model-00015-0.13269-0.97888-0.90313-0.71000.h5\n",
      "Epoch 16/20\n",
      "14/14 [==============================] - 41s 3s/step - loss: 0.1246 - categorical_accuracy: 0.9761 - val_loss: 0.8430 - val_categorical_accuracy: 0.7200\n",
      "\n",
      "Epoch 00016: saving model to model_init_2020-03-0214_35_23.303595/model-00016-0.12222-0.97888-0.84300-0.72000.h5\n",
      "Epoch 17/20\n",
      "14/14 [==============================] - 41s 3s/step - loss: 0.1131 - categorical_accuracy: 0.9785 - val_loss: 0.8063 - val_categorical_accuracy: 0.7100\n",
      "\n",
      "Epoch 00017: saving model to model_init_2020-03-0214_35_23.303595/model-00017-0.11310-0.97738-0.80634-0.71000.h5\n",
      "Epoch 18/20\n",
      "14/14 [==============================] - 41s 3s/step - loss: 0.1204 - categorical_accuracy: 0.9795 - val_loss: 0.7819 - val_categorical_accuracy: 0.7200\n",
      "\n",
      "Epoch 00018: saving model to model_init_2020-03-0214_35_23.303595/model-00018-0.11065-0.98643-0.78187-0.72000.h5\n",
      "Epoch 19/20\n",
      "14/14 [==============================] - 41s 3s/step - loss: 0.1127 - categorical_accuracy: 0.9785 - val_loss: 0.7183 - val_categorical_accuracy: 0.7300\n",
      "\n",
      "Epoch 00019: saving model to model_init_2020-03-0214_35_23.303595/model-00019-0.11436-0.97738-0.71831-0.73000.h5\n",
      "Epoch 20/20\n",
      "14/14 [==============================] - 41s 3s/step - loss: 0.1000 - categorical_accuracy: 0.9914 - val_loss: 0.6949 - val_categorical_accuracy: 0.7500\n",
      "\n",
      "Epoch 00020: saving model to model_init_2020-03-0214_35_23.303595/model-00020-0.10199-0.99095-0.69489-0.75000.h5\n"
     ]
    },
    {
     "data": {
      "text/plain": [
       "<keras.callbacks.History at 0x7fb5a043f160>"
      ]
     },
     "execution_count": 22,
     "metadata": {},
     "output_type": "execute_result"
    }
   ],
   "source": [
    "num_epochs=20\n",
    "model_2_cnnrnn_history = model_2_cnnrnn.fit_generator(train_generator, steps_per_epoch=steps_per_epoch, epochs=num_epochs, verbose=1, \n",
    "                      callbacks=callbacks_list, validation_data=val_generator, validation_steps=validation_steps, \n",
    "                      class_weight=None, workers=1, initial_epoch=0)\n",
    "model_2_cnnrnn_history"
   ]
  },
  {
   "cell_type": "code",
   "execution_count": 23,
   "metadata": {},
   "outputs": [
    {
     "data": {
      "image/png": "[encoded data removed]",
      "text/plain": [
       "<Figure size 1080x288 with 2 Axes>"
      ]
     },
     "metadata": {},
     "output_type": "display_data"
    }
   ],
   "source": [
    "plot(model_2_cnnrnn_history)"
   ]
  },
  {
   "cell_type": "markdown",
   "metadata": {},
   "source": [
    "#### Conclusion:\n",
    "Training accuracy has gone up to 0.98 but validation accuracy is only 0.73. Looks like the model suffers from overfitting. We need much simpler model. Let's try GRU, instead of LSTM"
   ]
  },
  {
   "cell_type": "markdown",
   "metadata": {},
   "source": [
    "#### Model-3_CNNRNN\n",
    "With GRU, otherwise like Model-2_CNNRNN"
   ]
  },
  {
   "cell_type": "code",
   "execution_count": 24,
   "metadata": {},
   "outputs": [
    {
     "name": "stdout",
     "output_type": "stream",
     "text": [
      "_________________________________________________________________\n",
      "Layer (type)                 Output Shape              Param #   \n",
      "=================================================================\n",
      "time_distributed_33 (TimeDis (None, 15, 120, 120, 16)  448       \n",
      "_________________________________________________________________\n",
      "time_distributed_34 (TimeDis (None, 15, 120, 120, 16)  64        \n",
      "_________________________________________________________________\n",
      "time_distributed_35 (TimeDis (None, 15, 60, 60, 16)    0         \n",
      "_________________________________________________________________\n",
      "time_distributed_36 (TimeDis (None, 15, 60, 60, 32)    4640      \n",
      "_________________________________________________________________\n",
      "time_distributed_37 (TimeDis (None, 15, 60, 60, 32)    128       \n",
      "_________________________________________________________________\n",
      "time_distributed_38 (TimeDis (None, 15, 30, 30, 32)    0         \n",
      "_________________________________________________________________\n",
      "time_distributed_39 (TimeDis (None, 15, 30, 30, 64)    18496     \n",
      "_________________________________________________________________\n",
      "time_distributed_40 (TimeDis (None, 15, 30, 30, 64)    256       \n",
      "_________________________________________________________________\n",
      "time_distributed_41 (TimeDis (None, 15, 15, 15, 64)    0         \n",
      "_________________________________________________________________\n",
      "time_distributed_42 (TimeDis (None, 15, 15, 15, 128)   73856     \n",
      "_________________________________________________________________\n",
      "time_distributed_43 (TimeDis (None, 15, 15, 15, 128)   512       \n",
      "_________________________________________________________________\n",
      "time_distributed_44 (TimeDis (None, 15, 7, 7, 128)     0         \n",
      "_________________________________________________________________\n",
      "time_distributed_45 (TimeDis (None, 15, 7, 7, 256)     295168    \n",
      "_________________________________________________________________\n",
      "time_distributed_46 (TimeDis (None, 15, 7, 7, 256)     1024      \n",
      "_________________________________________________________________\n",
      "time_distributed_47 (TimeDis (None, 15, 3, 3, 256)     0         \n",
      "_________________________________________________________________\n",
      "time_distributed_48 (TimeDis (None, 15, 2304)          0         \n",
      "_________________________________________________________________\n",
      "gru_1 (GRU)                  (None, 128)               934272    \n",
      "_________________________________________________________________\n",
      "dropout_5 (Dropout)          (None, 128)               0         \n",
      "_________________________________________________________________\n",
      "dense_5 (Dense)              (None, 128)               16512     \n",
      "_________________________________________________________________\n",
      "dropout_6 (Dropout)          (None, 128)               0         \n",
      "_________________________________________________________________\n",
      "dense_6 (Dense)              (None, 5)                 645       \n",
      "=================================================================\n",
      "Total params: 1,346,021\n",
      "Trainable params: 1,345,029\n",
      "Non-trainable params: 992\n",
      "_________________________________________________________________\n",
      "None\n"
     ]
    }
   ],
   "source": [
    "image_height=120\n",
    "image_width=120\n",
    "channels=3\n",
    "num_classes=5\n",
    "total_frames=30\n",
    "frames_feed=15\n",
    "batch_size=50\n",
    "num_epochs=20\n",
    "skip = 2\n",
    "\n",
    "model_3_cnnrnn = Sequential()\n",
    "\n",
    "model_3_cnnrnn.add(TimeDistributed(Conv2D(16, (3, 3) , padding='same', activation='relu'), \n",
    "                          input_shape=(frames_feed, image_height, image_width, channels)))\n",
    "model_3_cnnrnn.add(TimeDistributed(BatchNormalization()))\n",
    "model_3_cnnrnn.add(TimeDistributed(MaxPooling2D((2, 2))))\n",
    "        \n",
    "model_3_cnnrnn.add(TimeDistributed(Conv2D(32, (3, 3) , padding='same', activation='relu')))\n",
    "model_3_cnnrnn.add(TimeDistributed(BatchNormalization()))\n",
    "model_3_cnnrnn.add(TimeDistributed(MaxPooling2D((2, 2))))\n",
    "        \n",
    "model_3_cnnrnn.add(TimeDistributed(Conv2D(64, (3, 3) , padding='same', activation='relu')))\n",
    "model_3_cnnrnn.add(TimeDistributed(BatchNormalization()))\n",
    "model_3_cnnrnn.add(TimeDistributed(MaxPooling2D((2, 2))))\n",
    "        \n",
    "model_3_cnnrnn.add(TimeDistributed(Conv2D(128, (3, 3) , padding='same', activation='relu')))\n",
    "model_3_cnnrnn.add(TimeDistributed(BatchNormalization()))\n",
    "model_3_cnnrnn.add(TimeDistributed(MaxPooling2D((2, 2))))\n",
    "        \n",
    "model_3_cnnrnn.add(TimeDistributed(Conv2D(256, (3, 3) , padding='same', activation='relu')))\n",
    "model_3_cnnrnn.add(TimeDistributed(BatchNormalization()))\n",
    "model_3_cnnrnn.add(TimeDistributed(MaxPooling2D((2, 2))))\n",
    "\n",
    "model_3_cnnrnn.add(TimeDistributed(Flatten()))\n",
    "\n",
    "model_3_cnnrnn.add(GRU(128))\n",
    "model_3_cnnrnn.add(Dropout(0.25))\n",
    "        \n",
    "model_3_cnnrnn.add(Dense(128, activation='relu'))\n",
    "model_3_cnnrnn.add(Dropout(0.25))\n",
    "        \n",
    "model_3_cnnrnn.add(Dense(num_classes, activation='softmax'))\n",
    "\n",
    "optimiser = optimizers.Adam()\n",
    "model_3_cnnrnn.compile(optimizer=optimiser, loss='categorical_crossentropy', metrics=['categorical_accuracy'])\n",
    "\n",
    "print(model_3_cnnrnn.summary())"
   ]
  },
  {
   "cell_type": "code",
   "execution_count": 25,
   "metadata": {},
   "outputs": [],
   "source": [
    "train_generator = generator(train_path, train_doc, augment = False)\n",
    "val_generator = generator(val_path, val_doc)"
   ]
  },
  {
   "cell_type": "code",
   "execution_count": 26,
   "metadata": {},
   "outputs": [],
   "source": [
    "model_name = 'model_init' + '_' + str(datetime.datetime.now()).replace(' ','').replace(':','_') + '/'\n",
    "    \n",
    "if not os.path.exists(model_name):\n",
    "    os.mkdir(model_name)\n",
    "        \n",
    "filepath = model_name + 'model-{epoch:05d}-{loss:.5f}-{categorical_accuracy:.5f}-{val_loss:.5f}-{val_categorical_accuracy:.5f}.h5'"
   ]
  },
  {
   "cell_type": "code",
   "execution_count": 27,
   "metadata": {},
   "outputs": [],
   "source": [
    "checkpoint = ModelCheckpoint(filepath, monitor='val_loss', verbose=1, save_best_only=False, save_weights_only=False, mode='auto', period=1)\n",
    "LR = ReduceLROnPlateau(monitor='val_loss', factor=0.2, verbose=1, patience=4)\n",
    "callbacks_list = [checkpoint, LR]"
   ]
  },
  {
   "cell_type": "code",
   "execution_count": 28,
   "metadata": {},
   "outputs": [],
   "source": [
    "if (num_train_seq%batch_size) == 0:\n",
    "    steps_per_epoch = int(num_train_seq/batch_size)\n",
    "else:\n",
    "    steps_per_epoch = (num_train_seq//batch_size) + 1\n",
    "\n",
    "if (num_val_seq%batch_size) == 0:\n",
    "    validation_steps = int(num_val_seq/batch_size)\n",
    "else:\n",
    "    validation_steps = (num_val_seq//batch_size) + 1"
   ]
  },
  {
   "cell_type": "code",
   "execution_count": 29,
   "metadata": {},
   "outputs": [
    {
     "name": "stdout",
     "output_type": "stream",
     "text": [
      "Epoch 1/20\n"
     ]
    },
    {
     "name": "stderr",
     "output_type": "stream",
     "text": [
      "/mnt/disks/user/anaconda3/lib/python3.6/site-packages/ipykernel_launcher.py:14: DeprecationWarning: `imresize` is deprecated!\n",
      "`imresize` is deprecated in SciPy 1.0.0, and will be removed in 1.2.0.\n",
      "Use ``skimage.transform.resize`` instead.\n",
      "  \n"
     ]
    },
    {
     "name": "stdout",
     "output_type": "stream",
     "text": [
      "14/14 [==============================] - 50s 4s/step - loss: 1.4761 - categorical_accuracy: 0.3550 - val_loss: 1.2512 - val_categorical_accuracy: 0.4500\n",
      "\n",
      "Epoch 00001: saving model to model_init_2020-03-0214_49_24.642894/model-00001-1.47539-0.35747-1.25123-0.45000.h5\n",
      "Epoch 2/20\n",
      "14/14 [==============================] - 39s 3s/step - loss: 1.1311 - categorical_accuracy: 0.5317 - val_loss: 1.0568 - val_categorical_accuracy: 0.6100\n",
      "\n",
      "Epoch 00002: saving model to model_init_2020-03-0214_49_24.642894/model-00002-1.14224-0.52338-1.05675-0.61000.h5\n",
      "Epoch 3/20\n",
      "14/14 [==============================] - 41s 3s/step - loss: 0.9845 - categorical_accuracy: 0.6054 - val_loss: 0.9604 - val_categorical_accuracy: 0.6000\n",
      "\n",
      "Epoch 00003: saving model to model_init_2020-03-0214_49_24.642894/model-00003-0.98316-0.61689-0.96043-0.60000.h5\n",
      "Epoch 4/20\n",
      "14/14 [==============================] - 41s 3s/step - loss: 0.8544 - categorical_accuracy: 0.6803 - val_loss: 0.8915 - val_categorical_accuracy: 0.6600\n",
      "\n",
      "Epoch 00004: saving model to model_init_2020-03-0214_49_24.642894/model-00004-0.85967-0.67572-0.89152-0.66000.h5\n",
      "Epoch 5/20\n",
      "14/14 [==============================] - 41s 3s/step - loss: 0.6990 - categorical_accuracy: 0.7406 - val_loss: 0.9086 - val_categorical_accuracy: 0.6500\n",
      "\n",
      "Epoch 00005: saving model to model_init_2020-03-0214_49_24.642894/model-00005-0.70489-0.73906-0.90865-0.65000.h5\n",
      "Epoch 6/20\n",
      "14/14 [==============================] - 41s 3s/step - loss: 0.5252 - categorical_accuracy: 0.8003 - val_loss: 0.8616 - val_categorical_accuracy: 0.7100\n",
      "\n",
      "Epoch 00006: saving model to model_init_2020-03-0214_49_24.642894/model-00006-0.53039-0.79789-0.86164-0.71000.h5\n",
      "Epoch 7/20\n",
      "14/14 [==============================] - 41s 3s/step - loss: 0.4028 - categorical_accuracy: 0.8533 - val_loss: 0.8019 - val_categorical_accuracy: 0.6900\n",
      "\n",
      "Epoch 00007: saving model to model_init_2020-03-0214_49_24.642894/model-00007-0.40476-0.85370-0.80192-0.69000.h5\n",
      "Epoch 8/20\n",
      "14/14 [==============================] - 41s 3s/step - loss: 0.2860 - categorical_accuracy: 0.9030 - val_loss: 0.8088 - val_categorical_accuracy: 0.7000\n",
      "\n",
      "Epoch 00008: saving model to model_init_2020-03-0214_49_24.642894/model-00008-0.29010-0.90196-0.80882-0.70000.h5\n",
      "Epoch 9/20\n",
      "14/14 [==============================] - 41s 3s/step - loss: 0.2499 - categorical_accuracy: 0.9150 - val_loss: 0.8473 - val_categorical_accuracy: 0.7200\n",
      "\n",
      "Epoch 00009: saving model to model_init_2020-03-0214_49_24.642894/model-00009-0.24165-0.91855-0.84726-0.72000.h5\n",
      "Epoch 10/20\n",
      "14/14 [==============================] - 41s 3s/step - loss: 0.1953 - categorical_accuracy: 0.9345 - val_loss: 1.3226 - val_categorical_accuracy: 0.5800\n",
      "\n",
      "Epoch 00010: saving model to model_init_2020-03-0214_49_24.642894/model-00010-0.19453-0.93514-1.32260-0.58000.h5\n",
      "Epoch 11/20\n",
      "14/14 [==============================] - 41s 3s/step - loss: 0.1559 - categorical_accuracy: 0.9484 - val_loss: 1.4406 - val_categorical_accuracy: 0.5600\n",
      "\n",
      "Epoch 00011: saving model to model_init_2020-03-0214_49_24.642894/model-00011-0.15954-0.94570-1.44057-0.56000.h5\n",
      "\n",
      "Epoch 00011: ReduceLROnPlateau reducing learning rate to 0.00020000000949949026.\n",
      "Epoch 12/20\n",
      "14/14 [==============================] - 41s 3s/step - loss: 0.1301 - categorical_accuracy: 0.9632 - val_loss: 1.0057 - val_categorical_accuracy: 0.6600\n",
      "\n",
      "Epoch 00012: saving model to model_init_2020-03-0214_49_24.642894/model-00012-0.12823-0.96531-1.00570-0.66000.h5\n",
      "Epoch 13/20\n",
      "14/14 [==============================] - 42s 3s/step - loss: 0.0642 - categorical_accuracy: 0.9914 - val_loss: 0.9176 - val_categorical_accuracy: 0.6900\n",
      "\n",
      "Epoch 00013: saving model to model_init_2020-03-0214_49_24.642894/model-00013-0.06374-0.99095-0.91756-0.69000.h5\n",
      "Epoch 14/20\n",
      "14/14 [==============================] - 41s 3s/step - loss: 0.0513 - categorical_accuracy: 0.9928 - val_loss: 0.9972 - val_categorical_accuracy: 0.7100\n",
      "\n",
      "Epoch 00014: saving model to model_init_2020-03-0214_49_24.642894/model-00014-0.04877-0.99246-0.99724-0.71000.h5\n",
      "Epoch 15/20\n",
      "14/14 [==============================] - 41s 3s/step - loss: 0.0405 - categorical_accuracy: 1.0000 - val_loss: 1.0136 - val_categorical_accuracy: 0.6800\n",
      "\n",
      "Epoch 00015: saving model to model_init_2020-03-0214_49_24.642894/model-00015-0.04046-1.00000-1.01361-0.68000.h5\n",
      "\n",
      "Epoch 00015: ReduceLROnPlateau reducing learning rate to 4.0000001899898055e-05.\n",
      "Epoch 16/20\n",
      "14/14 [==============================] - 41s 3s/step - loss: 0.0356 - categorical_accuracy: 0.9971 - val_loss: 0.9378 - val_categorical_accuracy: 0.7200\n",
      "\n",
      "Epoch 00016: saving model to model_init_2020-03-0214_49_24.642894/model-00016-0.03432-0.99698-0.93780-0.72000.h5\n",
      "Epoch 17/20\n",
      "14/14 [==============================] - 41s 3s/step - loss: 0.0327 - categorical_accuracy: 0.9943 - val_loss: 0.8829 - val_categorical_accuracy: 0.7200\n",
      "\n",
      "Epoch 00017: saving model to model_init_2020-03-0214_49_24.642894/model-00017-0.03287-0.99397-0.88286-0.72000.h5\n",
      "Epoch 18/20\n",
      "14/14 [==============================] - 41s 3s/step - loss: 0.0357 - categorical_accuracy: 0.9986 - val_loss: 0.8386 - val_categorical_accuracy: 0.7300\n",
      "\n",
      "Epoch 00018: saving model to model_init_2020-03-0214_49_24.642894/model-00018-0.03374-0.99849-0.83862-0.73000.h5\n",
      "Epoch 19/20\n",
      "14/14 [==============================] - 41s 3s/step - loss: 0.0338 - categorical_accuracy: 1.0000 - val_loss: 0.8063 - val_categorical_accuracy: 0.7300\n",
      "\n",
      "Epoch 00019: saving model to model_init_2020-03-0214_49_24.642894/model-00019-0.03209-1.00000-0.80630-0.73000.h5\n",
      "\n",
      "Epoch 00019: ReduceLROnPlateau reducing learning rate to 8.000000525498762e-06.\n",
      "Epoch 20/20\n",
      "14/14 [==============================] - 41s 3s/step - loss: 0.0324 - categorical_accuracy: 0.9957 - val_loss: 0.7804 - val_categorical_accuracy: 0.7400\n",
      "\n",
      "Epoch 00020: saving model to model_init_2020-03-0214_49_24.642894/model-00020-0.03272-0.99548-0.78044-0.74000.h5\n"
     ]
    },
    {
     "data": {
      "text/plain": [
       "<keras.callbacks.History at 0x7fb5967e0b38>"
      ]
     },
     "execution_count": 29,
     "metadata": {},
     "output_type": "execute_result"
    }
   ],
   "source": [
    "num_epochs=20\n",
    "model_3_cnnrnn_history = model_3_cnnrnn.fit_generator(train_generator, steps_per_epoch=steps_per_epoch, epochs=num_epochs, verbose=1, \n",
    "                      callbacks=callbacks_list, validation_data=val_generator, validation_steps=validation_steps, \n",
    "                      class_weight=None, workers=1, initial_epoch=0)\n",
    "model_3_cnnrnn_history"
   ]
  },
  {
   "cell_type": "code",
   "execution_count": 30,
   "metadata": {},
   "outputs": [
    {
     "data": {
      "image/png": "[encoded data removed]",
      "text/plain": [
       "<Figure size 1080x288 with 2 Axes>"
      ]
     },
     "metadata": {},
     "output_type": "display_data"
    }
   ],
   "source": [
    "plot(model_3_cnnrnn_history)"
   ]
  },
  {
   "cell_type": "markdown",
   "metadata": {},
   "source": [
    "#### Conclusion:\n",
    "With GRU also we have overfitted model"
   ]
  },
  {
   "cell_type": "markdown",
   "metadata": {},
   "source": [
    "#### Model-4_CNNRNN\n",
    "With lesser layers, otherwise like Model-3_CNNRNN"
   ]
  },
  {
   "cell_type": "code",
   "execution_count": 31,
   "metadata": {},
   "outputs": [
    {
     "name": "stdout",
     "output_type": "stream",
     "text": [
      "_________________________________________________________________\n",
      "Layer (type)                 Output Shape              Param #   \n",
      "=================================================================\n",
      "time_distributed_49 (TimeDis (None, 15, 120, 120, 16)  448       \n",
      "_________________________________________________________________\n",
      "time_distributed_50 (TimeDis (None, 15, 120, 120, 16)  64        \n",
      "_________________________________________________________________\n",
      "time_distributed_51 (TimeDis (None, 15, 60, 60, 16)    0         \n",
      "_________________________________________________________________\n",
      "time_distributed_52 (TimeDis (None, 15, 60, 60, 64)    9280      \n",
      "_________________________________________________________________\n",
      "time_distributed_53 (TimeDis (None, 15, 60, 60, 64)    256       \n",
      "_________________________________________________________________\n",
      "time_distributed_54 (TimeDis (None, 15, 30, 30, 64)    0         \n",
      "_________________________________________________________________\n",
      "time_distributed_55 (TimeDis (None, 15, 30, 30, 128)   73856     \n",
      "_________________________________________________________________\n",
      "time_distributed_56 (TimeDis (None, 15, 30, 30, 128)   512       \n",
      "_________________________________________________________________\n",
      "time_distributed_57 (TimeDis (None, 15, 15, 15, 128)   0         \n",
      "_________________________________________________________________\n",
      "time_distributed_58 (TimeDis (None, 15, 15, 15, 256)   295168    \n",
      "_________________________________________________________________\n",
      "time_distributed_59 (TimeDis (None, 15, 15, 15, 256)   1024      \n",
      "_________________________________________________________________\n",
      "time_distributed_60 (TimeDis (None, 15, 7, 7, 256)     0         \n",
      "_________________________________________________________________\n",
      "time_distributed_61 (TimeDis (None, 15, 12544)         0         \n",
      "_________________________________________________________________\n",
      "gru_2 (GRU)                  (None, 128)               4866432   \n",
      "_________________________________________________________________\n",
      "dropout_7 (Dropout)          (None, 128)               0         \n",
      "_________________________________________________________________\n",
      "dense_7 (Dense)              (None, 128)               16512     \n",
      "_________________________________________________________________\n",
      "dropout_8 (Dropout)          (None, 128)               0         \n",
      "_________________________________________________________________\n",
      "dense_8 (Dense)              (None, 5)                 645       \n",
      "=================================================================\n",
      "Total params: 5,264,197\n",
      "Trainable params: 5,263,269\n",
      "Non-trainable params: 928\n",
      "_________________________________________________________________\n",
      "None\n"
     ]
    }
   ],
   "source": [
    "image_height=120\n",
    "image_width=120\n",
    "channels=3\n",
    "num_classes=5\n",
    "total_frames=30\n",
    "frames_feed=15\n",
    "batch_size=50\n",
    "num_epochs=20\n",
    "skip = 2\n",
    "\n",
    "model_4_cnnrnn = Sequential()\n",
    "\n",
    "model_4_cnnrnn.add(TimeDistributed(Conv2D(16, (3, 3) , padding='same', activation='relu'), \n",
    "                          input_shape=(frames_feed, image_height, image_width, channels)))\n",
    "model_4_cnnrnn.add(TimeDistributed(BatchNormalization()))\n",
    "model_4_cnnrnn.add(TimeDistributed(MaxPooling2D((2, 2))))\n",
    "        \n",
    "model_4_cnnrnn.add(TimeDistributed(Conv2D(64, (3, 3) , padding='same', activation='relu')))\n",
    "model_4_cnnrnn.add(TimeDistributed(BatchNormalization()))\n",
    "model_4_cnnrnn.add(TimeDistributed(MaxPooling2D((2, 2))))\n",
    "        \n",
    "model_4_cnnrnn.add(TimeDistributed(Conv2D(128, (3, 3) , padding='same', activation='relu')))\n",
    "model_4_cnnrnn.add(TimeDistributed(BatchNormalization()))\n",
    "model_4_cnnrnn.add(TimeDistributed(MaxPooling2D((2, 2))))\n",
    "        \n",
    "model_4_cnnrnn.add(TimeDistributed(Conv2D(256, (3, 3) , padding='same', activation='relu')))\n",
    "model_4_cnnrnn.add(TimeDistributed(BatchNormalization()))\n",
    "model_4_cnnrnn.add(TimeDistributed(MaxPooling2D((2, 2))))\n",
    "\n",
    "model_4_cnnrnn.add(TimeDistributed(Flatten()))\n",
    "\n",
    "model_4_cnnrnn.add(GRU(128))\n",
    "model_4_cnnrnn.add(Dropout(0.25))\n",
    "        \n",
    "model_4_cnnrnn.add(Dense(128, activation='relu'))\n",
    "model_4_cnnrnn.add(Dropout(0.25))\n",
    "        \n",
    "model_4_cnnrnn.add(Dense(num_classes, activation='softmax'))\n",
    "\n",
    "optimiser = optimizers.Adam()\n",
    "model_4_cnnrnn.compile(optimizer=optimiser, loss='categorical_crossentropy', metrics=['categorical_accuracy'])\n",
    "\n",
    "print(model_4_cnnrnn.summary())"
   ]
  },
  {
   "cell_type": "code",
   "execution_count": 32,
   "metadata": {},
   "outputs": [],
   "source": [
    "train_generator = generator(train_path, train_doc, augment = False)\n",
    "val_generator = generator(val_path, val_doc)"
   ]
  },
  {
   "cell_type": "code",
   "execution_count": 33,
   "metadata": {},
   "outputs": [],
   "source": [
    "model_name = 'model_init' + '_' + str(datetime.datetime.now()).replace(' ','').replace(':','_') + '/'\n",
    "    \n",
    "if not os.path.exists(model_name):\n",
    "    os.mkdir(model_name)\n",
    "        \n",
    "filepath = model_name + 'model-{epoch:05d}-{loss:.5f}-{categorical_accuracy:.5f}-{val_loss:.5f}-{val_categorical_accuracy:.5f}.h5'"
   ]
  },
  {
   "cell_type": "code",
   "execution_count": 34,
   "metadata": {},
   "outputs": [],
   "source": [
    "checkpoint = ModelCheckpoint(filepath, monitor='val_loss', verbose=1, save_best_only=False, save_weights_only=False, mode='auto', period=1)\n",
    "LR = ReduceLROnPlateau(monitor='val_loss', factor=0.2, verbose=1, patience=4)\n",
    "callbacks_list = [checkpoint, LR]"
   ]
  },
  {
   "cell_type": "code",
   "execution_count": 35,
   "metadata": {},
   "outputs": [],
   "source": [
    "if (num_train_seq%batch_size) == 0:\n",
    "    steps_per_epoch = int(num_train_seq/batch_size)\n",
    "else:\n",
    "    steps_per_epoch = (num_train_seq//batch_size) + 1\n",
    "\n",
    "if (num_val_seq%batch_size) == 0:\n",
    "    validation_steps = int(num_val_seq/batch_size)\n",
    "else:\n",
    "    validation_steps = (num_val_seq//batch_size) + 1"
   ]
  },
  {
   "cell_type": "code",
   "execution_count": 36,
   "metadata": {},
   "outputs": [
    {
     "name": "stdout",
     "output_type": "stream",
     "text": [
      "Epoch 1/20\n"
     ]
    },
    {
     "name": "stderr",
     "output_type": "stream",
     "text": [
      "/mnt/disks/user/anaconda3/lib/python3.6/site-packages/ipykernel_launcher.py:14: DeprecationWarning: `imresize` is deprecated!\n",
      "`imresize` is deprecated in SciPy 1.0.0, and will be removed in 1.2.0.\n",
      "Use ``skimage.transform.resize`` instead.\n",
      "  \n"
     ]
    },
    {
     "name": "stdout",
     "output_type": "stream",
     "text": [
      "14/14 [==============================] - 53s 4s/step - loss: 1.6078 - categorical_accuracy: 0.3225 - val_loss: 1.3455 - val_categorical_accuracy: 0.4400\n",
      "\n",
      "Epoch 00001: saving model to model_init_2020-03-0215_03_26.658689/model-00001-1.60374-0.32730-1.34548-0.44000.h5\n",
      "Epoch 2/20\n",
      "14/14 [==============================] - 39s 3s/step - loss: 1.2871 - categorical_accuracy: 0.4524 - val_loss: 1.3183 - val_categorical_accuracy: 0.5000\n",
      "\n",
      "Epoch 00002: saving model to model_init_2020-03-0215_03_26.658689/model-00002-1.29330-0.44796-1.31827-0.50000.h5\n",
      "Epoch 3/20\n",
      "14/14 [==============================] - 41s 3s/step - loss: 1.1217 - categorical_accuracy: 0.5466 - val_loss: 1.0604 - val_categorical_accuracy: 0.5300\n",
      "\n",
      "Epoch 00003: saving model to model_init_2020-03-0215_03_26.658689/model-00003-1.11866-0.55505-1.06039-0.53000.h5\n",
      "Epoch 4/20\n",
      "14/14 [==============================] - 41s 3s/step - loss: 1.0506 - categorical_accuracy: 0.5730 - val_loss: 1.0504 - val_categorical_accuracy: 0.5800\n",
      "\n",
      "Epoch 00004: saving model to model_init_2020-03-0215_03_26.658689/model-00004-1.01616-0.58673-1.05036-0.58000.h5\n",
      "Epoch 5/20\n",
      "14/14 [==============================] - 42s 3s/step - loss: 0.9361 - categorical_accuracy: 0.6177 - val_loss: 0.9735 - val_categorical_accuracy: 0.5900\n",
      "\n",
      "Epoch 00005: saving model to model_init_2020-03-0215_03_26.658689/model-00005-0.93545-0.61388-0.97353-0.59000.h5\n",
      "Epoch 6/20\n",
      "14/14 [==============================] - 42s 3s/step - loss: 0.9150 - categorical_accuracy: 0.6235 - val_loss: 1.2273 - val_categorical_accuracy: 0.5400\n",
      "\n",
      "Epoch 00006: saving model to model_init_2020-03-0215_03_26.658689/model-00006-0.91668-0.61991-1.22731-0.54000.h5\n",
      "Epoch 7/20\n",
      "14/14 [==============================] - 41s 3s/step - loss: 0.7914 - categorical_accuracy: 0.6833 - val_loss: 1.0799 - val_categorical_accuracy: 0.5800\n",
      "\n",
      "Epoch 00007: saving model to model_init_2020-03-0215_03_26.658689/model-00007-0.78662-0.69080-1.07994-0.58000.h5\n",
      "Epoch 8/20\n",
      "14/14 [==============================] - 42s 3s/step - loss: 0.6909 - categorical_accuracy: 0.7262 - val_loss: 1.2685 - val_categorical_accuracy: 0.5200\n",
      "\n",
      "Epoch 00008: saving model to model_init_2020-03-0215_03_26.658689/model-00008-0.70337-0.72398-1.26851-0.52000.h5\n",
      "Epoch 9/20\n",
      "14/14 [==============================] - 41s 3s/step - loss: 0.6710 - categorical_accuracy: 0.7190 - val_loss: 1.2120 - val_categorical_accuracy: 0.5700\n",
      "\n",
      "Epoch 00009: saving model to model_init_2020-03-0215_03_26.658689/model-00009-0.67904-0.71644-1.21197-0.57000.h5\n",
      "\n",
      "Epoch 00009: ReduceLROnPlateau reducing learning rate to 0.00020000000949949026.\n",
      "Epoch 10/20\n",
      "14/14 [==============================] - 42s 3s/step - loss: 0.6129 - categorical_accuracy: 0.7697 - val_loss: 1.0410 - val_categorical_accuracy: 0.6200\n",
      "\n",
      "Epoch 00010: saving model to model_init_2020-03-0215_03_26.658689/model-00010-0.61682-0.76169-1.04099-0.62000.h5\n",
      "Epoch 11/20\n",
      "14/14 [==============================] - 41s 3s/step - loss: 0.5366 - categorical_accuracy: 0.7936 - val_loss: 0.9010 - val_categorical_accuracy: 0.6700\n",
      "\n",
      "Epoch 00011: saving model to model_init_2020-03-0215_03_26.658689/model-00011-0.53739-0.79487-0.90104-0.67000.h5\n",
      "Epoch 12/20\n",
      "14/14 [==============================] - 41s 3s/step - loss: 0.4906 - categorical_accuracy: 0.8099 - val_loss: 0.7294 - val_categorical_accuracy: 0.7100\n",
      "\n",
      "Epoch 00012: saving model to model_init_2020-03-0215_03_26.658689/model-00012-0.48231-0.81599-0.72939-0.71000.h5\n",
      "Epoch 13/20\n",
      "14/14 [==============================] - 42s 3s/step - loss: 0.4235 - categorical_accuracy: 0.8505 - val_loss: 0.6890 - val_categorical_accuracy: 0.7100\n",
      "\n",
      "Epoch 00013: saving model to model_init_2020-03-0215_03_26.658689/model-00013-0.42164-0.85068-0.68896-0.71000.h5\n",
      "Epoch 14/20\n",
      "14/14 [==============================] - 42s 3s/step - loss: 0.3631 - categorical_accuracy: 0.8824 - val_loss: 0.6590 - val_categorical_accuracy: 0.7400\n",
      "\n",
      "Epoch 00014: saving model to model_init_2020-03-0215_03_26.658689/model-00014-0.36444-0.87632-0.65902-0.74000.h5\n",
      "Epoch 15/20\n",
      "14/14 [==============================] - 41s 3s/step - loss: 0.3628 - categorical_accuracy: 0.8844 - val_loss: 0.6299 - val_categorical_accuracy: 0.7400\n",
      "\n",
      "Epoch 00015: saving model to model_init_2020-03-0215_03_26.658689/model-00015-0.36136-0.88235-0.62993-0.74000.h5\n",
      "Epoch 16/20\n",
      "14/14 [==============================] - 42s 3s/step - loss: 0.3029 - categorical_accuracy: 0.9049 - val_loss: 0.6746 - val_categorical_accuracy: 0.7400\n",
      "\n",
      "Epoch 00016: saving model to model_init_2020-03-0215_03_26.658689/model-00016-0.29841-0.90799-0.67464-0.74000.h5\n",
      "Epoch 17/20\n",
      "14/14 [==============================] - 41s 3s/step - loss: 0.2561 - categorical_accuracy: 0.9231 - val_loss: 0.6665 - val_categorical_accuracy: 0.7500\n",
      "\n",
      "Epoch 00017: saving model to model_init_2020-03-0215_03_26.658689/model-00017-0.25846-0.92308-0.66645-0.75000.h5\n",
      "Epoch 18/20\n",
      "14/14 [==============================] - 41s 3s/step - loss: 0.2403 - categorical_accuracy: 0.9326 - val_loss: 0.5478 - val_categorical_accuracy: 0.7600\n",
      "\n",
      "Epoch 00018: saving model to model_init_2020-03-0215_03_26.658689/model-00018-0.24301-0.92911-0.54780-0.76000.h5\n",
      "Epoch 19/20\n",
      "14/14 [==============================] - 42s 3s/step - loss: 0.2269 - categorical_accuracy: 0.9155 - val_loss: 0.5818 - val_categorical_accuracy: 0.7700\n",
      "\n",
      "Epoch 00019: saving model to model_init_2020-03-0215_03_26.658689/model-00019-0.22525-0.92308-0.58184-0.77000.h5\n",
      "Epoch 20/20\n",
      "14/14 [==============================] - 42s 3s/step - loss: 0.2025 - categorical_accuracy: 0.9518 - val_loss: 0.5903 - val_categorical_accuracy: 0.7800\n",
      "\n",
      "Epoch 00020: saving model to model_init_2020-03-0215_03_26.658689/model-00020-0.19924-0.95324-0.59029-0.78000.h5\n"
     ]
    },
    {
     "data": {
      "text/plain": [
       "<keras.callbacks.History at 0x7fb594db10f0>"
      ]
     },
     "execution_count": 36,
     "metadata": {},
     "output_type": "execute_result"
    }
   ],
   "source": [
    "num_epochs=20\n",
    "model_4_cnnrnn_history = model_4_cnnrnn.fit_generator(train_generator, steps_per_epoch=steps_per_epoch, epochs=num_epochs, verbose=1, \n",
    "                      callbacks=callbacks_list, validation_data=val_generator, validation_steps=validation_steps, \n",
    "                      class_weight=None, workers=1, initial_epoch=0)\n",
    "model_4_cnnrnn_history"
   ]
  },
  {
   "cell_type": "code",
   "execution_count": 37,
   "metadata": {},
   "outputs": [
    {
     "data": {
      "image/png": "[encoded data removed]",
      "text/plain": [
       "<Figure size 1080x288 with 2 Axes>"
      ]
     },
     "metadata": {},
     "output_type": "display_data"
    }
   ],
   "source": [
    "plot(model_4_cnnrnn_history)"
   ]
  },
  {
   "cell_type": "markdown",
   "metadata": {},
   "source": [
    "#### Conclusion:\n",
    "The issue of overfitting in Model-3_CNNRNN is not resolved in Model-4_CNNRNN"
   ]
  },
  {
   "cell_type": "markdown",
   "metadata": {},
   "source": [
    "#### Model-5_CNNRNN\n",
    "With more dropouts, otherwise like Model-4_CNNRNN"
   ]
  },
  {
   "cell_type": "code",
   "execution_count": 38,
   "metadata": {},
   "outputs": [
    {
     "name": "stdout",
     "output_type": "stream",
     "text": [
      "_________________________________________________________________\n",
      "Layer (type)                 Output Shape              Param #   \n",
      "=================================================================\n",
      "time_distributed_62 (TimeDis (None, 15, 120, 120, 16)  448       \n",
      "_________________________________________________________________\n",
      "time_distributed_63 (TimeDis (None, 15, 120, 120, 16)  64        \n",
      "_________________________________________________________________\n",
      "time_distributed_64 (TimeDis (None, 15, 60, 60, 16)    0         \n",
      "_________________________________________________________________\n",
      "time_distributed_65 (TimeDis (None, 15, 60, 60, 64)    9280      \n",
      "_________________________________________________________________\n",
      "time_distributed_66 (TimeDis (None, 15, 60, 60, 64)    256       \n",
      "_________________________________________________________________\n",
      "time_distributed_67 (TimeDis (None, 15, 30, 30, 64)    0         \n",
      "_________________________________________________________________\n",
      "time_distributed_68 (TimeDis (None, 15, 30, 30, 128)   73856     \n",
      "_________________________________________________________________\n",
      "time_distributed_69 (TimeDis (None, 15, 30, 30, 128)   512       \n",
      "_________________________________________________________________\n",
      "time_distributed_70 (TimeDis (None, 15, 15, 15, 128)   0         \n",
      "_________________________________________________________________\n",
      "time_distributed_71 (TimeDis (None, 15, 15, 15, 256)   295168    \n",
      "_________________________________________________________________\n",
      "time_distributed_72 (TimeDis (None, 15, 15, 15, 256)   1024      \n",
      "_________________________________________________________________\n",
      "time_distributed_73 (TimeDis (None, 15, 7, 7, 256)     0         \n",
      "_________________________________________________________________\n",
      "time_distributed_74 (TimeDis (None, 15, 12544)         0         \n",
      "_________________________________________________________________\n",
      "gru_3 (GRU)                  (None, 128)               4866432   \n",
      "_________________________________________________________________\n",
      "dropout_9 (Dropout)          (None, 128)               0         \n",
      "_________________________________________________________________\n",
      "dense_9 (Dense)              (None, 128)               16512     \n",
      "_________________________________________________________________\n",
      "dropout_10 (Dropout)         (None, 128)               0         \n",
      "_________________________________________________________________\n",
      "dense_10 (Dense)             (None, 5)                 645       \n",
      "=================================================================\n",
      "Total params: 5,264,197\n",
      "Trainable params: 5,263,269\n",
      "Non-trainable params: 928\n",
      "_________________________________________________________________\n",
      "None\n"
     ]
    }
   ],
   "source": [
    "image_height=120\n",
    "image_width=120\n",
    "channels=3\n",
    "num_classes=5\n",
    "total_frames=30\n",
    "frames_feed=15\n",
    "batch_size=50\n",
    "num_epochs=20\n",
    "skip = 2\n",
    "\n",
    "model_5_cnnrnn = Sequential()\n",
    "\n",
    "model_5_cnnrnn.add(TimeDistributed(Conv2D(16, (3, 3) , padding='same', activation='relu'), \n",
    "                          input_shape=(frames_feed, image_height, image_width, channels)))\n",
    "model_5_cnnrnn.add(TimeDistributed(BatchNormalization()))\n",
    "model_5_cnnrnn.add(TimeDistributed(MaxPooling2D((2, 2))))\n",
    "        \n",
    "model_5_cnnrnn.add(TimeDistributed(Conv2D(64, (3, 3) , padding='same', activation='relu')))\n",
    "model_5_cnnrnn.add(TimeDistributed(BatchNormalization()))\n",
    "model_5_cnnrnn.add(TimeDistributed(MaxPooling2D((2, 2))))\n",
    "        \n",
    "model_5_cnnrnn.add(TimeDistributed(Conv2D(128, (3, 3) , padding='same', activation='relu')))\n",
    "model_5_cnnrnn.add(TimeDistributed(BatchNormalization()))\n",
    "model_5_cnnrnn.add(TimeDistributed(MaxPooling2D((2, 2))))\n",
    "        \n",
    "model_5_cnnrnn.add(TimeDistributed(Conv2D(256, (3, 3) , padding='same', activation='relu')))\n",
    "model_5_cnnrnn.add(TimeDistributed(BatchNormalization()))\n",
    "model_5_cnnrnn.add(TimeDistributed(MaxPooling2D((2, 2))))\n",
    "\n",
    "model_5_cnnrnn.add(TimeDistributed(Flatten()))\n",
    "\n",
    "model_5_cnnrnn.add(GRU(128))\n",
    "model_5_cnnrnn.add(Dropout(0.50))\n",
    "        \n",
    "model_5_cnnrnn.add(Dense(128, activation='relu'))\n",
    "model_5_cnnrnn.add(Dropout(0.50))\n",
    "        \n",
    "model_5_cnnrnn.add(Dense(num_classes, activation='softmax'))\n",
    "\n",
    "optimiser = optimizers.Adam()\n",
    "model_5_cnnrnn.compile(optimizer=optimiser, loss='categorical_crossentropy', metrics=['categorical_accuracy'])\n",
    "\n",
    "print(model_5_cnnrnn.summary())"
   ]
  },
  {
   "cell_type": "code",
   "execution_count": 39,
   "metadata": {},
   "outputs": [],
   "source": [
    "train_generator = generator(train_path, train_doc, augment = False)\n",
    "val_generator = generator(val_path, val_doc)"
   ]
  },
  {
   "cell_type": "code",
   "execution_count": 40,
   "metadata": {},
   "outputs": [],
   "source": [
    "model_name = 'model_init' + '_' + str(datetime.datetime.now()).replace(' ','').replace(':','_') + '/'\n",
    "    \n",
    "if not os.path.exists(model_name):\n",
    "    os.mkdir(model_name)\n",
    "        \n",
    "filepath = model_name + 'model-{epoch:05d}-{loss:.5f}-{categorical_accuracy:.5f}-{val_loss:.5f}-{val_categorical_accuracy:.5f}.h5'"
   ]
  },
  {
   "cell_type": "code",
   "execution_count": 41,
   "metadata": {},
   "outputs": [],
   "source": [
    "checkpoint = ModelCheckpoint(filepath, monitor='val_loss', verbose=1, save_best_only=False, save_weights_only=False, mode='auto', period=1)\n",
    "LR = ReduceLROnPlateau(monitor='val_loss', factor=0.2, verbose=1, patience=4)\n",
    "callbacks_list = [checkpoint, LR]"
   ]
  },
  {
   "cell_type": "code",
   "execution_count": 42,
   "metadata": {},
   "outputs": [],
   "source": [
    "if (num_train_seq%batch_size) == 0:\n",
    "    steps_per_epoch = int(num_train_seq/batch_size)\n",
    "else:\n",
    "    steps_per_epoch = (num_train_seq//batch_size) + 1\n",
    "\n",
    "if (num_val_seq%batch_size) == 0:\n",
    "    validation_steps = int(num_val_seq/batch_size)\n",
    "else:\n",
    "    validation_steps = (num_val_seq//batch_size) + 1"
   ]
  },
  {
   "cell_type": "code",
   "execution_count": 43,
   "metadata": {},
   "outputs": [
    {
     "name": "stdout",
     "output_type": "stream",
     "text": [
      "Epoch 1/20\n"
     ]
    },
    {
     "name": "stderr",
     "output_type": "stream",
     "text": [
      "/mnt/disks/user/anaconda3/lib/python3.6/site-packages/ipykernel_launcher.py:14: DeprecationWarning: `imresize` is deprecated!\n",
      "`imresize` is deprecated in SciPy 1.0.0, and will be removed in 1.2.0.\n",
      "Use ``skimage.transform.resize`` instead.\n",
      "  \n"
     ]
    },
    {
     "name": "stdout",
     "output_type": "stream",
     "text": [
      "14/14 [==============================] - 52s 4s/step - loss: 1.8697 - categorical_accuracy: 0.2470 - val_loss: 1.5396 - val_categorical_accuracy: 0.2900\n",
      "\n",
      "Epoch 00001: saving model to model_init_2020-03-0215_17_36.906539/model-00001-1.86301-0.25189-1.53960-0.29000.h5\n",
      "Epoch 2/20\n",
      "14/14 [==============================] - 40s 3s/step - loss: 1.6342 - categorical_accuracy: 0.3134 - val_loss: 1.4700 - val_categorical_accuracy: 0.4100\n",
      "\n",
      "Epoch 00002: saving model to model_init_2020-03-0215_17_36.906539/model-00002-1.62186-0.31373-1.47000-0.41000.h5\n",
      "Epoch 3/20\n",
      "14/14 [==============================] - 41s 3s/step - loss: 1.4931 - categorical_accuracy: 0.3426 - val_loss: 1.3786 - val_categorical_accuracy: 0.4600\n",
      "\n",
      "Epoch 00003: saving model to model_init_2020-03-0215_17_36.906539/model-00003-1.49763-0.34842-1.37861-0.46000.h5\n",
      "Epoch 4/20\n",
      "14/14 [==============================] - 41s 3s/step - loss: 1.4409 - categorical_accuracy: 0.3823 - val_loss: 1.2674 - val_categorical_accuracy: 0.4800\n",
      "\n",
      "Epoch 00004: saving model to model_init_2020-03-0215_17_36.906539/model-00004-1.43548-0.38612-1.26738-0.48000.h5\n",
      "Epoch 5/20\n",
      "14/14 [==============================] - 42s 3s/step - loss: 1.3791 - categorical_accuracy: 0.3747 - val_loss: 1.1904 - val_categorical_accuracy: 0.4700\n",
      "\n",
      "Epoch 00005: saving model to model_init_2020-03-0215_17_36.906539/model-00005-1.37864-0.38612-1.19044-0.47000.h5\n",
      "Epoch 6/20\n",
      "14/14 [==============================] - 42s 3s/step - loss: 1.3390 - categorical_accuracy: 0.3990 - val_loss: 1.1664 - val_categorical_accuracy: 0.5600\n",
      "\n",
      "Epoch 00006: saving model to model_init_2020-03-0215_17_36.906539/model-00006-1.33482-0.39970-1.16638-0.56000.h5\n",
      "Epoch 7/20\n",
      "14/14 [==============================] - 41s 3s/step - loss: 1.2695 - categorical_accuracy: 0.4462 - val_loss: 1.1460 - val_categorical_accuracy: 0.5300\n",
      "\n",
      "Epoch 00007: saving model to model_init_2020-03-0215_17_36.906539/model-00007-1.26979-0.43741-1.14602-0.53000.h5\n",
      "Epoch 8/20\n",
      "14/14 [==============================] - 42s 3s/step - loss: 1.2609 - categorical_accuracy: 0.4176 - val_loss: 1.1300 - val_categorical_accuracy: 0.5900\n",
      "\n",
      "Epoch 00008: saving model to model_init_2020-03-0215_17_36.906539/model-00008-1.24258-0.41931-1.13003-0.59000.h5\n",
      "Epoch 9/20\n",
      "14/14 [==============================] - 42s 3s/step - loss: 1.1747 - categorical_accuracy: 0.4811 - val_loss: 1.1150 - val_categorical_accuracy: 0.5200\n",
      "\n",
      "Epoch 00009: saving model to model_init_2020-03-0215_17_36.906539/model-00009-1.18901-0.47813-1.11499-0.52000.h5\n",
      "Epoch 10/20\n",
      "14/14 [==============================] - 42s 3s/step - loss: 1.1462 - categorical_accuracy: 0.5036 - val_loss: 1.1161 - val_categorical_accuracy: 0.5500\n",
      "\n",
      "Epoch 00010: saving model to model_init_2020-03-0215_17_36.906539/model-00010-1.14806-0.50980-1.11606-0.55000.h5\n",
      "Epoch 11/20\n",
      "14/14 [==============================] - 42s 3s/step - loss: 1.1172 - categorical_accuracy: 0.5089 - val_loss: 1.2328 - val_categorical_accuracy: 0.5400\n",
      "\n",
      "Epoch 00011: saving model to model_init_2020-03-0215_17_36.906539/model-00011-1.12647-0.51131-1.23276-0.54000.h5\n",
      "Epoch 12/20\n",
      "14/14 [==============================] - 42s 3s/step - loss: 1.0551 - categorical_accuracy: 0.5328 - val_loss: 1.2266 - val_categorical_accuracy: 0.4900\n",
      "\n",
      "Epoch 00012: saving model to model_init_2020-03-0215_17_36.906539/model-00012-1.04520-0.54449-1.22659-0.49000.h5\n",
      "Epoch 13/20\n",
      "14/14 [==============================] - 42s 3s/step - loss: 1.1018 - categorical_accuracy: 0.5093 - val_loss: 1.3760 - val_categorical_accuracy: 0.5200\n",
      "\n",
      "Epoch 00013: saving model to model_init_2020-03-0215_17_36.906539/model-00013-1.11915-0.50377-1.37604-0.52000.h5\n",
      "\n",
      "Epoch 00013: ReduceLROnPlateau reducing learning rate to 0.00020000000949949026.\n",
      "Epoch 14/20\n",
      "14/14 [==============================] - 41s 3s/step - loss: 1.0774 - categorical_accuracy: 0.5228 - val_loss: 1.2468 - val_categorical_accuracy: 0.5200\n",
      "\n",
      "Epoch 00014: saving model to model_init_2020-03-0215_17_36.906539/model-00014-1.06589-0.53394-1.24681-0.52000.h5\n",
      "Epoch 15/20\n",
      "14/14 [==============================] - 41s 3s/step - loss: 1.1277 - categorical_accuracy: 0.5370 - val_loss: 1.1539 - val_categorical_accuracy: 0.5300\n",
      "\n",
      "Epoch 00015: saving model to model_init_2020-03-0215_17_36.906539/model-00015-1.11826-0.53695-1.15389-0.53000.h5\n",
      "Epoch 16/20\n",
      "14/14 [==============================] - 42s 3s/step - loss: 1.0300 - categorical_accuracy: 0.5541 - val_loss: 1.1784 - val_categorical_accuracy: 0.5500\n",
      "\n",
      "Epoch 00016: saving model to model_init_2020-03-0215_17_36.906539/model-00016-1.05043-0.54299-1.17837-0.55000.h5\n",
      "Epoch 17/20\n",
      "14/14 [==============================] - 41s 3s/step - loss: 0.9661 - categorical_accuracy: 0.5810 - val_loss: 1.1053 - val_categorical_accuracy: 0.5500\n",
      "\n",
      "Epoch 00017: saving model to model_init_2020-03-0215_17_36.906539/model-00017-0.97602-0.57919-1.10531-0.55000.h5\n",
      "Epoch 18/20\n",
      "14/14 [==============================] - 42s 3s/step - loss: 0.9378 - categorical_accuracy: 0.5743 - val_loss: 1.0903 - val_categorical_accuracy: 0.5300\n",
      "\n",
      "Epoch 00018: saving model to model_init_2020-03-0215_17_36.906539/model-00018-0.94624-0.57617-1.09032-0.53000.h5\n",
      "Epoch 19/20\n",
      "14/14 [==============================] - 42s 3s/step - loss: 0.9482 - categorical_accuracy: 0.5892 - val_loss: 1.0720 - val_categorical_accuracy: 0.5000\n",
      "\n",
      "Epoch 00019: saving model to model_init_2020-03-0215_17_36.906539/model-00019-0.94930-0.59578-1.07197-0.50000.h5\n",
      "Epoch 20/20\n",
      "14/14 [==============================] - 42s 3s/step - loss: 0.9174 - categorical_accuracy: 0.5967 - val_loss: 0.9933 - val_categorical_accuracy: 0.5600\n",
      "\n",
      "Epoch 00020: saving model to model_init_2020-03-0215_17_36.906539/model-00020-0.91638-0.59578-0.99332-0.56000.h5\n"
     ]
    },
    {
     "data": {
      "text/plain": [
       "<keras.callbacks.History at 0x7fb593661be0>"
      ]
     },
     "execution_count": 43,
     "metadata": {},
     "output_type": "execute_result"
    }
   ],
   "source": [
    "num_epochs=20\n",
    "model_5_cnnrnn_history = model_5_cnnrnn.fit_generator(train_generator, steps_per_epoch=steps_per_epoch, epochs=num_epochs, verbose=1, \n",
    "                      callbacks=callbacks_list, validation_data=val_generator, validation_steps=validation_steps, \n",
    "                      class_weight=None, workers=1, initial_epoch=0)\n",
    "model_5_cnnrnn_history"
   ]
  },
  {
   "cell_type": "code",
   "execution_count": 44,
   "metadata": {},
   "outputs": [
    {
     "data": {
      "image/png": "[encoded data removed]",
      "text/plain": [
       "<Figure size 1080x288 with 2 Axes>"
      ]
     },
     "metadata": {},
     "output_type": "display_data"
    }
   ],
   "source": [
    "plot(model_5_cnnrnn_history)"
   ]
  },
  {
   "cell_type": "markdown",
   "metadata": {},
   "source": [
    "#### Conclusion:\n",
    "Now the model is not learning much"
   ]
  },
  {
   "cell_type": "markdown",
   "metadata": {},
   "source": [
    "### Transfer Learning"
   ]
  },
  {
   "cell_type": "markdown",
   "metadata": {},
   "source": [
    "#### Model-6_CNNRNN\n",
    "Lets try transfer learning with LSTM first"
   ]
  },
  {
   "cell_type": "code",
   "execution_count": 45,
   "metadata": {},
   "outputs": [
    {
     "name": "stderr",
     "output_type": "stream",
     "text": [
      "/mnt/disks/user/anaconda3/lib/python3.6/site-packages/keras_applications/mobilenet.py:206: UserWarning: MobileNet shape is undefined. Weights for input shape (224, 224) will be loaded.\n",
      "  warnings.warn('MobileNet shape is undefined.'\n"
     ]
    },
    {
     "name": "stdout",
     "output_type": "stream",
     "text": [
      "Downloading data from https://github.com/fchollet/deep-learning-models/releases/download/v0.6/mobilenet_1_0_224_tf_no_top.h5\n",
      "17227776/17225924 [==============================] - 2s 0us/step\n",
      "_________________________________________________________________\n",
      "Layer (type)                 Output Shape              Param #   \n",
      "=================================================================\n",
      "time_distributed_75 (TimeDis (None, 15, 3, 3, 1024)    3228864   \n",
      "_________________________________________________________________\n",
      "time_distributed_76 (TimeDis (None, 15, 3, 3, 1024)    4096      \n",
      "_________________________________________________________________\n",
      "time_distributed_77 (TimeDis (None, 15, 1, 1, 1024)    0         \n",
      "_________________________________________________________________\n",
      "time_distributed_78 (TimeDis (None, 15, 1024)          0         \n",
      "_________________________________________________________________\n",
      "lstm_3 (LSTM)                (None, 128)               590336    \n",
      "_________________________________________________________________\n",
      "dropout_11 (Dropout)         (None, 128)               0         \n",
      "_________________________________________________________________\n",
      "dense_11 (Dense)             (None, 128)               16512     \n",
      "_________________________________________________________________\n",
      "dropout_12 (Dropout)         (None, 128)               0         \n",
      "_________________________________________________________________\n",
      "dense_12 (Dense)             (None, 5)                 645       \n",
      "=================================================================\n",
      "Total params: 3,840,453\n",
      "Trainable params: 3,816,517\n",
      "Non-trainable params: 23,936\n",
      "_________________________________________________________________\n",
      "None\n"
     ]
    }
   ],
   "source": [
    "image_height=120\n",
    "image_width=120\n",
    "channels=3\n",
    "num_classes=5\n",
    "total_frames=30\n",
    "frames_feed=15\n",
    "batch_size=20\n",
    "num_epochs=20\n",
    "skip = 2\n",
    "\n",
    "mobilenet_transfer = mobilenet.MobileNet(weights = 'imagenet', include_top=False)\n",
    "        \n",
    "model_6_cnnrnn = Sequential()\n",
    "model_6_cnnrnn.add(TimeDistributed(mobilenet_transfer, input_shape=(frames_feed, image_height,image_width,channels)))\n",
    " \n",
    "model_6_cnnrnn.add(TimeDistributed(BatchNormalization()))\n",
    "model_6_cnnrnn.add(TimeDistributed(MaxPooling2D((2, 2))))\n",
    "model_6_cnnrnn.add(TimeDistributed(Flatten()))\n",
    "\n",
    "model_6_cnnrnn.add(LSTM(128))\n",
    "model_6_cnnrnn.add(Dropout(0.25))\n",
    "        \n",
    "model_6_cnnrnn.add(Dense(128, activation='relu'))\n",
    "model_6_cnnrnn.add(Dropout(0.25))\n",
    "        \n",
    "model_6_cnnrnn.add(Dense(num_classes, activation='softmax'))\n",
    "        \n",
    "optimiser = optimizers.Adam()\n",
    "model_6_cnnrnn.compile(optimizer=optimiser, loss='categorical_crossentropy', metrics=['categorical_accuracy'])\n",
    "\n",
    "print(model_6_cnnrnn.summary())"
   ]
  },
  {
   "cell_type": "code",
   "execution_count": 46,
   "metadata": {},
   "outputs": [],
   "source": [
    "train_generator = generator(train_path, train_doc, augment = False)\n",
    "val_generator = generator(val_path, val_doc)"
   ]
  },
  {
   "cell_type": "code",
   "execution_count": 47,
   "metadata": {},
   "outputs": [],
   "source": [
    "model_name = 'model_init' + '_' + str(datetime.datetime.now()).replace(' ','').replace(':','_') + '/'\n",
    "    \n",
    "if not os.path.exists(model_name):\n",
    "    os.mkdir(model_name)\n",
    "        \n",
    "filepath = model_name + 'model-{epoch:05d}-{loss:.5f}-{categorical_accuracy:.5f}-{val_loss:.5f}-{val_categorical_accuracy:.5f}.h5'"
   ]
  },
  {
   "cell_type": "code",
   "execution_count": 48,
   "metadata": {},
   "outputs": [],
   "source": [
    "checkpoint = ModelCheckpoint(filepath, monitor='val_loss', verbose=1, save_best_only=False, save_weights_only=False, mode='auto', period=1)\n",
    "LR = ReduceLROnPlateau(monitor='val_loss', factor=0.2, verbose=1, patience=4)\n",
    "callbacks_list = [checkpoint, LR]"
   ]
  },
  {
   "cell_type": "code",
   "execution_count": 49,
   "metadata": {},
   "outputs": [],
   "source": [
    "if (num_train_seq%batch_size) == 0:\n",
    "    steps_per_epoch = int(num_train_seq/batch_size)\n",
    "else:\n",
    "    steps_per_epoch = (num_train_seq//batch_size) + 1\n",
    "\n",
    "if (num_val_seq%batch_size) == 0:\n",
    "    validation_steps = int(num_val_seq/batch_size)\n",
    "else:\n",
    "    validation_steps = (num_val_seq//batch_size) + 1"
   ]
  },
  {
   "cell_type": "code",
   "execution_count": 50,
   "metadata": {},
   "outputs": [
    {
     "name": "stdout",
     "output_type": "stream",
     "text": [
      "Epoch 1/20\n"
     ]
    },
    {
     "name": "stderr",
     "output_type": "stream",
     "text": [
      "/mnt/disks/user/anaconda3/lib/python3.6/site-packages/ipykernel_launcher.py:14: DeprecationWarning: `imresize` is deprecated!\n",
      "`imresize` is deprecated in SciPy 1.0.0, and will be removed in 1.2.0.\n",
      "Use ``skimage.transform.resize`` instead.\n",
      "  \n"
     ]
    },
    {
     "name": "stdout",
     "output_type": "stream",
     "text": [
      "34/34 [==============================] - 56s 2s/step - loss: 1.3115 - categorical_accuracy: 0.4687 - val_loss: 1.0083 - val_categorical_accuracy: 0.6000\n",
      "\n",
      "Epoch 00001: saving model to model_init_2020-03-0215_32_01.875325/model-00001-1.28796-0.47210-1.00829-0.60000.h5\n",
      "Epoch 2/20\n",
      "34/34 [==============================] - 38s 1s/step - loss: 0.7641 - categorical_accuracy: 0.7042 - val_loss: 0.8543 - val_categorical_accuracy: 0.6700\n",
      "\n",
      "Epoch 00002: saving model to model_init_2020-03-0215_32_01.875325/model-00002-0.77725-0.69683-0.85432-0.67000.h5\n",
      "Epoch 3/20\n",
      "34/34 [==============================] - 41s 1s/step - loss: 0.4185 - categorical_accuracy: 0.8484 - val_loss: 0.3993 - val_categorical_accuracy: 0.8400\n",
      "\n",
      "Epoch 00003: saving model to model_init_2020-03-0215_32_01.875325/model-00003-0.40971-0.86124-0.39931-0.84000.h5\n",
      "Epoch 4/20\n",
      "34/34 [==============================] - 44s 1s/step - loss: 0.3364 - categorical_accuracy: 0.8859 - val_loss: 0.4016 - val_categorical_accuracy: 0.8400\n",
      "\n",
      "Epoch 00004: saving model to model_init_2020-03-0215_32_01.875325/model-00004-0.31943-0.89140-0.40157-0.84000.h5\n",
      "Epoch 5/20\n",
      "34/34 [==============================] - 44s 1s/step - loss: 0.3576 - categorical_accuracy: 0.8918 - val_loss: 0.5000 - val_categorical_accuracy: 0.8200\n",
      "\n",
      "Epoch 00005: saving model to model_init_2020-03-0215_32_01.875325/model-00005-0.32994-0.89744-0.50001-0.82000.h5\n",
      "Epoch 6/20\n",
      "34/34 [==============================] - 44s 1s/step - loss: 0.2417 - categorical_accuracy: 0.9191 - val_loss: 0.3620 - val_categorical_accuracy: 0.8800\n",
      "\n",
      "Epoch 00006: saving model to model_init_2020-03-0215_32_01.875325/model-00006-0.24051-0.91704-0.36200-0.88000.h5\n",
      "Epoch 7/20\n",
      "34/34 [==============================] - 44s 1s/step - loss: 0.2060 - categorical_accuracy: 0.9345 - val_loss: 0.6219 - val_categorical_accuracy: 0.8200\n",
      "\n",
      "Epoch 00009: saving model to model_init_2020-03-0215_32_01.875325/model-00009-0.19947-0.94118-0.62194-0.82000.h5\n",
      "Epoch 10/20\n",
      "34/34 [==============================] - 44s 1s/step - loss: 0.1757 - categorical_accuracy: 0.9411 - val_loss: 0.4460 - val_categorical_accuracy: 0.8700\n",
      "\n",
      "Epoch 00010: saving model to model_init_2020-03-0215_32_01.875325/model-00010-0.15097-0.95626-0.44600-0.87000.h5\n",
      "\n",
      "Epoch 00010: ReduceLROnPlateau reducing learning rate to 0.00020000000949949026.\n",
      "Epoch 11/20\n",
      "34/34 [==============================] - 43s 1s/step - loss: 0.1516 - categorical_accuracy: 0.9448 - val_loss: 0.3203 - val_categorical_accuracy: 0.8800\n",
      "\n",
      "Epoch 00011: saving model to model_init_2020-03-0215_32_01.875325/model-00011-0.13451-0.95173-0.32033-0.88000.h5\n",
      "Epoch 12/20\n",
      "34/34 [==============================] - 44s 1s/step - loss: 0.1099 - categorical_accuracy: 0.9735 - val_loss: 0.3396 - val_categorical_accuracy: 0.8800\n",
      "\n",
      "Epoch 00012: saving model to model_init_2020-03-0215_32_01.875325/model-00012-0.11116-0.97285-0.33960-0.88000.h5\n",
      "Epoch 13/20\n",
      "34/34 [==============================] - 44s 1s/step - loss: 0.0539 - categorical_accuracy: 0.9912 - val_loss: 0.3976 - val_categorical_accuracy: 0.8400\n",
      "\n",
      "Epoch 00013: saving model to model_init_2020-03-0215_32_01.875325/model-00013-0.05339-0.99095-0.39758-0.84000.h5\n",
      "Epoch 14/20\n",
      "34/34 [==============================] - 44s 1s/step - loss: 0.0493 - categorical_accuracy: 0.9868 - val_loss: 0.2316 - val_categorical_accuracy: 0.9100\n",
      "\n",
      "Epoch 00014: saving model to model_init_2020-03-0215_32_01.875325/model-00014-0.04977-0.98643-0.23160-0.91000.h5\n",
      "Epoch 15/20\n",
      "34/34 [==============================] - 43s 1s/step - loss: 0.0632 - categorical_accuracy: 0.9772 - val_loss: 0.2055 - val_categorical_accuracy: 0.9300\n",
      "\n",
      "Epoch 00015: saving model to model_init_2020-03-0215_32_01.875325/model-00015-0.05468-0.98492-0.20552-0.93000.h5\n",
      "Epoch 16/20\n",
      "34/34 [==============================] - 43s 1s/step - loss: 0.0152 - categorical_accuracy: 0.9971 - val_loss: 0.1699 - val_categorical_accuracy: 0.9500\n",
      "\n",
      "Epoch 00016: saving model to model_init_2020-03-0215_32_01.875325/model-00016-0.01535-0.99698-0.16991-0.95000.h5\n",
      "Epoch 17/20\n",
      "34/34 [==============================] - 44s 1s/step - loss: 0.0160 - categorical_accuracy: 0.9985 - val_loss: 0.1815 - val_categorical_accuracy: 0.9400\n",
      "\n",
      "Epoch 00017: saving model to model_init_2020-03-0215_32_01.875325/model-00017-0.01515-0.99849-0.18150-0.94000.h5\n",
      "Epoch 18/20\n",
      "34/34 [==============================] - 44s 1s/step - loss: 0.0346 - categorical_accuracy: 0.9890 - val_loss: 0.1802 - val_categorical_accuracy: 0.9300\n",
      "\n",
      "Epoch 00018: saving model to model_init_2020-03-0215_32_01.875325/model-00018-0.01631-0.99698-0.18022-0.93000.h5\n",
      "Epoch 19/20\n",
      "34/34 [==============================] - 43s 1s/step - loss: 0.0773 - categorical_accuracy: 0.9765 - val_loss: 0.4875 - val_categorical_accuracy: 0.8800\n",
      "\n",
      "Epoch 00019: saving model to model_init_2020-03-0215_32_01.875325/model-00019-0.07920-0.97587-0.48746-0.88000.h5\n",
      "Epoch 20/20\n",
      "34/34 [==============================] - 43s 1s/step - loss: 0.1387 - categorical_accuracy: 0.9661 - val_loss: 0.2603 - val_categorical_accuracy: 0.9100\n",
      "\n",
      "Epoch 00020: saving model to model_init_2020-03-0215_32_01.875325/model-00020-0.06931-0.98190-0.26028-0.91000.h5\n",
      "\n",
      "Epoch 00020: ReduceLROnPlateau reducing learning rate to 4.0000001899898055e-05.\n"
     ]
    },
    {
     "data": {
      "text/plain": [
       "<keras.callbacks.History at 0x7fb592189c88>"
      ]
     },
     "execution_count": 50,
     "metadata": {},
     "output_type": "execute_result"
    }
   ],
   "source": [
    "num_epochs=20\n",
    "model_6_cnnrnn_history = model_6_cnnrnn.fit_generator(train_generator, steps_per_epoch=steps_per_epoch, epochs=num_epochs, verbose=1, \n",
    "                      callbacks=callbacks_list, validation_data=val_generator, validation_steps=validation_steps, \n",
    "                      class_weight=None, workers=1, initial_epoch=0)\n",
    "model_6_cnnrnn_history"
   ]
  },
  {
   "cell_type": "code",
   "execution_count": 51,
   "metadata": {},
   "outputs": [
    {
     "data": {
      "image/png": "[encoded data removed]",
      "text/plain": [
       "<Figure size 1080x288 with 2 Axes>"
      ]
     },
     "metadata": {},
     "output_type": "display_data"
    }
   ],
   "source": [
    "plot(model_6_cnnrnn_history)"
   ]
  },
  {
   "cell_type": "markdown",
   "metadata": {},
   "source": [
    "#### Model-7_CNNRNN\n",
    "transfer learning with GRU"
   ]
  },
  {
   "cell_type": "code",
   "execution_count": 52,
   "metadata": {},
   "outputs": [
    {
     "name": "stderr",
     "output_type": "stream",
     "text": [
      "/mnt/disks/user/anaconda3/lib/python3.6/site-packages/keras_applications/mobilenet.py:206: UserWarning: MobileNet shape is undefined. Weights for input shape (224, 224) will be loaded.\n",
      "  warnings.warn('MobileNet shape is undefined.'\n"
     ]
    },
    {
     "name": "stdout",
     "output_type": "stream",
     "text": [
      "_________________________________________________________________\n",
      "Layer (type)                 Output Shape              Param #   \n",
      "=================================================================\n",
      "time_distributed_79 (TimeDis (None, 15, 3, 3, 1024)    3228864   \n",
      "_________________________________________________________________\n",
      "time_distributed_80 (TimeDis (None, 15, 3, 3, 1024)    4096      \n",
      "_________________________________________________________________\n",
      "time_distributed_81 (TimeDis (None, 15, 1, 1, 1024)    0         \n",
      "_________________________________________________________________\n",
      "time_distributed_82 (TimeDis (None, 15, 1024)          0         \n",
      "_________________________________________________________________\n",
      "gru_4 (GRU)                  (None, 128)               442752    \n",
      "_________________________________________________________________\n",
      "dropout_13 (Dropout)         (None, 128)               0         \n",
      "_________________________________________________________________\n",
      "dense_13 (Dense)             (None, 128)               16512     \n",
      "_________________________________________________________________\n",
      "dropout_14 (Dropout)         (None, 128)               0         \n",
      "_________________________________________________________________\n",
      "dense_14 (Dense)             (None, 5)                 645       \n",
      "=================================================================\n",
      "Total params: 3,692,869\n",
      "Trainable params: 3,668,933\n",
      "Non-trainable params: 23,936\n",
      "_________________________________________________________________\n",
      "None\n"
     ]
    }
   ],
   "source": [
    "image_height=120\n",
    "image_width=120\n",
    "channels=3\n",
    "num_classes=5\n",
    "total_frames=30\n",
    "frames_feed=15\n",
    "batch_size=20\n",
    "num_epochs=20\n",
    "skip = 2\n",
    "\n",
    "mobilenet_transfer = mobilenet.MobileNet(weights = 'imagenet', include_top=False)\n",
    "        \n",
    "model_7_cnnrnn = Sequential()\n",
    "model_7_cnnrnn.add(TimeDistributed(mobilenet_transfer, input_shape=(frames_feed, image_height,image_width,channels)))\n",
    " \n",
    "model_7_cnnrnn.add(TimeDistributed(BatchNormalization()))\n",
    "model_7_cnnrnn.add(TimeDistributed(MaxPooling2D((2, 2))))\n",
    "model_7_cnnrnn.add(TimeDistributed(Flatten()))\n",
    "\n",
    "model_7_cnnrnn.add(GRU(128))\n",
    "model_7_cnnrnn.add(Dropout(0.25))\n",
    "        \n",
    "model_7_cnnrnn.add(Dense(128, activation='relu'))\n",
    "model_7_cnnrnn.add(Dropout(0.25))\n",
    "        \n",
    "model_7_cnnrnn.add(Dense(num_classes, activation='softmax'))\n",
    "        \n",
    "optimiser = optimizers.Adam()\n",
    "model_7_cnnrnn.compile(optimizer=optimiser, loss='categorical_crossentropy', metrics=['categorical_accuracy'])\n",
    "\n",
    "print(model_7_cnnrnn.summary())"
   ]
  },
  {
   "cell_type": "code",
   "execution_count": 53,
   "metadata": {},
   "outputs": [],
   "source": [
    "train_generator = generator(train_path, train_doc, augment = False)\n",
    "val_generator = generator(val_path, val_doc)"
   ]
  },
  {
   "cell_type": "code",
   "execution_count": 54,
   "metadata": {},
   "outputs": [],
   "source": [
    "model_name = 'model_init' + '_' + str(datetime.datetime.now()).replace(' ','').replace(':','_') + '/'\n",
    "    \n",
    "if not os.path.exists(model_name):\n",
    "    os.mkdir(model_name)\n",
    "        \n",
    "filepath = model_name + 'model-{epoch:05d}-{loss:.5f}-{categorical_accuracy:.5f}-{val_loss:.5f}-{val_categorical_accuracy:.5f}.h5'"
   ]
  },
  {
   "cell_type": "code",
   "execution_count": 55,
   "metadata": {},
   "outputs": [],
   "source": [
    "checkpoint = ModelCheckpoint(filepath, monitor='val_loss', verbose=1, save_best_only=False, save_weights_only=False, mode='auto', period=1)\n",
    "LR = ReduceLROnPlateau(monitor='val_loss', factor=0.2, verbose=1, patience=4)\n",
    "callbacks_list = [checkpoint, LR]"
   ]
  },
  {
   "cell_type": "code",
   "execution_count": 56,
   "metadata": {},
   "outputs": [],
   "source": [
    "if (num_train_seq%batch_size) == 0:\n",
    "    steps_per_epoch = int(num_train_seq/batch_size)\n",
    "else:\n",
    "    steps_per_epoch = (num_train_seq//batch_size) + 1\n",
    "\n",
    "if (num_val_seq%batch_size) == 0:\n",
    "    validation_steps = int(num_val_seq/batch_size)\n",
    "else:\n",
    "    validation_steps = (num_val_seq//batch_size) + 1"
   ]
  },
  {
   "cell_type": "code",
   "execution_count": 57,
   "metadata": {},
   "outputs": [
    {
     "name": "stdout",
     "output_type": "stream",
     "text": [
      "Epoch 1/20\n"
     ]
    },
    {
     "name": "stderr",
     "output_type": "stream",
     "text": [
      "/mnt/disks/user/anaconda3/lib/python3.6/site-packages/ipykernel_launcher.py:14: DeprecationWarning: `imresize` is deprecated!\n",
      "`imresize` is deprecated in SciPy 1.0.0, and will be removed in 1.2.0.\n",
      "Use ``skimage.transform.resize`` instead.\n",
      "  \n"
     ]
    },
    {
     "name": "stdout",
     "output_type": "stream",
     "text": [
      "34/34 [==============================] - 52s 2s/step - loss: 1.2837 - categorical_accuracy: 0.4577 - val_loss: 0.8849 - val_categorical_accuracy: 0.6200\n",
      "\n",
      "Epoch 00001: saving model to model_init_2020-03-0215_47_06.290314/model-00001-1.29470-0.45249-0.88494-0.62000.h5\n",
      "Epoch 2/20\n",
      "34/34 [==============================] - 38s 1s/step - loss: 0.5674 - categorical_accuracy: 0.7815 - val_loss: 0.4933 - val_categorical_accuracy: 0.8100\n",
      "\n",
      "Epoch 00002: saving model to model_init_2020-03-0215_47_06.290314/model-00002-0.54812-0.78431-0.49335-0.81000.h5\n",
      "Epoch 3/20\n",
      "34/34 [==============================] - 44s 1s/step - loss: 0.3451 - categorical_accuracy: 0.8874 - val_loss: 0.4423 - val_categorical_accuracy: 0.8400\n",
      "\n",
      "Epoch 00003: saving model to model_init_2020-03-0215_47_06.290314/model-00003-0.33249-0.89291-0.44228-0.84000.h5\n",
      "Epoch 4/20\n",
      "34/34 [==============================] - 43s 1s/step - loss: 0.2114 - categorical_accuracy: 0.9279 - val_loss: 0.3316 - val_categorical_accuracy: 0.9000\n",
      "\n",
      "Epoch 00004: saving model to model_init_2020-03-0215_47_06.290314/model-00004-0.20579-0.92609-0.33158-0.90000.h5\n",
      "Epoch 5/20\n",
      "34/34 [==============================] - 43s 1s/step - loss: 0.2011 - categorical_accuracy: 0.9286 - val_loss: 0.4083 - val_categorical_accuracy: 0.8100\n",
      "\n",
      "Epoch 00005: saving model to model_init_2020-03-0215_47_06.290314/model-00005-0.19862-0.93514-0.40828-0.81000.h5\n",
      "Epoch 6/20\n",
      "34/34 [==============================] - 44s 1s/step - loss: 0.1735 - categorical_accuracy: 0.9419 - val_loss: 0.4312 - val_categorical_accuracy: 0.8500\n",
      "\n",
      "Epoch 00006: saving model to model_init_2020-03-0215_47_06.290314/model-00006-0.15552-0.94872-0.43118-0.85000.h5\n",
      "Epoch 7/20\n",
      "34/34 [==============================] - 44s 1s/step - loss: 0.2086 - categorical_accuracy: 0.9198 - val_loss: 0.3552 - val_categorical_accuracy: 0.8500\n",
      "\n",
      "Epoch 00007: saving model to model_init_2020-03-0215_47_06.290314/model-00007-0.19895-0.92609-0.35518-0.85000.h5\n",
      "Epoch 8/20\n",
      "34/34 [==============================] - 43s 1s/step - loss: 0.1209 - categorical_accuracy: 0.9662 - val_loss: 1.0069 - val_categorical_accuracy: 0.6700\n",
      "\n",
      "Epoch 00008: saving model to model_init_2020-03-0215_47_06.290314/model-00008-0.12179-0.96531-1.00691-0.67000.h5\n",
      "\n",
      "Epoch 00008: ReduceLROnPlateau reducing learning rate to 0.00020000000949949026.\n",
      "Epoch 9/20\n",
      "34/34 [==============================] - 42s 1s/step - loss: 0.0890 - categorical_accuracy: 0.9765 - val_loss: 0.5876 - val_categorical_accuracy: 0.8200\n",
      "\n",
      "Epoch 00009: saving model to model_init_2020-03-0215_47_06.290314/model-00009-0.08628-0.97587-0.58765-0.82000.h5\n",
      "Epoch 10/20\n",
      "34/34 [==============================] - 44s 1s/step - loss: 0.0897 - categorical_accuracy: 0.9647 - val_loss: 0.2783 - val_categorical_accuracy: 0.8900\n",
      "\n",
      "Epoch 00010: saving model to model_init_2020-03-0215_47_06.290314/model-00010-0.06391-0.98039-0.27829-0.89000.h5\n",
      "Epoch 11/20\n",
      "34/34 [==============================] - 44s 1s/step - loss: 0.0556 - categorical_accuracy: 0.9809 - val_loss: 0.1491 - val_categorical_accuracy: 0.9500\n",
      "\n",
      "Epoch 00011: saving model to model_init_2020-03-0215_47_06.290314/model-00011-0.05660-0.98039-0.14913-0.95000.h5\n",
      "Epoch 12/20\n",
      "34/34 [==============================] - 44s 1s/step - loss: 0.0479 - categorical_accuracy: 0.9765 - val_loss: 0.2169 - val_categorical_accuracy: 0.9200\n",
      "\n",
      "Epoch 00012: saving model to model_init_2020-03-0215_47_06.290314/model-00012-0.02543-0.99246-0.21694-0.92000.h5\n",
      "Epoch 13/20\n",
      "34/34 [==============================] - 43s 1s/step - loss: 0.0209 - categorical_accuracy: 0.9956 - val_loss: 0.2078 - val_categorical_accuracy: 0.9200\n",
      "\n",
      "Epoch 00013: saving model to model_init_2020-03-0215_47_06.290314/model-00013-0.02043-0.99548-0.20783-0.92000.h5\n",
      "Epoch 14/20\n",
      "34/34 [==============================] - 43s 1s/step - loss: 0.0160 - categorical_accuracy: 0.9904 - val_loss: 0.1889 - val_categorical_accuracy: 0.9300\n",
      "\n",
      "Epoch 00014: saving model to model_init_2020-03-0215_47_06.290314/model-00014-0.01066-0.99849-0.18890-0.93000.h5\n",
      "Epoch 15/20\n",
      "34/34 [==============================] - 43s 1s/step - loss: 0.0303 - categorical_accuracy: 0.9941 - val_loss: 0.1451 - val_categorical_accuracy: 0.9700\n",
      "\n",
      "Epoch 00015: saving model to model_init_2020-03-0215_47_06.290314/model-00015-0.03097-0.99397-0.14513-0.97000.h5\n",
      "Epoch 16/20\n",
      "34/34 [==============================] - 43s 1s/step - loss: 0.0176 - categorical_accuracy: 0.9956 - val_loss: 0.1187 - val_categorical_accuracy: 0.9700\n",
      "\n",
      "Epoch 00016: saving model to model_init_2020-03-0215_47_06.290314/model-00016-0.01769-0.99548-0.11874-0.97000.h5\n",
      "Epoch 17/20\n",
      "34/34 [==============================] - 44s 1s/step - loss: 0.0085 - categorical_accuracy: 0.9985 - val_loss: 0.1128 - val_categorical_accuracy: 0.9800\n",
      "\n",
      "Epoch 00017: saving model to model_init_2020-03-0215_47_06.290314/model-00017-0.00865-0.99849-0.11279-0.98000.h5\n",
      "Epoch 18/20\n",
      "34/34 [==============================] - 44s 1s/step - loss: 0.0142 - categorical_accuracy: 0.9941 - val_loss: 0.1236 - val_categorical_accuracy: 0.9700\n",
      "\n",
      "Epoch 00018: saving model to model_init_2020-03-0215_47_06.290314/model-00018-0.01263-0.99397-0.12361-0.97000.h5\n",
      "Epoch 19/20\n",
      "34/34 [==============================] - 43s 1s/step - loss: 0.0058 - categorical_accuracy: 1.0000 - val_loss: 0.1350 - val_categorical_accuracy: 0.9700\n",
      "\n",
      "Epoch 00019: saving model to model_init_2020-03-0215_47_06.290314/model-00019-0.00573-1.00000-0.13501-0.97000.h5\n",
      "Epoch 20/20\n",
      "34/34 [==============================] - 43s 1s/step - loss: 0.0046 - categorical_accuracy: 1.0000 - val_loss: 0.1278 - val_categorical_accuracy: 0.9700\n",
      "\n",
      "Epoch 00020: saving model to model_init_2020-03-0215_47_06.290314/model-00020-0.00414-1.00000-0.12776-0.97000.h5\n"
     ]
    },
    {
     "data": {
      "text/plain": [
       "<keras.callbacks.History at 0x7fb589ea4400>"
      ]
     },
     "execution_count": 57,
     "metadata": {},
     "output_type": "execute_result"
    }
   ],
   "source": [
    "num_epochs=20\n",
    "model_7_cnnrnn_history = model_7_cnnrnn.fit_generator(train_generator, steps_per_epoch=steps_per_epoch, epochs=num_epochs, verbose=1, \n",
    "                      callbacks=callbacks_list, validation_data=val_generator, validation_steps=validation_steps, \n",
    "                      class_weight=None, workers=1, initial_epoch=0)\n",
    "model_7_cnnrnn_history"
   ]
  },
  {
   "cell_type": "code",
   "execution_count": 58,
   "metadata": {},
   "outputs": [
    {
     "data": {
      "image/png": "[encoded data removed]",
      "text/plain": [
       "<Figure size 1080x288 with 2 Axes>"
      ]
     },
     "metadata": {},
     "output_type": "display_data"
    }
   ],
   "source": [
    "plot(model_7_cnnrnn_history)"
   ]
  },
  {
   "cell_type": "code",
   "execution_count": null,
   "metadata": {},
   "outputs": [],
   "source": []
  }
 ],
 "metadata": {
  "kernelspec": {
   "display_name": "Python 3",
   "language": "python",
   "name": "python3"
  },
  "language_info": {
   "codemirror_mode": {
    "name": "ipython",
    "version": 3
   },
   "file_extension": ".py",
   "mimetype": "text/x-python",
   "name": "python",
   "nbconvert_exporter": "python",
   "pygments_lexer": "ipython3",
   "version": "3.6.8"
  }
 },
 "nbformat": 4,
 "nbformat_minor": 2
}
